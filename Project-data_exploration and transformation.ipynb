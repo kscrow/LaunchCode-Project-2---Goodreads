{
 "cells": [
  {
   "cell_type": "markdown",
   "metadata": {},
   "source": [
    "R shiny - look at Iris k-means clustering for a simple example\n"
   ]
  },
  {
   "cell_type": "markdown",
   "metadata": {},
   "source": [
    "The Goodreads dataset was taken from www.goodreads.com\n",
    "It contain comprehensive list of all books listed in goodreads as of April 2019.\n",
    "In this notebook I will attempt to recreate many of the functionalities found in the Goodreads website."
   ]
  },
  {
   "cell_type": "code",
   "execution_count": 1,
   "metadata": {},
   "outputs": [],
   "source": [
    "import pandas as pd\n",
    "import matplotlib.pyplot as plt\n",
    "import seaborn as sns; sns.set()\n",
    "import numpy as np\n",
    "from sklearn.preprocessing import StandardScaler\n",
    "%matplotlib inline"
   ]
  },
  {
   "cell_type": "markdown",
   "metadata": {},
   "source": [
    "### 1. Loading and initial examination of the goodread dataset."
   ]
  },
  {
   "cell_type": "code",
   "execution_count": 2,
   "metadata": {
    "scrolled": false
   },
   "outputs": [
    {
     "data": {
      "text/html": [
       "<div>\n",
       "<style scoped>\n",
       "    .dataframe tbody tr th:only-of-type {\n",
       "        vertical-align: middle;\n",
       "    }\n",
       "\n",
       "    .dataframe tbody tr th {\n",
       "        vertical-align: top;\n",
       "    }\n",
       "\n",
       "    .dataframe thead th {\n",
       "        text-align: right;\n",
       "    }\n",
       "</style>\n",
       "<table border=\"1\" class=\"dataframe\">\n",
       "  <thead>\n",
       "    <tr style=\"text-align: right;\">\n",
       "      <th></th>\n",
       "      <th>bookID</th>\n",
       "      <th>title</th>\n",
       "      <th>authors</th>\n",
       "      <th>average_rating</th>\n",
       "      <th>isbn</th>\n",
       "      <th>isbn13</th>\n",
       "      <th>language_code</th>\n",
       "      <th># num_pages</th>\n",
       "      <th>ratings_count</th>\n",
       "      <th>text_reviews_count</th>\n",
       "      <th>Unnamed: 10</th>\n",
       "    </tr>\n",
       "  </thead>\n",
       "  <tbody>\n",
       "    <tr>\n",
       "      <th>0</th>\n",
       "      <td>1</td>\n",
       "      <td>Harry Potter and the Half-Blood Prince (Harry ...</td>\n",
       "      <td>J.K. Rowling-Mary GrandPré</td>\n",
       "      <td>4.56</td>\n",
       "      <td>439785960</td>\n",
       "      <td>9780439785969</td>\n",
       "      <td>eng</td>\n",
       "      <td>652</td>\n",
       "      <td>1944099</td>\n",
       "      <td>26249</td>\n",
       "      <td>NaN</td>\n",
       "    </tr>\n",
       "    <tr>\n",
       "      <th>1</th>\n",
       "      <td>2</td>\n",
       "      <td>Harry Potter and the Order of the Phoenix (Har...</td>\n",
       "      <td>J.K. Rowling-Mary GrandPré</td>\n",
       "      <td>4.49</td>\n",
       "      <td>439358078</td>\n",
       "      <td>9780439358071</td>\n",
       "      <td>eng</td>\n",
       "      <td>870</td>\n",
       "      <td>1996446</td>\n",
       "      <td>27613</td>\n",
       "      <td>NaN</td>\n",
       "    </tr>\n",
       "    <tr>\n",
       "      <th>2</th>\n",
       "      <td>3</td>\n",
       "      <td>Harry Potter and the Sorcerer's Stone (Harry P...</td>\n",
       "      <td>J.K. Rowling-Mary GrandPré</td>\n",
       "      <td>4.47</td>\n",
       "      <td>439554934</td>\n",
       "      <td>9780439554930</td>\n",
       "      <td>eng</td>\n",
       "      <td>320</td>\n",
       "      <td>5629932</td>\n",
       "      <td>70390</td>\n",
       "      <td>NaN</td>\n",
       "    </tr>\n",
       "    <tr>\n",
       "      <th>3</th>\n",
       "      <td>4</td>\n",
       "      <td>Harry Potter and the Chamber of Secrets (Harry...</td>\n",
       "      <td>J.K. Rowling</td>\n",
       "      <td>4.41</td>\n",
       "      <td>439554896</td>\n",
       "      <td>9780439554893</td>\n",
       "      <td>eng</td>\n",
       "      <td>352</td>\n",
       "      <td>6267</td>\n",
       "      <td>272</td>\n",
       "      <td>NaN</td>\n",
       "    </tr>\n",
       "    <tr>\n",
       "      <th>4</th>\n",
       "      <td>5</td>\n",
       "      <td>Harry Potter and the Prisoner of Azkaban (Harr...</td>\n",
       "      <td>J.K. Rowling-Mary GrandPré</td>\n",
       "      <td>4.55</td>\n",
       "      <td>043965548X</td>\n",
       "      <td>9780439655484</td>\n",
       "      <td>eng</td>\n",
       "      <td>435</td>\n",
       "      <td>2149872</td>\n",
       "      <td>33964</td>\n",
       "      <td>NaN</td>\n",
       "    </tr>\n",
       "  </tbody>\n",
       "</table>\n",
       "</div>"
      ],
      "text/plain": [
       "   bookID                                              title  \\\n",
       "0       1  Harry Potter and the Half-Blood Prince (Harry ...   \n",
       "1       2  Harry Potter and the Order of the Phoenix (Har...   \n",
       "2       3  Harry Potter and the Sorcerer's Stone (Harry P...   \n",
       "3       4  Harry Potter and the Chamber of Secrets (Harry...   \n",
       "4       5  Harry Potter and the Prisoner of Azkaban (Harr...   \n",
       "\n",
       "                      authors average_rating        isbn         isbn13  \\\n",
       "0  J.K. Rowling-Mary GrandPré           4.56   439785960  9780439785969   \n",
       "1  J.K. Rowling-Mary GrandPré           4.49   439358078  9780439358071   \n",
       "2  J.K. Rowling-Mary GrandPré           4.47   439554934  9780439554930   \n",
       "3                J.K. Rowling           4.41   439554896  9780439554893   \n",
       "4  J.K. Rowling-Mary GrandPré           4.55  043965548X  9780439655484   \n",
       "\n",
       "  language_code # num_pages  ratings_count  text_reviews_count  Unnamed: 10  \n",
       "0           eng         652        1944099               26249          NaN  \n",
       "1           eng         870        1996446               27613          NaN  \n",
       "2           eng         320        5629932               70390          NaN  \n",
       "3           eng         352           6267                 272          NaN  \n",
       "4           eng         435        2149872               33964          NaN  "
      ]
     },
     "execution_count": 2,
     "metadata": {},
     "output_type": "execute_result"
    }
   ],
   "source": [
    "bookdata = pd.read_csv('mybookfile.csv')\n",
    "bookdata.head(5)"
   ]
  },
  {
   "cell_type": "code",
   "execution_count": 3,
   "metadata": {},
   "outputs": [
    {
     "data": {
      "text/plain": [
       "(13719, 11)"
      ]
     },
     "execution_count": 3,
     "metadata": {},
     "output_type": "execute_result"
    }
   ],
   "source": [
    "#How many books are in the data\n",
    "bookdata.shape"
   ]
  },
  {
   "cell_type": "code",
   "execution_count": 4,
   "metadata": {},
   "outputs": [
    {
     "name": "stdout",
     "output_type": "stream",
     "text": [
      "<class 'pandas.core.frame.DataFrame'>\n",
      "RangeIndex: 13719 entries, 0 to 13718\n",
      "Data columns (total 11 columns):\n",
      "bookID                13719 non-null int64\n",
      "title                 13719 non-null object\n",
      "authors               13719 non-null object\n",
      "average_rating        13719 non-null object\n",
      "isbn                  13719 non-null object\n",
      "isbn13                13719 non-null object\n",
      "language_code         13719 non-null object\n",
      "# num_pages           13719 non-null object\n",
      "ratings_count         13719 non-null int64\n",
      "text_reviews_count    13719 non-null int64\n",
      "Unnamed: 10           5 non-null float64\n",
      "dtypes: float64(1), int64(3), object(7)\n",
      "memory usage: 1.2+ MB\n"
     ]
    }
   ],
   "source": [
    "bookdata.info()"
   ]
  },
  {
   "cell_type": "code",
   "execution_count": 5,
   "metadata": {},
   "outputs": [
    {
     "data": {
      "text/html": [
       "<div>\n",
       "<style scoped>\n",
       "    .dataframe tbody tr th:only-of-type {\n",
       "        vertical-align: middle;\n",
       "    }\n",
       "\n",
       "    .dataframe tbody tr th {\n",
       "        vertical-align: top;\n",
       "    }\n",
       "\n",
       "    .dataframe thead th {\n",
       "        text-align: right;\n",
       "    }\n",
       "</style>\n",
       "<table border=\"1\" class=\"dataframe\">\n",
       "  <thead>\n",
       "    <tr style=\"text-align: right;\">\n",
       "      <th></th>\n",
       "      <th>bookID</th>\n",
       "      <th>ratings_count</th>\n",
       "      <th>text_reviews_count</th>\n",
       "      <th>Unnamed: 10</th>\n",
       "    </tr>\n",
       "  </thead>\n",
       "  <tbody>\n",
       "    <tr>\n",
       "      <th>count</th>\n",
       "      <td>13719.000000</td>\n",
       "      <td>1.371900e+04</td>\n",
       "      <td>13719.000000</td>\n",
       "      <td>5.000000</td>\n",
       "    </tr>\n",
       "    <tr>\n",
       "      <th>mean</th>\n",
       "      <td>22160.579270</td>\n",
       "      <td>1.775903e+04</td>\n",
       "      <td>533.606385</td>\n",
       "      <td>6.200000</td>\n",
       "    </tr>\n",
       "    <tr>\n",
       "      <th>std</th>\n",
       "      <td>13699.603351</td>\n",
       "      <td>1.129371e+05</td>\n",
       "      <td>2528.600316</td>\n",
       "      <td>6.418723</td>\n",
       "    </tr>\n",
       "    <tr>\n",
       "      <th>min</th>\n",
       "      <td>1.000000</td>\n",
       "      <td>0.000000e+00</td>\n",
       "      <td>0.000000</td>\n",
       "      <td>0.000000</td>\n",
       "    </tr>\n",
       "    <tr>\n",
       "      <th>25%</th>\n",
       "      <td>10621.000000</td>\n",
       "      <td>8.300000e+01</td>\n",
       "      <td>7.000000</td>\n",
       "      <td>4.000000</td>\n",
       "    </tr>\n",
       "    <tr>\n",
       "      <th>50%</th>\n",
       "      <td>21322.000000</td>\n",
       "      <td>6.300000e+02</td>\n",
       "      <td>40.000000</td>\n",
       "      <td>4.000000</td>\n",
       "    </tr>\n",
       "    <tr>\n",
       "      <th>75%</th>\n",
       "      <td>33322.000000</td>\n",
       "      <td>4.737000e+03</td>\n",
       "      <td>222.000000</td>\n",
       "      <td>6.000000</td>\n",
       "    </tr>\n",
       "    <tr>\n",
       "      <th>max</th>\n",
       "      <td>47709.000000</td>\n",
       "      <td>5.629932e+06</td>\n",
       "      <td>93619.000000</td>\n",
       "      <td>17.000000</td>\n",
       "    </tr>\n",
       "  </tbody>\n",
       "</table>\n",
       "</div>"
      ],
      "text/plain": [
       "             bookID  ratings_count  text_reviews_count  Unnamed: 10\n",
       "count  13719.000000   1.371900e+04        13719.000000     5.000000\n",
       "mean   22160.579270   1.775903e+04          533.606385     6.200000\n",
       "std    13699.603351   1.129371e+05         2528.600316     6.418723\n",
       "min        1.000000   0.000000e+00            0.000000     0.000000\n",
       "25%    10621.000000   8.300000e+01            7.000000     4.000000\n",
       "50%    21322.000000   6.300000e+02           40.000000     4.000000\n",
       "75%    33322.000000   4.737000e+03          222.000000     6.000000\n",
       "max    47709.000000   5.629932e+06        93619.000000    17.000000"
      ]
     },
     "execution_count": 5,
     "metadata": {},
     "output_type": "execute_result"
    }
   ],
   "source": [
    "bookdata.describe()"
   ]
  },
  {
   "cell_type": "markdown",
   "metadata": {},
   "source": [
    "### 2. Investigate nature of Unnamed column that contains little data"
   ]
  },
  {
   "cell_type": "code",
   "execution_count": 6,
   "metadata": {},
   "outputs": [
    {
     "name": "stdout",
     "output_type": "stream",
     "text": [
      "       bookID                                              title  \\\n",
      "4010    12224  Streetcar Suburbs: The Process of Growth in Bo...   \n",
      "5686    16914                  The Tolkien Fan's Medieval Reader   \n",
      "7054    22128                     Patriots (The Coming Collapse)   \n",
      "10599   34523  The Flying Sorcerers: More Comic Tales of Fantasy   \n",
      "10666   34889  Brown's Star Atlas: Showing All The Bright Sta...   \n",
      "\n",
      "                                                 authors  \\\n",
      "4010                                     Sam Bass Warner   \n",
      "5686            David E. Smith (Turgon of TheOneRing.net   \n",
      "7054                                        James Wesley   \n",
      "10599  Peter Haining-Roald Dahl-Terry Pratchett-Angel...   \n",
      "10666                                              Brown   \n",
      "\n",
      "                                          average_rating  isbn      isbn13  \\\n",
      "4010                                   Jr.-Sam B. Warner  3.57   674842111   \n",
      "5686    one of the founding members of this Tolkien w...   3.6  1593600119   \n",
      "7054                                              Rawles  3.63  156384155X   \n",
      "10599   Jr.-C.S. Lewis-P.G. Wodehouse-Michael Moorcoc...  3.98  1857237250   \n",
      "10666                                     Son & Ferguson     0   851742718   \n",
      "\n",
      "      language_code # num_pages  ratings_count  text_reviews_count  \\\n",
      "4010    9.78067E+12       en-US            236                  55   \n",
      "5686    9.78159E+12         eng            400                  25   \n",
      "7054    9.78156E+12         eng            342                  38   \n",
      "10599   9.78186E+12         eng            383                2197   \n",
      "10666   9.78085E+12         eng             49                   0   \n",
      "\n",
      "       Unnamed: 10  \n",
      "4010           6.0  \n",
      "5686           4.0  \n",
      "7054           4.0  \n",
      "10599         17.0  \n",
      "10666          0.0  \n"
     ]
    }
   ],
   "source": [
    "#what is the Unnamed colunm?  There is only 5 entries - probably not important but will leave for now.\n",
    "nonnanin10 = bookdata[bookdata['Unnamed: 10'].notnull()]\n",
    "print(nonnanin10)"
   ]
  },
  {
   "cell_type": "markdown",
   "metadata": {},
   "source": [
    "It looks like there is a shift in the cells in all of rows that contain a float in Unnamed: 10 colunm. I will fix these mistakes.  Note the isbn # in isbn13 don't all seen correct.  I will investigate this as well.\n",
    "\n"
   ]
  },
  {
   "cell_type": "code",
   "execution_count": 7,
   "metadata": {},
   "outputs": [
    {
     "name": "stdout",
     "output_type": "stream",
     "text": [
      "      bookID                                              title  \\\n",
      "4010   12224  Streetcar Suburbs: The Process of Growth in Bo...   \n",
      "\n",
      "              authors      average_rating  isbn     isbn13 language_code  \\\n",
      "4010  Sam Bass Warner   Jr.-Sam B. Warner  3.57  674842111   9.78067E+12   \n",
      "\n",
      "     # num_pages  ratings_count  text_reviews_count  Unnamed: 10  \n",
      "4010       en-US            236                  55          6.0  \n"
     ]
    }
   ],
   "source": [
    "print(bookdata.loc[[4010]])\n"
   ]
  },
  {
   "cell_type": "code",
   "execution_count": 8,
   "metadata": {},
   "outputs": [],
   "source": [
    "\n",
    "bookdata.at[4010,'average_rating'] = bookdata.at[4010, 'isbn']\n",
    "bookdata.at[4010,'isbn'] = bookdata.at[4010, 'isbn13']\n",
    "bookdata.at[4010,'isbn13'] = bookdata.at[4010, 'language_code']\n",
    "bookdata.at[4010,'language_code'] = bookdata.at[4010, '# num_pages']\n",
    "bookdata.at[4010,'# num_pages'] = bookdata.at[4010, 'ratings_count']\n",
    "bookdata.at[4010,'ratings_count'] = bookdata.at[4010, 'text_reviews_count']\n",
    "bookdata.at[4010,'text_reviews_count'] = bookdata.at[4010, 'Unnamed: 10']"
   ]
  },
  {
   "cell_type": "code",
   "execution_count": 9,
   "metadata": {},
   "outputs": [
    {
     "name": "stdout",
     "output_type": "stream",
     "text": [
      "      bookID                                              title  \\\n",
      "4010   12224  Streetcar Suburbs: The Process of Growth in Bo...   \n",
      "\n",
      "              authors average_rating       isbn       isbn13 language_code  \\\n",
      "4010  Sam Bass Warner           3.57  674842111  9.78067E+12         en-US   \n",
      "\n",
      "     # num_pages  ratings_count  text_reviews_count  Unnamed: 10  \n",
      "4010         236             55                   6          6.0  \n"
     ]
    }
   ],
   "source": [
    "print(bookdata.loc[[4010]])"
   ]
  },
  {
   "cell_type": "code",
   "execution_count": 10,
   "metadata": {},
   "outputs": [],
   "source": [
    "#I like to change the name of a df anytime I change it and will do this throughout\n",
    "bookdata1=bookdata"
   ]
  },
  {
   "cell_type": "code",
   "execution_count": 11,
   "metadata": {},
   "outputs": [
    {
     "name": "stdout",
     "output_type": "stream",
     "text": [
      "      bookID                              title  \\\n",
      "5686   16914  The Tolkien Fan's Medieval Reader   \n",
      "\n",
      "                                       authors  \\\n",
      "5686  David E. Smith (Turgon of TheOneRing.net   \n",
      "\n",
      "                                         average_rating isbn      isbn13  \\\n",
      "5686   one of the founding members of this Tolkien w...  3.6  1593600119   \n",
      "\n",
      "     language_code # num_pages  ratings_count  text_reviews_count  Unnamed: 10  \n",
      "5686   9.78159E+12         eng            400                  25          4.0  \n"
     ]
    }
   ],
   "source": [
    "print(bookdata1.loc[[5686]])\n"
   ]
  },
  {
   "cell_type": "code",
   "execution_count": 12,
   "metadata": {},
   "outputs": [],
   "source": [
    "bookdata1.at[5686,'authors'] = 'David E. Smith'\n",
    "bookdata1.at[5686,'average_rating'] = bookdata1.at[5686, 'isbn']\n",
    "bookdata1.at[5686,'isbn'] = bookdata1.at[5686, 'isbn13']\n",
    "bookdata1.at[5686,'isbn13'] = bookdata1.at[5686, 'language_code']\n",
    "bookdata1.at[5686,'language_code'] = bookdata1.at[5686, '# num_pages']\n",
    "bookdata1.at[5686,'# num_pages'] = bookdata1.at[5686, 'ratings_count']\n",
    "bookdata1.at[5686,'ratings_count'] = bookdata1.at[5686, 'text_reviews_count']\n",
    "bookdata1.at[5686,'text_reviews_count'] = bookdata1.at[5686, 'Unnamed: 10']"
   ]
  },
  {
   "cell_type": "code",
   "execution_count": 13,
   "metadata": {},
   "outputs": [
    {
     "name": "stdout",
     "output_type": "stream",
     "text": [
      "      bookID                              title         authors  \\\n",
      "5686   16914  The Tolkien Fan's Medieval Reader  David E. Smith   \n",
      "\n",
      "     average_rating        isbn       isbn13 language_code # num_pages  \\\n",
      "5686            3.6  1593600119  9.78159E+12           eng         400   \n",
      "\n",
      "      ratings_count  text_reviews_count  Unnamed: 10  \n",
      "5686             25                   4          4.0  \n"
     ]
    }
   ],
   "source": [
    "print(bookdata1.loc[[5686]])"
   ]
  },
  {
   "cell_type": "code",
   "execution_count": 14,
   "metadata": {},
   "outputs": [],
   "source": [
    "bookdata2 = bookdata1"
   ]
  },
  {
   "cell_type": "code",
   "execution_count": 15,
   "metadata": {},
   "outputs": [
    {
     "name": "stdout",
     "output_type": "stream",
     "text": [
      "      bookID                           title       authors average_rating  \\\n",
      "7054   22128  Patriots (The Coming Collapse)  James Wesley         Rawles   \n",
      "\n",
      "      isbn      isbn13 language_code # num_pages  ratings_count  \\\n",
      "7054  3.63  156384155X   9.78156E+12         eng            342   \n",
      "\n",
      "      text_reviews_count  Unnamed: 10  \n",
      "7054                  38          4.0  \n"
     ]
    }
   ],
   "source": [
    "print(bookdata2.loc[[7054]])"
   ]
  },
  {
   "cell_type": "code",
   "execution_count": 16,
   "metadata": {},
   "outputs": [],
   "source": [
    "bookdata2.at[7054,'authors'] = 'James Wesley Rawles'\n",
    "bookdata2.at[7054,'average_rating'] = bookdata2.at[7054, 'isbn']\n",
    "bookdata2.at[7054,'isbn'] = bookdata2.at[7054, 'isbn13']\n",
    "bookdata2.at[7054,'isbn13'] = bookdata2.at[7054, 'language_code']\n",
    "bookdata2.at[7054,'language_code'] = bookdata2.at[7054, '# num_pages']\n",
    "bookdata2.at[7054,'# num_pages'] = bookdata2.at[7054, 'ratings_count']\n",
    "bookdata2.at[7054,'ratings_count'] = bookdata2.at[7054, 'text_reviews_count']\n",
    "bookdata2.at[7054,'text_reviews_count'] = bookdata2.at[7054, 'Unnamed: 10']"
   ]
  },
  {
   "cell_type": "code",
   "execution_count": 17,
   "metadata": {},
   "outputs": [
    {
     "name": "stdout",
     "output_type": "stream",
     "text": [
      "      bookID                           title              authors  \\\n",
      "7054   22128  Patriots (The Coming Collapse)  James Wesley Rawles   \n",
      "\n",
      "     average_rating        isbn       isbn13 language_code # num_pages  \\\n",
      "7054           3.63  156384155X  9.78156E+12           eng         342   \n",
      "\n",
      "      ratings_count  text_reviews_count  Unnamed: 10  \n",
      "7054             38                   4          4.0  \n"
     ]
    }
   ],
   "source": [
    "print(bookdata2.loc[[7054]])"
   ]
  },
  {
   "cell_type": "code",
   "execution_count": 18,
   "metadata": {},
   "outputs": [],
   "source": [
    "bookdata3 = bookdata2"
   ]
  },
  {
   "cell_type": "code",
   "execution_count": 19,
   "metadata": {},
   "outputs": [
    {
     "data": {
      "text/plain": [
       "(13719, 11)"
      ]
     },
     "execution_count": 19,
     "metadata": {},
     "output_type": "execute_result"
    }
   ],
   "source": [
    "bookdata2.shape"
   ]
  },
  {
   "cell_type": "code",
   "execution_count": 20,
   "metadata": {},
   "outputs": [
    {
     "name": "stdout",
     "output_type": "stream",
     "text": [
      "bookID                                                            34523\n",
      "title                 The Flying Sorcerers: More Comic Tales of Fantasy\n",
      "authors               Peter Haining-Roald Dahl-Terry Pratchett-Angel...\n",
      "average_rating         Jr.-C.S. Lewis-P.G. Wodehouse-Michael Moorcoc...\n",
      "isbn                                                               3.98\n",
      "isbn13                                                       1857237250\n",
      "language_code                                               9.78186E+12\n",
      "# num_pages                                                         eng\n",
      "ratings_count                                                       383\n",
      "text_reviews_count                                                 2197\n",
      "Unnamed: 10                                                          17\n",
      "Name: 10599, dtype: object\n"
     ]
    }
   ],
   "source": [
    "print(bookdata3.loc[10599])"
   ]
  },
  {
   "cell_type": "code",
   "execution_count": 21,
   "metadata": {},
   "outputs": [
    {
     "name": "stdout",
     "output_type": "stream",
     "text": [
      "Peter Haining-Roald Dahl-Terry Pratchett-Angela Carter-Arthur C. Clarke-Kurt Vonnegut\n",
      " Jr.-C.S. Lewis-P.G. Wodehouse-Michael Moorcock-L. Sprague de Camp-Fletcher Pratt-Eric Knight-Mervyn Peake-Piers Anthony-John Collier-Fredric Brown-Nelson S. Bond-Thomas M. Disch-Robert Bloch-Stephen Leacock-John Wyndham-Stanisław Lem-Cordwainer Smith-Robert Sheckley-William F. Nolan-Harry Harrison\n"
     ]
    }
   ],
   "source": [
    "print(bookdata3.loc[10599, 'authors'])\n",
    "print(bookdata3.loc[10599, 'average_rating'])"
   ]
  },
  {
   "cell_type": "code",
   "execution_count": 22,
   "metadata": {},
   "outputs": [],
   "source": [
    "bookdata3.at[10599, 'authors'] = 'Peter Haining-Roald Dahl-Terry Pratchett-Angela Carter-Arthur C. Clarke-Kurt Vonnegut Jr.-C.S. Lewis-P.G. Wodehouse-Michael Moorcock-L. Sprague de Camp-Fletcher Pratt-Eric Knight-Mervyn Peake-Piers Anthony-John Collier-Fredric Brown-Nelson S. Bond-Thomas M. Disch-Robert Bloch-Stephen Leacock-John Wyndham-Stanisław Lem-Cordwainer Smith-Robert Sheckley-William F. Nolan-Harry Harrison'\n",
    "bookdata3.at[10599, 'average_rating'] = bookdata3.at[10599, 'isbn']\n",
    "bookdata3.at[10599, 'isbn'] = bookdata3.at[10599, 'isbn13']\n",
    "bookdata3.at[10599, 'isbn13'] = bookdata3.at[10599, 'language_code']\n",
    "bookdata3.at[10599, 'language_code'] = bookdata3.at[10599, '# num_pages']\n",
    "bookdata3.at[10599, '# num_pages'] = bookdata3.at[10599, 'ratings_count']\n",
    "bookdata3.at[10599, 'ratings_count'] = bookdata3.at[10599, 'text_reviews_count']\n",
    "bookdata3.at[10599, 'text_reviews_count'] = bookdata3.at[10599, 'Unnamed: 10']"
   ]
  },
  {
   "cell_type": "code",
   "execution_count": 23,
   "metadata": {},
   "outputs": [
    {
     "name": "stdout",
     "output_type": "stream",
     "text": [
      "bookID                                                            34523\n",
      "title                 The Flying Sorcerers: More Comic Tales of Fantasy\n",
      "authors               Peter Haining-Roald Dahl-Terry Pratchett-Angel...\n",
      "average_rating                                                     3.98\n",
      "isbn                                                         1857237250\n",
      "isbn13                                                      9.78186E+12\n",
      "language_code                                                       eng\n",
      "# num_pages                                                         383\n",
      "ratings_count                                                      2197\n",
      "text_reviews_count                                                   17\n",
      "Unnamed: 10                                                          17\n",
      "Name: 10599, dtype: object\n"
     ]
    }
   ],
   "source": [
    "print(bookdata3.loc[10599])"
   ]
  },
  {
   "cell_type": "code",
   "execution_count": 24,
   "metadata": {},
   "outputs": [],
   "source": [
    "bookdata4=bookdata3"
   ]
  },
  {
   "cell_type": "code",
   "execution_count": 25,
   "metadata": {},
   "outputs": [
    {
     "name": "stdout",
     "output_type": "stream",
     "text": [
      "bookID                                                            34889\n",
      "title                 Brown's Star Atlas: Showing All The Bright Sta...\n",
      "authors                                                           Brown\n",
      "average_rating                                           Son & Ferguson\n",
      "isbn                                                                  0\n",
      "isbn13                                                        851742718\n",
      "language_code                                               9.78085E+12\n",
      "# num_pages                                                         eng\n",
      "ratings_count                                                        49\n",
      "text_reviews_count                                                    0\n",
      "Unnamed: 10                                                           0\n",
      "Name: 10666, dtype: object\n"
     ]
    }
   ],
   "source": [
    "print(bookdata4.loc[10666])"
   ]
  },
  {
   "cell_type": "code",
   "execution_count": 26,
   "metadata": {},
   "outputs": [],
   "source": [
    "bookdata4.at[10666, 'average_rating'] = bookdata3.at[10666, 'isbn']\n",
    "bookdata4.at[10666, 'isbn'] = bookdata3.at[10666, 'isbn13']\n",
    "bookdata4.at[10666, 'isbn13'] = bookdata3.at[10666, 'language_code']\n",
    "bookdata4.at[10666, 'language_code'] = bookdata3.at[10666, '# num_pages']\n",
    "bookdata4.at[10666, '# num_pages'] = bookdata3.at[10666, 'ratings_count']\n",
    "bookdata4.at[10666, 'ratings_count'] = bookdata3.at[10666, 'text_reviews_count']\n",
    "bookdata4.at[10666, 'text_reviews_count'] = bookdata3.at[10666, 'Unnamed: 10']"
   ]
  },
  {
   "cell_type": "code",
   "execution_count": 27,
   "metadata": {},
   "outputs": [
    {
     "name": "stdout",
     "output_type": "stream",
     "text": [
      "bookID                                                            34889\n",
      "title                 Brown's Star Atlas: Showing All The Bright Sta...\n",
      "authors                                                           Brown\n",
      "average_rating                                                        0\n",
      "isbn                                                          851742718\n",
      "isbn13                                                      9.78085E+12\n",
      "language_code                                                       eng\n",
      "# num_pages                                                          49\n",
      "ratings_count                                                         0\n",
      "text_reviews_count                                                    0\n",
      "Unnamed: 10                                                           0\n",
      "Name: 10666, dtype: object\n"
     ]
    }
   ],
   "source": [
    "print(bookdata4.loc[10666])"
   ]
  },
  {
   "cell_type": "code",
   "execution_count": 28,
   "metadata": {},
   "outputs": [
    {
     "name": "stdout",
     "output_type": "stream",
     "text": [
      "Brown's Star Atlas: Showing All The Bright Stars With Full Instructions How To Find And Use Them For Navigational Purposes And Department Of Trade Examinations.\n"
     ]
    }
   ],
   "source": [
    "#looking to see if more info about author is mixed in with title\n",
    "print(bookdata4.loc[10666, \"title\"])"
   ]
  },
  {
   "cell_type": "markdown",
   "metadata": {},
   "source": [
    "The last row that was corrected has no rating/rewiews and the author name is incomplete.  I will keep it anyway for now.\n",
    "May still be able to recommend based on category, however, note that it this time I don't believe I have enough info it this dataset to place books in categories"
   ]
  },
  {
   "cell_type": "markdown",
   "metadata": {},
   "source": [
    "### 3.  Delete the Unnamed column and take a second look at data\n",
    "The usable data in the unnamed a column is now in the correct column, therefore it can now be deleted.\n"
   ]
  },
  {
   "cell_type": "code",
   "execution_count": 29,
   "metadata": {},
   "outputs": [
    {
     "data": {
      "text/html": [
       "<div>\n",
       "<style scoped>\n",
       "    .dataframe tbody tr th:only-of-type {\n",
       "        vertical-align: middle;\n",
       "    }\n",
       "\n",
       "    .dataframe tbody tr th {\n",
       "        vertical-align: top;\n",
       "    }\n",
       "\n",
       "    .dataframe thead th {\n",
       "        text-align: right;\n",
       "    }\n",
       "</style>\n",
       "<table border=\"1\" class=\"dataframe\">\n",
       "  <thead>\n",
       "    <tr style=\"text-align: right;\">\n",
       "      <th></th>\n",
       "      <th>bookID</th>\n",
       "      <th>title</th>\n",
       "      <th>authors</th>\n",
       "      <th>average_rating</th>\n",
       "      <th>isbn</th>\n",
       "      <th>isbn13</th>\n",
       "      <th>language_code</th>\n",
       "      <th>pages</th>\n",
       "      <th>ratings_count</th>\n",
       "      <th>text_reviews_count</th>\n",
       "    </tr>\n",
       "  </thead>\n",
       "  <tbody>\n",
       "    <tr>\n",
       "      <th>0</th>\n",
       "      <td>1</td>\n",
       "      <td>Harry Potter and the Half-Blood Prince (Harry ...</td>\n",
       "      <td>J.K. Rowling-Mary GrandPré</td>\n",
       "      <td>4.56</td>\n",
       "      <td>439785960</td>\n",
       "      <td>9780439785969</td>\n",
       "      <td>eng</td>\n",
       "      <td>652</td>\n",
       "      <td>1944099</td>\n",
       "      <td>26249</td>\n",
       "    </tr>\n",
       "    <tr>\n",
       "      <th>1</th>\n",
       "      <td>2</td>\n",
       "      <td>Harry Potter and the Order of the Phoenix (Har...</td>\n",
       "      <td>J.K. Rowling-Mary GrandPré</td>\n",
       "      <td>4.49</td>\n",
       "      <td>439358078</td>\n",
       "      <td>9780439358071</td>\n",
       "      <td>eng</td>\n",
       "      <td>870</td>\n",
       "      <td>1996446</td>\n",
       "      <td>27613</td>\n",
       "    </tr>\n",
       "    <tr>\n",
       "      <th>2</th>\n",
       "      <td>3</td>\n",
       "      <td>Harry Potter and the Sorcerer's Stone (Harry P...</td>\n",
       "      <td>J.K. Rowling-Mary GrandPré</td>\n",
       "      <td>4.47</td>\n",
       "      <td>439554934</td>\n",
       "      <td>9780439554930</td>\n",
       "      <td>eng</td>\n",
       "      <td>320</td>\n",
       "      <td>5629932</td>\n",
       "      <td>70390</td>\n",
       "    </tr>\n",
       "    <tr>\n",
       "      <th>3</th>\n",
       "      <td>4</td>\n",
       "      <td>Harry Potter and the Chamber of Secrets (Harry...</td>\n",
       "      <td>J.K. Rowling</td>\n",
       "      <td>4.41</td>\n",
       "      <td>439554896</td>\n",
       "      <td>9780439554893</td>\n",
       "      <td>eng</td>\n",
       "      <td>352</td>\n",
       "      <td>6267</td>\n",
       "      <td>272</td>\n",
       "    </tr>\n",
       "    <tr>\n",
       "      <th>4</th>\n",
       "      <td>5</td>\n",
       "      <td>Harry Potter and the Prisoner of Azkaban (Harr...</td>\n",
       "      <td>J.K. Rowling-Mary GrandPré</td>\n",
       "      <td>4.55</td>\n",
       "      <td>043965548X</td>\n",
       "      <td>9780439655484</td>\n",
       "      <td>eng</td>\n",
       "      <td>435</td>\n",
       "      <td>2149872</td>\n",
       "      <td>33964</td>\n",
       "    </tr>\n",
       "  </tbody>\n",
       "</table>\n",
       "</div>"
      ],
      "text/plain": [
       "   bookID                                              title  \\\n",
       "0       1  Harry Potter and the Half-Blood Prince (Harry ...   \n",
       "1       2  Harry Potter and the Order of the Phoenix (Har...   \n",
       "2       3  Harry Potter and the Sorcerer's Stone (Harry P...   \n",
       "3       4  Harry Potter and the Chamber of Secrets (Harry...   \n",
       "4       5  Harry Potter and the Prisoner of Azkaban (Harr...   \n",
       "\n",
       "                      authors average_rating        isbn         isbn13  \\\n",
       "0  J.K. Rowling-Mary GrandPré           4.56   439785960  9780439785969   \n",
       "1  J.K. Rowling-Mary GrandPré           4.49   439358078  9780439358071   \n",
       "2  J.K. Rowling-Mary GrandPré           4.47   439554934  9780439554930   \n",
       "3                J.K. Rowling           4.41   439554896  9780439554893   \n",
       "4  J.K. Rowling-Mary GrandPré           4.55  043965548X  9780439655484   \n",
       "\n",
       "  language_code pages  ratings_count  text_reviews_count  \n",
       "0           eng   652        1944099               26249  \n",
       "1           eng   870        1996446               27613  \n",
       "2           eng   320        5629932               70390  \n",
       "3           eng   352           6267                 272  \n",
       "4           eng   435        2149872               33964  "
      ]
     },
     "execution_count": 29,
     "metadata": {},
     "output_type": "execute_result"
    }
   ],
   "source": [
    "bookdata5 = bookdata4.drop('Unnamed: 10', axis=1) \n",
    "bookdata5.rename(columns={'# num_pages': 'pages'}, inplace=True)\n",
    "bookdata5.head()"
   ]
  },
  {
   "cell_type": "code",
   "execution_count": 30,
   "metadata": {},
   "outputs": [
    {
     "data": {
      "text/plain": [
       "(13719, 10)"
      ]
     },
     "execution_count": 30,
     "metadata": {},
     "output_type": "execute_result"
    }
   ],
   "source": [
    "bookdata5.shape"
   ]
  },
  {
   "cell_type": "code",
   "execution_count": 31,
   "metadata": {},
   "outputs": [
    {
     "name": "stdout",
     "output_type": "stream",
     "text": [
      "<class 'pandas.core.frame.DataFrame'>\n",
      "RangeIndex: 13719 entries, 0 to 13718\n",
      "Data columns (total 10 columns):\n",
      "bookID                13719 non-null int64\n",
      "title                 13719 non-null object\n",
      "authors               13719 non-null object\n",
      "average_rating        13719 non-null float64\n",
      "isbn                  13719 non-null object\n",
      "isbn13                13719 non-null object\n",
      "language_code         13719 non-null object\n",
      "pages                 13719 non-null int64\n",
      "ratings_count         13719 non-null int64\n",
      "text_reviews_count    13719 non-null int64\n",
      "dtypes: float64(1), int64(4), object(5)\n",
      "memory usage: 1.0+ MB\n"
     ]
    }
   ],
   "source": [
    "#Now I will make the average rate and the # num_pages numerical\n",
    "bookdata5['average_rating'] = pd.to_numeric(bookdata5['average_rating'])\n",
    "bookdata5['pages'] = pd.to_numeric(bookdata5['pages'])\n",
    "bookdata5.info()"
   ]
  },
  {
   "cell_type": "code",
   "execution_count": 32,
   "metadata": {},
   "outputs": [
    {
     "data": {
      "text/html": [
       "<div>\n",
       "<style scoped>\n",
       "    .dataframe tbody tr th:only-of-type {\n",
       "        vertical-align: middle;\n",
       "    }\n",
       "\n",
       "    .dataframe tbody tr th {\n",
       "        vertical-align: top;\n",
       "    }\n",
       "\n",
       "    .dataframe thead th {\n",
       "        text-align: right;\n",
       "    }\n",
       "</style>\n",
       "<table border=\"1\" class=\"dataframe\">\n",
       "  <thead>\n",
       "    <tr style=\"text-align: right;\">\n",
       "      <th></th>\n",
       "      <th>bookID</th>\n",
       "      <th>average_rating</th>\n",
       "      <th>pages</th>\n",
       "      <th>ratings_count</th>\n",
       "      <th>text_reviews_count</th>\n",
       "    </tr>\n",
       "  </thead>\n",
       "  <tbody>\n",
       "    <tr>\n",
       "      <th>count</th>\n",
       "      <td>13719.000000</td>\n",
       "      <td>13719.000000</td>\n",
       "      <td>13719.000000</td>\n",
       "      <td>1.371900e+04</td>\n",
       "      <td>13719.000000</td>\n",
       "    </tr>\n",
       "    <tr>\n",
       "      <th>mean</th>\n",
       "      <td>22160.579270</td>\n",
       "      <td>3.930265</td>\n",
       "      <td>342.380713</td>\n",
       "      <td>1.775909e+04</td>\n",
       "      <td>533.439901</td>\n",
       "    </tr>\n",
       "    <tr>\n",
       "      <th>std</th>\n",
       "      <td>13699.603351</td>\n",
       "      <td>0.359432</td>\n",
       "      <td>252.618887</td>\n",
       "      <td>1.129371e+05</td>\n",
       "      <td>2528.565801</td>\n",
       "    </tr>\n",
       "    <tr>\n",
       "      <th>min</th>\n",
       "      <td>1.000000</td>\n",
       "      <td>0.000000</td>\n",
       "      <td>0.000000</td>\n",
       "      <td>0.000000e+00</td>\n",
       "      <td>0.000000</td>\n",
       "    </tr>\n",
       "    <tr>\n",
       "      <th>25%</th>\n",
       "      <td>10621.000000</td>\n",
       "      <td>3.770000</td>\n",
       "      <td>196.000000</td>\n",
       "      <td>8.250000e+01</td>\n",
       "      <td>7.000000</td>\n",
       "    </tr>\n",
       "    <tr>\n",
       "      <th>50%</th>\n",
       "      <td>21322.000000</td>\n",
       "      <td>3.960000</td>\n",
       "      <td>301.000000</td>\n",
       "      <td>6.300000e+02</td>\n",
       "      <td>40.000000</td>\n",
       "    </tr>\n",
       "    <tr>\n",
       "      <th>75%</th>\n",
       "      <td>33322.000000</td>\n",
       "      <td>4.130000</td>\n",
       "      <td>421.000000</td>\n",
       "      <td>4.737000e+03</td>\n",
       "      <td>222.000000</td>\n",
       "    </tr>\n",
       "    <tr>\n",
       "      <th>max</th>\n",
       "      <td>47709.000000</td>\n",
       "      <td>5.000000</td>\n",
       "      <td>6576.000000</td>\n",
       "      <td>5.629932e+06</td>\n",
       "      <td>93619.000000</td>\n",
       "    </tr>\n",
       "  </tbody>\n",
       "</table>\n",
       "</div>"
      ],
      "text/plain": [
       "             bookID  average_rating         pages  ratings_count  \\\n",
       "count  13719.000000    13719.000000  13719.000000   1.371900e+04   \n",
       "mean   22160.579270        3.930265    342.380713   1.775909e+04   \n",
       "std    13699.603351        0.359432    252.618887   1.129371e+05   \n",
       "min        1.000000        0.000000      0.000000   0.000000e+00   \n",
       "25%    10621.000000        3.770000    196.000000   8.250000e+01   \n",
       "50%    21322.000000        3.960000    301.000000   6.300000e+02   \n",
       "75%    33322.000000        4.130000    421.000000   4.737000e+03   \n",
       "max    47709.000000        5.000000   6576.000000   5.629932e+06   \n",
       "\n",
       "       text_reviews_count  \n",
       "count        13719.000000  \n",
       "mean           533.439901  \n",
       "std           2528.565801  \n",
       "min              0.000000  \n",
       "25%              7.000000  \n",
       "50%             40.000000  \n",
       "75%            222.000000  \n",
       "max          93619.000000  "
      ]
     },
     "execution_count": 32,
     "metadata": {},
     "output_type": "execute_result"
    }
   ],
   "source": [
    "bookdata5.describe()"
   ]
  },
  {
   "cell_type": "code",
   "execution_count": 33,
   "metadata": {},
   "outputs": [
    {
     "data": {
      "image/png": "[encoded data removed]",
      "text/plain": [
       "<Figure size 900x900 with 25 Axes>"
      ]
     },
     "metadata": {
      "needs_background": "light"
     },
     "output_type": "display_data"
    }
   ],
   "source": [
    "g = sns.PairGrid(bookdata5, vars=['bookID', 'average_rating', 'pages', 'ratings_count', 'text_reviews_count' ])\n",
    "g = g.map(plt.scatter)"
   ]
  },
  {
   "cell_type": "markdown",
   "metadata": {},
   "source": [
    "Based on the plots, I am dropping book ID.  It appears the only thing that has a slight correlation with book ID is the rating_count and text_reviews_count - will verify below"
   ]
  },
  {
   "cell_type": "code",
   "execution_count": 34,
   "metadata": {},
   "outputs": [
    {
     "data": {
      "image/png": "[encoded data removed]",
      "text/plain": [
       "<Figure size 864x864 with 2 Axes>"
      ]
     },
     "metadata": {
      "needs_background": "light"
     },
     "output_type": "display_data"
    }
   ],
   "source": [
    "correlatedata = bookdata5.corr()\n",
    "names = correlatedata.index\n",
    "plt.figure(figsize =(12,12))\n",
    "corrmap = sns.heatmap(bookdata5[names].corr(), annot = True, cmap ='coolwarm')"
   ]
  },
  {
   "cell_type": "code",
   "execution_count": 35,
   "metadata": {},
   "outputs": [
    {
     "data": {
      "text/html": [
       "<div>\n",
       "<style scoped>\n",
       "    .dataframe tbody tr th:only-of-type {\n",
       "        vertical-align: middle;\n",
       "    }\n",
       "\n",
       "    .dataframe tbody tr th {\n",
       "        vertical-align: top;\n",
       "    }\n",
       "\n",
       "    .dataframe thead th {\n",
       "        text-align: right;\n",
       "    }\n",
       "</style>\n",
       "<table border=\"1\" class=\"dataframe\">\n",
       "  <thead>\n",
       "    <tr style=\"text-align: right;\">\n",
       "      <th></th>\n",
       "      <th>title</th>\n",
       "      <th>authors</th>\n",
       "      <th>average_rating</th>\n",
       "      <th>isbn</th>\n",
       "      <th>isbn13</th>\n",
       "      <th>language_code</th>\n",
       "      <th>pages</th>\n",
       "      <th>ratings_count</th>\n",
       "      <th>text_reviews_count</th>\n",
       "    </tr>\n",
       "  </thead>\n",
       "  <tbody>\n",
       "    <tr>\n",
       "      <th>0</th>\n",
       "      <td>Harry Potter and the Half-Blood Prince (Harry ...</td>\n",
       "      <td>J.K. Rowling-Mary GrandPré</td>\n",
       "      <td>4.56</td>\n",
       "      <td>439785960</td>\n",
       "      <td>9780439785969</td>\n",
       "      <td>eng</td>\n",
       "      <td>652</td>\n",
       "      <td>1944099</td>\n",
       "      <td>26249</td>\n",
       "    </tr>\n",
       "    <tr>\n",
       "      <th>1</th>\n",
       "      <td>Harry Potter and the Order of the Phoenix (Har...</td>\n",
       "      <td>J.K. Rowling-Mary GrandPré</td>\n",
       "      <td>4.49</td>\n",
       "      <td>439358078</td>\n",
       "      <td>9780439358071</td>\n",
       "      <td>eng</td>\n",
       "      <td>870</td>\n",
       "      <td>1996446</td>\n",
       "      <td>27613</td>\n",
       "    </tr>\n",
       "    <tr>\n",
       "      <th>2</th>\n",
       "      <td>Harry Potter and the Sorcerer's Stone (Harry P...</td>\n",
       "      <td>J.K. Rowling-Mary GrandPré</td>\n",
       "      <td>4.47</td>\n",
       "      <td>439554934</td>\n",
       "      <td>9780439554930</td>\n",
       "      <td>eng</td>\n",
       "      <td>320</td>\n",
       "      <td>5629932</td>\n",
       "      <td>70390</td>\n",
       "    </tr>\n",
       "    <tr>\n",
       "      <th>3</th>\n",
       "      <td>Harry Potter and the Chamber of Secrets (Harry...</td>\n",
       "      <td>J.K. Rowling</td>\n",
       "      <td>4.41</td>\n",
       "      <td>439554896</td>\n",
       "      <td>9780439554893</td>\n",
       "      <td>eng</td>\n",
       "      <td>352</td>\n",
       "      <td>6267</td>\n",
       "      <td>272</td>\n",
       "    </tr>\n",
       "    <tr>\n",
       "      <th>4</th>\n",
       "      <td>Harry Potter and the Prisoner of Azkaban (Harr...</td>\n",
       "      <td>J.K. Rowling-Mary GrandPré</td>\n",
       "      <td>4.55</td>\n",
       "      <td>043965548X</td>\n",
       "      <td>9780439655484</td>\n",
       "      <td>eng</td>\n",
       "      <td>435</td>\n",
       "      <td>2149872</td>\n",
       "      <td>33964</td>\n",
       "    </tr>\n",
       "  </tbody>\n",
       "</table>\n",
       "</div>"
      ],
      "text/plain": [
       "                                               title  \\\n",
       "0  Harry Potter and the Half-Blood Prince (Harry ...   \n",
       "1  Harry Potter and the Order of the Phoenix (Har...   \n",
       "2  Harry Potter and the Sorcerer's Stone (Harry P...   \n",
       "3  Harry Potter and the Chamber of Secrets (Harry...   \n",
       "4  Harry Potter and the Prisoner of Azkaban (Harr...   \n",
       "\n",
       "                      authors  average_rating        isbn         isbn13  \\\n",
       "0  J.K. Rowling-Mary GrandPré            4.56   439785960  9780439785969   \n",
       "1  J.K. Rowling-Mary GrandPré            4.49   439358078  9780439358071   \n",
       "2  J.K. Rowling-Mary GrandPré            4.47   439554934  9780439554930   \n",
       "3                J.K. Rowling            4.41   439554896  9780439554893   \n",
       "4  J.K. Rowling-Mary GrandPré            4.55  043965548X  9780439655484   \n",
       "\n",
       "  language_code  pages  ratings_count  text_reviews_count  \n",
       "0           eng    652        1944099               26249  \n",
       "1           eng    870        1996446               27613  \n",
       "2           eng    320        5629932               70390  \n",
       "3           eng    352           6267                 272  \n",
       "4           eng    435        2149872               33964  "
      ]
     },
     "execution_count": 35,
     "metadata": {},
     "output_type": "execute_result"
    }
   ],
   "source": [
    "#heatmap shows (darkest blue) that ID does indeed have lowest correlation with any of the other features so I will drop for now\n",
    "#I am also changing the name of the dataframe to df - for brievity!\n",
    "df = bookdata5.drop('bookID', axis=1) \n",
    "df.head()"
   ]
  },
  {
   "cell_type": "code",
   "execution_count": 36,
   "metadata": {},
   "outputs": [
    {
     "data": {
      "text/plain": [
       "(13719, 9)"
      ]
     },
     "execution_count": 36,
     "metadata": {},
     "output_type": "execute_result"
    }
   ],
   "source": [
    "df.shape"
   ]
  },
  {
   "cell_type": "markdown",
   "metadata": {},
   "source": [
    "### 4. Look for duplicate entries in the dataset and books with no ratings\n",
    "There are 2 features that should be unique to a specific book in this dataset. These are the isbn and the isbn13.  I will check both of these to look for duplicates. That way, if there is a type-O in an entry, I will likely catch duplicates anyway."
   ]
  },
  {
   "cell_type": "code",
   "execution_count": 37,
   "metadata": {},
   "outputs": [
    {
     "name": "stdout",
     "output_type": "stream",
     "text": [
      "Empty DataFrame\n",
      "Columns: [title, authors, average_rating, isbn, isbn13, language_code, pages, ratings_count, text_reviews_count]\n",
      "Index: []\n"
     ]
    }
   ],
   "source": [
    "dupisbn = df[df.duplicated(['isbn'])]\n",
    "print(dupisbn)"
   ]
  },
  {
   "cell_type": "code",
   "execution_count": 38,
   "metadata": {},
   "outputs": [
    {
     "name": "stdout",
     "output_type": "stream",
     "text": [
      "Empty DataFrame\n",
      "Columns: [title, authors, average_rating, isbn, isbn13, language_code, pages, ratings_count, text_reviews_count]\n",
      "Index: []\n"
     ]
    }
   ],
   "source": [
    "duplicateRows = df[df.duplicated(['isbn13'])]\n",
    "print(duplicateRows)"
   ]
  },
  {
   "cell_type": "code",
   "execution_count": 39,
   "metadata": {},
   "outputs": [],
   "source": [
    "#just double checking here that the lines above truly indicate there is no duplicates, i.e. this is redundantdf = df.drop_duplicates(subset='isbn', keep=\"first\")\n",
    "df = df.drop_duplicates(subset='isbn', keep=\"first\")"
   ]
  },
  {
   "cell_type": "code",
   "execution_count": 40,
   "metadata": {},
   "outputs": [
    {
     "data": {
      "text/plain": [
       "(13719, 9)"
      ]
     },
     "execution_count": 40,
     "metadata": {},
     "output_type": "execute_result"
    }
   ],
   "source": [
    "df = df.drop_duplicates(subset='isbn13', keep=\"first\")\n",
    "df.shape"
   ]
  },
  {
   "cell_type": "markdown",
   "metadata": {},
   "source": [
    "Find Books with no ratings and put in a separate df for a \"Be the first to Rate\" category"
   ]
  },
  {
   "cell_type": "code",
   "execution_count": 41,
   "metadata": {},
   "outputs": [],
   "source": [
    "no_rating =pd.DataFrame(df.loc[df.ratings_count == 0])"
   ]
  },
  {
   "cell_type": "code",
   "execution_count": 42,
   "metadata": {},
   "outputs": [
    {
     "data": {
      "text/html": [
       "<div>\n",
       "<style scoped>\n",
       "    .dataframe tbody tr th:only-of-type {\n",
       "        vertical-align: middle;\n",
       "    }\n",
       "\n",
       "    .dataframe tbody tr th {\n",
       "        vertical-align: top;\n",
       "    }\n",
       "\n",
       "    .dataframe thead th {\n",
       "        text-align: right;\n",
       "    }\n",
       "</style>\n",
       "<table border=\"1\" class=\"dataframe\">\n",
       "  <thead>\n",
       "    <tr style=\"text-align: right;\">\n",
       "      <th></th>\n",
       "      <th>title</th>\n",
       "      <th>authors</th>\n",
       "      <th>average_rating</th>\n",
       "      <th>isbn</th>\n",
       "      <th>isbn13</th>\n",
       "      <th>language_code</th>\n",
       "      <th>pages</th>\n",
       "      <th>ratings_count</th>\n",
       "      <th>text_reviews_count</th>\n",
       "    </tr>\n",
       "  </thead>\n",
       "  <tbody>\n",
       "    <tr>\n",
       "      <th>290</th>\n",
       "      <td>Lonely Planet Londres</td>\n",
       "      <td>Lonely Planet-Sarah Johnstone-Tom Masters</td>\n",
       "      <td>4.03</td>\n",
       "      <td>8408064762</td>\n",
       "      <td>9788408064763</td>\n",
       "      <td>spa</td>\n",
       "      <td>480</td>\n",
       "      <td>0</td>\n",
       "      <td>0</td>\n",
       "    </tr>\n",
       "    <tr>\n",
       "      <th>291</th>\n",
       "      <td>Out to Eat London 2002 (Lonely Planet Out to Eat)</td>\n",
       "      <td>Lonely Planet-Mark Honan</td>\n",
       "      <td>0.00</td>\n",
       "      <td>1740592050</td>\n",
       "      <td>9781740592055</td>\n",
       "      <td>eng</td>\n",
       "      <td>295</td>\n",
       "      <td>0</td>\n",
       "      <td>0</td>\n",
       "    </tr>\n",
       "    <tr>\n",
       "      <th>422</th>\n",
       "      <td>The Clan of the Cave Bear  Part 2 of 2 (Earth'...</td>\n",
       "      <td>Jean M. Auel</td>\n",
       "      <td>4.56</td>\n",
       "      <td>5557075313</td>\n",
       "      <td>9785557075312</td>\n",
       "      <td>eng</td>\n",
       "      <td>24</td>\n",
       "      <td>0</td>\n",
       "      <td>0</td>\n",
       "    </tr>\n",
       "    <tr>\n",
       "      <th>424</th>\n",
       "      <td>Juiced Official Strategy Guide</td>\n",
       "      <td>Doug Walsh</td>\n",
       "      <td>0.00</td>\n",
       "      <td>744005612</td>\n",
       "      <td>9780744005615</td>\n",
       "      <td>eng</td>\n",
       "      <td>112</td>\n",
       "      <td>0</td>\n",
       "      <td>0</td>\n",
       "    </tr>\n",
       "    <tr>\n",
       "      <th>587</th>\n",
       "      <td>American Government: Continuity and Change  Al...</td>\n",
       "      <td>Karen  O'Connor-Larry J. Sabato</td>\n",
       "      <td>2.95</td>\n",
       "      <td>321317106</td>\n",
       "      <td>9780321317100</td>\n",
       "      <td>eng</td>\n",
       "      <td>664</td>\n",
       "      <td>0</td>\n",
       "      <td>0</td>\n",
       "    </tr>\n",
       "  </tbody>\n",
       "</table>\n",
       "</div>"
      ],
      "text/plain": [
       "                                                 title  \\\n",
       "290                              Lonely Planet Londres   \n",
       "291  Out to Eat London 2002 (Lonely Planet Out to Eat)   \n",
       "422  The Clan of the Cave Bear  Part 2 of 2 (Earth'...   \n",
       "424                     Juiced Official Strategy Guide   \n",
       "587  American Government: Continuity and Change  Al...   \n",
       "\n",
       "                                       authors  average_rating        isbn  \\\n",
       "290  Lonely Planet-Sarah Johnstone-Tom Masters            4.03  8408064762   \n",
       "291                   Lonely Planet-Mark Honan            0.00  1740592050   \n",
       "422                               Jean M. Auel            4.56  5557075313   \n",
       "424                                 Doug Walsh            0.00   744005612   \n",
       "587            Karen  O'Connor-Larry J. Sabato            2.95   321317106   \n",
       "\n",
       "            isbn13 language_code  pages  ratings_count  text_reviews_count  \n",
       "290  9788408064763           spa    480              0                   0  \n",
       "291  9781740592055           eng    295              0                   0  \n",
       "422  9785557075312           eng     24              0                   0  \n",
       "424  9780744005615           eng    112              0                   0  \n",
       "587  9780321317100           eng    664              0                   0  "
      ]
     },
     "execution_count": 42,
     "metadata": {},
     "output_type": "execute_result"
    }
   ],
   "source": [
    "no_rating.head()"
   ]
  },
  {
   "cell_type": "markdown",
   "metadata": {},
   "source": [
    "##### All of the books in no_rating have no ratings_count and all but one have no text_reviews_count (1 has 1 review).  Because of this I will delete from my data set \n",
    "I don't know how they could have an average_rating if there's no ratings count...\n",
    "I'm considering this faulty data"
   ]
  },
  {
   "cell_type": "code",
   "execution_count": 43,
   "metadata": {},
   "outputs": [],
   "source": [
    "listdel = no_rating.index.tolist()"
   ]
  },
  {
   "cell_type": "code",
   "execution_count": 44,
   "metadata": {},
   "outputs": [
    {
     "name": "stdout",
     "output_type": "stream",
     "text": [
      "[290, 291, 422, 424, 587, 588, 595, 705, 836, 957, 1054, 1122, 1265, 1838, 1982, 2427, 2675, 2954, 2987, 3229, 3288, 3532, 3587, 3589, 3724, 3744, 3878, 3883, 4011, 4048, 4182, 4207, 4306, 4850, 4974, 5015, 5042, 5076, 5660, 5734, 5871, 5873, 6427, 6597, 6599, 6648, 6747, 6843, 6872, 6939, 7256, 7312, 7675, 7688, 7895, 7897, 8187, 8194, 8242, 8264, 8292, 8375, 8402, 8567, 8584, 8601, 8635, 8857, 9053, 9132, 9255, 9307, 9388, 9600, 10087, 10398, 10424, 10504, 10545, 10624, 10656, 10666, 10783, 10886, 10936, 11083, 11213, 11521, 11679, 11728, 11729, 11967, 11968, 11969, 12019, 12046, 12059, 12162, 12214, 12297, 12389, 12449, 12455, 12474, 12506, 12659, 12881, 12894, 12960, 13088, 13217, 13405, 13553, 13600, 13650]\n"
     ]
    }
   ],
   "source": [
    "print(listdel)"
   ]
  },
  {
   "cell_type": "code",
   "execution_count": 45,
   "metadata": {},
   "outputs": [
    {
     "data": {
      "text/plain": [
       "list"
      ]
     },
     "execution_count": 45,
     "metadata": {},
     "output_type": "execute_result"
    }
   ],
   "source": [
    "type(listdel)"
   ]
  },
  {
   "cell_type": "code",
   "execution_count": 46,
   "metadata": {},
   "outputs": [],
   "source": [
    "#Delete no ratings some how \n",
    "for i in listdel:\n",
    "    df.drop([i], axis = 0, inplace = True)"
   ]
  },
  {
   "cell_type": "code",
   "execution_count": 47,
   "metadata": {},
   "outputs": [
    {
     "data": {
      "text/plain": [
       "(13604, 9)"
      ]
     },
     "execution_count": 47,
     "metadata": {},
     "output_type": "execute_result"
    }
   ],
   "source": [
    "df.shape"
   ]
  },
  {
   "cell_type": "code",
   "execution_count": 48,
   "metadata": {},
   "outputs": [],
   "source": [
    "#I will re-examine the correlation between feature with the \"faulty\" data gone"
   ]
  },
  {
   "cell_type": "code",
   "execution_count": 49,
   "metadata": {},
   "outputs": [
    {
     "data": {
      "image/png": "[encoded data removed]",
      "text/plain": [
       "<Figure size 864x864 with 2 Axes>"
      ]
     },
     "metadata": {
      "needs_background": "light"
     },
     "output_type": "display_data"
    }
   ],
   "source": [
    "correlatedata = df.corr()\n",
    "names = correlatedata.index\n",
    "plt.figure(figsize =(12,12))\n",
    "corrmap = sns.heatmap(df[names].corr(), annot = True, cmap ='coolwarm')"
   ]
  },
  {
   "cell_type": "markdown",
   "metadata": {},
   "source": [
    "#### Removing the 'faulty' data improved the correlation between so features"
   ]
  },
  {
   "cell_type": "code",
   "execution_count": 50,
   "metadata": {},
   "outputs": [
    {
     "data": {
      "text/html": [
       "<div>\n",
       "<style scoped>\n",
       "    .dataframe tbody tr th:only-of-type {\n",
       "        vertical-align: middle;\n",
       "    }\n",
       "\n",
       "    .dataframe tbody tr th {\n",
       "        vertical-align: top;\n",
       "    }\n",
       "\n",
       "    .dataframe thead th {\n",
       "        text-align: right;\n",
       "    }\n",
       "</style>\n",
       "<table border=\"1\" class=\"dataframe\">\n",
       "  <thead>\n",
       "    <tr style=\"text-align: right;\">\n",
       "      <th></th>\n",
       "      <th>average_rating</th>\n",
       "      <th>pages</th>\n",
       "      <th>ratings_count</th>\n",
       "      <th>text_reviews_count</th>\n",
       "    </tr>\n",
       "  </thead>\n",
       "  <tbody>\n",
       "    <tr>\n",
       "      <th>count</th>\n",
       "      <td>13604.000000</td>\n",
       "      <td>13604.000000</td>\n",
       "      <td>1.360400e+04</td>\n",
       "      <td>13604.000000</td>\n",
       "    </tr>\n",
       "    <tr>\n",
       "      <th>mean</th>\n",
       "      <td>3.940712</td>\n",
       "      <td>342.979712</td>\n",
       "      <td>1.790922e+04</td>\n",
       "      <td>537.949133</td>\n",
       "    </tr>\n",
       "    <tr>\n",
       "      <th>std</th>\n",
       "      <td>0.297680</td>\n",
       "      <td>252.629544</td>\n",
       "      <td>1.134016e+05</td>\n",
       "      <td>2538.753860</td>\n",
       "    </tr>\n",
       "    <tr>\n",
       "      <th>min</th>\n",
       "      <td>1.000000</td>\n",
       "      <td>0.000000</td>\n",
       "      <td>1.000000e+00</td>\n",
       "      <td>0.000000</td>\n",
       "    </tr>\n",
       "    <tr>\n",
       "      <th>25%</th>\n",
       "      <td>3.770000</td>\n",
       "      <td>197.000000</td>\n",
       "      <td>8.800000e+01</td>\n",
       "      <td>8.000000</td>\n",
       "    </tr>\n",
       "    <tr>\n",
       "      <th>50%</th>\n",
       "      <td>3.960000</td>\n",
       "      <td>302.000000</td>\n",
       "      <td>6.500000e+02</td>\n",
       "      <td>41.000000</td>\n",
       "    </tr>\n",
       "    <tr>\n",
       "      <th>75%</th>\n",
       "      <td>4.130000</td>\n",
       "      <td>421.250000</td>\n",
       "      <td>4.802750e+03</td>\n",
       "      <td>225.000000</td>\n",
       "    </tr>\n",
       "    <tr>\n",
       "      <th>max</th>\n",
       "      <td>5.000000</td>\n",
       "      <td>6576.000000</td>\n",
       "      <td>5.629932e+06</td>\n",
       "      <td>93619.000000</td>\n",
       "    </tr>\n",
       "  </tbody>\n",
       "</table>\n",
       "</div>"
      ],
      "text/plain": [
       "       average_rating         pages  ratings_count  text_reviews_count\n",
       "count    13604.000000  13604.000000   1.360400e+04        13604.000000\n",
       "mean         3.940712    342.979712   1.790922e+04          537.949133\n",
       "std          0.297680    252.629544   1.134016e+05         2538.753860\n",
       "min          1.000000      0.000000   1.000000e+00            0.000000\n",
       "25%          3.770000    197.000000   8.800000e+01            8.000000\n",
       "50%          3.960000    302.000000   6.500000e+02           41.000000\n",
       "75%          4.130000    421.250000   4.802750e+03          225.000000\n",
       "max          5.000000   6576.000000   5.629932e+06        93619.000000"
      ]
     },
     "execution_count": 50,
     "metadata": {},
     "output_type": "execute_result"
    }
   ],
   "source": [
    "#just taking another look at descriptive stats\n",
    "df.describe()"
   ]
  },
  {
   "cell_type": "code",
   "execution_count": 51,
   "metadata": {},
   "outputs": [
    {
     "name": "stdout",
     "output_type": "stream",
     "text": [
      "Empty DataFrame\n",
      "Columns: [title, authors, average_rating, isbn, isbn13, language_code, pages, ratings_count, text_reviews_count]\n",
      "Index: []\n"
     ]
    }
   ],
   "source": [
    "#just checking to make sure the books where removed\n",
    "print(df.loc[df['title'] == 'Lonely Planet'])"
   ]
  },
  {
   "cell_type": "markdown",
   "metadata": {},
   "source": [
    "### 5. Examine Authors and Titles"
   ]
  },
  {
   "cell_type": "code",
   "execution_count": 52,
   "metadata": {},
   "outputs": [
    {
     "data": {
      "text/plain": [
       "13604"
      ]
     },
     "execution_count": 52,
     "metadata": {},
     "output_type": "execute_result"
    }
   ],
   "source": [
    "#Count total values including null values\n",
    "df['authors'].size"
   ]
  },
  {
   "cell_type": "code",
   "execution_count": 53,
   "metadata": {},
   "outputs": [
    {
     "data": {
      "text/plain": [
       "13604"
      ]
     },
     "execution_count": 53,
     "metadata": {},
     "output_type": "execute_result"
    }
   ],
   "source": [
    "#Count only non-null values, use count:\n",
    "df['authors'].count()"
   ]
  },
  {
   "cell_type": "code",
   "execution_count": 54,
   "metadata": {},
   "outputs": [
    {
     "data": {
      "text/plain": [
       "7528"
      ]
     },
     "execution_count": 54,
     "metadata": {},
     "output_type": "execute_result"
    }
   ],
   "source": [
    "#Count unique\n",
    "df['authors'].nunique()"
   ]
  },
  {
   "cell_type": "markdown",
   "metadata": {},
   "source": [
    "The above indicates that there are authors with multiple books in the dataset.  "
   ]
  },
  {
   "cell_type": "code",
   "execution_count": 55,
   "metadata": {},
   "outputs": [
    {
     "name": "stdout",
     "output_type": "stream",
     "text": [
      "                                                authors  average_rating\n",
      "3333  Jean-Paul Gabilliet-François Gallix-Janice Fia...            5.00\n",
      "5013               Middlesex Borough Heritage Committee            5.00\n",
      "6962                               Todd Davis-Marc Frey            5.00\n",
      "3518                                      John  Diamond            5.00\n",
      "5222                    Nicholas    Evans-Rhonda  Evans            5.00\n",
      "5722                                     R. McL. Wilson            5.00\n",
      "2185                                  Frederick P. Lenz            5.00\n",
      "5111                                         NOT A BOOK            5.00\n",
      "6738                                    Svetlana Alpers            5.00\n",
      "6183                                       Ross Garnaut            5.00\n",
      "1552                           Dennis Adler-R.L. Wilson            5.00\n",
      "1071   Chris    Green-Chris Wright-Paul Douglas Gardner            5.00\n",
      "3872                    Julie Sylvester-David Sylvester            5.00\n",
      "6391                                Sheri Rose Shepherd            5.00\n",
      "1085          Chris Jiggins-Pablo Andrade-Eduardo Cueva            5.00\n",
      "4151  Laura Driscoll-Alisa Klayman-Grodsky-Eric     ...            5.00\n",
      "9                      Aaron Rosenberg-Christopher Cook            5.00\n",
      "2866                    Ian        Martin-Katie Elliott            5.00\n",
      "6432                                    Simon Cleveland            4.91\n",
      "207                              Alice Wong-Lena Tabori            4.88\n",
      "5683                       Plato-John Burnet-Hipparchus            4.87\n",
      "5488                                   Paul Foster Case            4.80\n",
      "2697               Henry David Thoreau-Barry M. Andrews            4.75\n",
      "1830                                    Elena N. Mahlow            4.75\n",
      "1599                  Don Macmillan-Wayne G. Broehl Jr.            4.75\n",
      "7457              Xavier de C.-Xavier de C.-Joseph Rowe            4.75\n",
      "6326                        Saul Leiter-Martin Harrison            4.73\n",
      "2279                                       Gary Chapman            4.71\n",
      "389                                           Anonymous            4.70\n",
      "5106        Murray Sayle-Charles Flowers-Elliott Erwitt            4.70\n",
      "...                                                 ...             ...\n",
      "7437  William T. Vetterling-William H. Press-Saul A....            2.75\n",
      "1492                            David Stanley-Mark Bego            2.75\n",
      "3078                                       James   Paul            2.75\n",
      "534                     Arthur Yorinks-Raymond Jafelice            2.75\n",
      "4021                                        Kelly  Carr            2.72\n",
      "3062                           Jacqueline Ann-Sheila Z.            2.67\n",
      "3678                    John W. Schott-Jean S. Arbeiter            2.67\n",
      "6353                                       Sean O'Brien            2.67\n",
      "1019                              Charles P. Rubenstein            2.67\n",
      "6463                 Sophie Braimbridge-Erica Jankovich            2.62\n",
      "6297                        Sarah Fielding-Candace Ward            2.62\n",
      "621                                        Barry Chubin            2.62\n",
      "4867                  Melissa Panarello-Lawrence Venuti            2.57\n",
      "129                                          Alec Kalla            2.57\n",
      "2425                               Gia Bathory Al Babel            2.55\n",
      "898                    Carlos Puerto-Jordi Vila Delclos            2.50\n",
      "4854                McDougal Littell-Douglas W. Carnine            2.50\n",
      "4648       Mark LeVine-Michael Pollan-Stephen M. Pollan            2.50\n",
      "6857                                          Tessa Kay            2.33\n",
      "7162                                   W. John Campbell            2.33\n",
      "5731                                        R.R. Palmer            2.00\n",
      "4140                      Larry DiTillio-Michael Whelan            2.00\n",
      "7163                                         W. Meitcke            2.00\n",
      "2669  Heidi Hayes Jacobs-Michal L. LeVasseur-Kate Ki...            2.00\n",
      "4225                                         Len Morgan            2.00\n",
      "5109                         Mymi Doinet-Benjamin Chaud            2.00\n",
      "5924  Richard W. Bulliet-Pamela Kyle Crossley-Steven...            2.00\n",
      "5718                           Quim Monzó-Biel Mesquida            2.00\n",
      "4129                                       Lala Okamoto            1.67\n",
      "7191                        Walter Foster Creative Team            1.00\n",
      "\n",
      "[7528 rows x 2 columns]\n"
     ]
    }
   ],
   "source": [
    "bestauthors = df.groupby('authors')['average_rating'].mean().reset_index().sort_values('average_rating', ascending = False)\n",
    "print(bestauthors)"
   ]
  },
  {
   "cell_type": "code",
   "execution_count": 56,
   "metadata": {},
   "outputs": [
    {
     "name": "stdout",
     "output_type": "stream",
     "text": [
      "                                                   title  \\\n",
      "879                    Willem de Kooning: Late Paintings   \n",
      "963    Literature Circle Guide: Bridge to Terabithia:...   \n",
      "1442   Middlesex Borough (Images of America: New Jersey)   \n",
      "1624   The Decoration of the Torre de la Parada (Corp...   \n",
      "2988          Insights: Talks On The Nature Of Existence   \n",
      "4940   Zone of the Enders: The 2nd Runner Official St...   \n",
      "5788   The Diamond Color Meditation: Color Path to th...   \n",
      "6079   The Complete Theory Fun Factory: Music Theory ...   \n",
      "6598   The Goon Show  Volume 4: My Knees Have Fallen ...   \n",
      "6600   The Goon Show  Volume 11: He's Fallen in the W...   \n",
      "6790                                 Winchester Shotguns   \n",
      "6791   Colossians and Philemon: A Critical and Exeget...   \n",
      "7437                           Taxation of Mineral Rents   \n",
      "7509                         The New Big Book of America   \n",
      "8149   Delwau Duon: Peintiadau Nicholas Evans = Symph...   \n",
      "8406             Calvin y Hobbes 10: El tiempo está loco   \n",
      "10170       Fanning the Flame: Bible  Cross  and Mission   \n",
      "11072  Bubbles in the Middle (The Powerpuff Girls Plu...   \n",
      "11074                 Tyrannosaurus Wrecks (Stanley  #1)   \n",
      "11547      The Irish Anatomist: A Study of Flann O'Brien   \n",
      "11724  His Princess Devotional: A Royal Encounter Wit...   \n",
      "13055  Ecuador Nature Guide: Southwest Forests:  Sozo...   \n",
      "13573  Lectures d'une oeuvre: The Handmaid's tale de ...   \n",
      "\n",
      "                                                 authors  average_rating  \\\n",
      "879                      Julie Sylvester-David Sylvester             5.0   \n",
      "963                                       Tara MacCarthy             5.0   \n",
      "1442                Middlesex Borough Heritage Committee             5.0   \n",
      "1624                                     Svetlana Alpers             5.0   \n",
      "2988                                   Frederick P. Lenz             5.0   \n",
      "4940                                          Tim Bogenn             5.0   \n",
      "5788                                       John  Diamond             5.0   \n",
      "6079                     Ian        Martin-Katie Elliott             5.0   \n",
      "6598                                          NOT A BOOK             5.0   \n",
      "6600                                          NOT A BOOK             5.0   \n",
      "6790                            Dennis Adler-R.L. Wilson             5.0   \n",
      "6791                                      R. McL. Wilson             5.0   \n",
      "7437                                        Ross Garnaut             5.0   \n",
      "7509                                Todd Davis-Marc Frey             5.0   \n",
      "8149                     Nicholas    Evans-Rhonda  Evans             5.0   \n",
      "8406                                      Bill Watterson             5.0   \n",
      "10170   Chris    Green-Chris Wright-Paul Douglas Gardner             5.0   \n",
      "11072                   Aaron Rosenberg-Christopher Cook             5.0   \n",
      "11074  Laura Driscoll-Alisa Klayman-Grodsky-Eric     ...             5.0   \n",
      "11547                                      Keith Donohue             5.0   \n",
      "11724                                Sheri Rose Shepherd             5.0   \n",
      "13055          Chris Jiggins-Pablo Andrade-Eduardo Cueva             5.0   \n",
      "13573  Jean-Paul Gabilliet-François Gallix-Janice Fia...             5.0   \n",
      "\n",
      "             isbn         isbn13 language_code  pages  ratings_count  \\\n",
      "879    382960226X  9783829602266           eng     83              1   \n",
      "963     439271711  9780439271714           eng     32              4   \n",
      "1442    738511676  9780738511672           eng    128              2   \n",
      "1624    199210152  9780199210152           eng    532              1   \n",
      "2988   1932206086  9781932206081           eng    304              1   \n",
      "4940    744002354  9780744002355           eng    128              2   \n",
      "5788   1890995525  9781890995522           eng     74              5   \n",
      "6079    851621813  9780851621814           eng     96              1   \n",
      "6598    563388692  9780563388692           eng      2              3   \n",
      "6600    563388323  9780563388326           eng      2              2   \n",
      "6790    785821082  9780785821083           eng    372              2   \n",
      "6791    567044718  9780567044716           eng    512              1   \n",
      "7437    198284543  9780198284543           eng    350              1   \n",
      "7509    762412631  9780762412631           eng     56              2   \n",
      "8149    862431352  9780862431358           wel    150              1   \n",
      "8406   8440685416  9788440685414           spa     48              4   \n",
      "10170   310249872  9780310249870           eng    336              1   \n",
      "11072   439332613  9780439332613           eng     64              5   \n",
      "11074   786845031  9780786845033           eng     24              2   \n",
      "11547  1930901356  9781930901353           eng    222              1   \n",
      "11724  1590529626  9781590529621           eng    240              3   \n",
      "13055  1551052709  9781551052700           eng     96              1   \n",
      "13573  2842740394  9782842740399           fre    223              2   \n",
      "\n",
      "       text_reviews_count  \n",
      "879                     0  \n",
      "963                     1  \n",
      "1442                    0  \n",
      "1624                    0  \n",
      "2988                    0  \n",
      "4940                    0  \n",
      "5788                    3  \n",
      "6079                    0  \n",
      "6598                    0  \n",
      "6600                    0  \n",
      "6790                    0  \n",
      "6791                    0  \n",
      "7437                    0  \n",
      "7509                    1  \n",
      "8149                    0  \n",
      "8406                    0  \n",
      "10170                   1  \n",
      "11072                   0  \n",
      "11074                   1  \n",
      "11547                   0  \n",
      "11724                   0  \n",
      "13055                   0  \n",
      "13573                   0  \n"
     ]
    }
   ],
   "source": [
    "#I want to see all authors with a book with a rating of 5\n",
    "fivestarauthors = df[df['average_rating'] == 5.0]\n",
    "print(fivestarauthors)"
   ]
  },
  {
   "cell_type": "code",
   "execution_count": 57,
   "metadata": {},
   "outputs": [
    {
     "data": {
      "text/plain": [
       "23"
      ]
     },
     "execution_count": 57,
     "metadata": {},
     "output_type": "execute_result"
    }
   ],
   "source": [
    "len(df[df['average_rating'] == 5.0])"
   ]
  },
  {
   "cell_type": "markdown",
   "metadata": {},
   "source": [
    "#### A. Dropping Books that have few rates.\n",
    "There are 18 authors who have an average rating over all their books of 5.  There are 23 author who have a book line with a 5  ratings. However, none of these have many rates, i.e., ratings_count < 6.  Therefore, I am going to leave them in their own dataframe.  I will call it, \"Take_a_chance\",\n",
    "and describe as such - something like - 'these books have 5 stars, but have only been rated by a limited number of readers'.\n",
    "I will then remove the 23 books plus any book the has less than 50 ratings (abitary choice) from df because if I get to building a recomender, I don't want to recommend books based on so few ratings. "
   ]
  },
  {
   "cell_type": "code",
   "execution_count": 58,
   "metadata": {},
   "outputs": [
    {
     "data": {
      "text/plain": [
       "(2536, 9)"
      ]
     },
     "execution_count": 58,
     "metadata": {},
     "output_type": "execute_result"
    }
   ],
   "source": [
    "take_a_chance = pd.DataFrame(df.loc[df.ratings_count < 50])\n",
    "take_a_chance.shape"
   ]
  },
  {
   "cell_type": "code",
   "execution_count": 59,
   "metadata": {},
   "outputs": [
    {
     "data": {
      "text/plain": [
       "(11068, 9)"
      ]
     },
     "execution_count": 59,
     "metadata": {},
     "output_type": "execute_result"
    }
   ],
   "source": [
    "df.drop(df.index[df.ratings_count < 50], inplace = True)\n",
    "df.shape\n",
    "                                     "
   ]
  },
  {
   "cell_type": "markdown",
   "metadata": {},
   "source": [
    "Now I have a list with only books that have been rated by at least 50 reviews.  Let's see how features correlate.  I'm also going to conversion isbn13 to a number to see if there any a correlation - wondering if publisher will play in... but I think I'd have to pull that code out for it to matter..."
   ]
  },
  {
   "cell_type": "code",
   "execution_count": 60,
   "metadata": {},
   "outputs": [],
   "source": [
    "df['isbn13'] = pd.to_numeric(df['isbn13'])"
   ]
  },
  {
   "cell_type": "code",
   "execution_count": 61,
   "metadata": {},
   "outputs": [
    {
     "data": {
      "image/png": "[encoded data removed]",
      "text/plain": [
       "<Figure size 864x864 with 2 Axes>"
      ]
     },
     "metadata": {
      "needs_background": "light"
     },
     "output_type": "display_data"
    }
   ],
   "source": [
    "correlatedata = df.corr()\n",
    "names = correlatedata.index\n",
    "plt.figure(figsize =(12,12))\n",
    "corrmap = sns.heatmap(df[names].corr(), annot = True, cmap ='coolwarm')"
   ]
  },
  {
   "cell_type": "markdown",
   "metadata": {},
   "source": [
    "I realize that this is kindda random here, to add in isbn13 - shoulda done it earlier - nonetheless correlation is low so will drop, also isbn... since pretty much the same as isbn13.... just can't convert to numeric since some contain letters\n",
    "Also - pulling out books with few ratings slightly increase correlation between features"
   ]
  },
  {
   "cell_type": "code",
   "execution_count": 62,
   "metadata": {},
   "outputs": [
    {
     "data": {
      "text/html": [
       "<div>\n",
       "<style scoped>\n",
       "    .dataframe tbody tr th:only-of-type {\n",
       "        vertical-align: middle;\n",
       "    }\n",
       "\n",
       "    .dataframe tbody tr th {\n",
       "        vertical-align: top;\n",
       "    }\n",
       "\n",
       "    .dataframe thead th {\n",
       "        text-align: right;\n",
       "    }\n",
       "</style>\n",
       "<table border=\"1\" class=\"dataframe\">\n",
       "  <thead>\n",
       "    <tr style=\"text-align: right;\">\n",
       "      <th></th>\n",
       "      <th>title</th>\n",
       "      <th>authors</th>\n",
       "      <th>average_rating</th>\n",
       "      <th>language_code</th>\n",
       "      <th>pages</th>\n",
       "      <th>ratings_count</th>\n",
       "      <th>text_reviews_count</th>\n",
       "    </tr>\n",
       "  </thead>\n",
       "  <tbody>\n",
       "    <tr>\n",
       "      <th>0</th>\n",
       "      <td>Harry Potter and the Half-Blood Prince (Harry ...</td>\n",
       "      <td>J.K. Rowling-Mary GrandPré</td>\n",
       "      <td>4.56</td>\n",
       "      <td>eng</td>\n",
       "      <td>652</td>\n",
       "      <td>1944099</td>\n",
       "      <td>26249</td>\n",
       "    </tr>\n",
       "    <tr>\n",
       "      <th>1</th>\n",
       "      <td>Harry Potter and the Order of the Phoenix (Har...</td>\n",
       "      <td>J.K. Rowling-Mary GrandPré</td>\n",
       "      <td>4.49</td>\n",
       "      <td>eng</td>\n",
       "      <td>870</td>\n",
       "      <td>1996446</td>\n",
       "      <td>27613</td>\n",
       "    </tr>\n",
       "    <tr>\n",
       "      <th>2</th>\n",
       "      <td>Harry Potter and the Sorcerer's Stone (Harry P...</td>\n",
       "      <td>J.K. Rowling-Mary GrandPré</td>\n",
       "      <td>4.47</td>\n",
       "      <td>eng</td>\n",
       "      <td>320</td>\n",
       "      <td>5629932</td>\n",
       "      <td>70390</td>\n",
       "    </tr>\n",
       "    <tr>\n",
       "      <th>3</th>\n",
       "      <td>Harry Potter and the Chamber of Secrets (Harry...</td>\n",
       "      <td>J.K. Rowling</td>\n",
       "      <td>4.41</td>\n",
       "      <td>eng</td>\n",
       "      <td>352</td>\n",
       "      <td>6267</td>\n",
       "      <td>272</td>\n",
       "    </tr>\n",
       "    <tr>\n",
       "      <th>4</th>\n",
       "      <td>Harry Potter and the Prisoner of Azkaban (Harr...</td>\n",
       "      <td>J.K. Rowling-Mary GrandPré</td>\n",
       "      <td>4.55</td>\n",
       "      <td>eng</td>\n",
       "      <td>435</td>\n",
       "      <td>2149872</td>\n",
       "      <td>33964</td>\n",
       "    </tr>\n",
       "  </tbody>\n",
       "</table>\n",
       "</div>"
      ],
      "text/plain": [
       "                                               title  \\\n",
       "0  Harry Potter and the Half-Blood Prince (Harry ...   \n",
       "1  Harry Potter and the Order of the Phoenix (Har...   \n",
       "2  Harry Potter and the Sorcerer's Stone (Harry P...   \n",
       "3  Harry Potter and the Chamber of Secrets (Harry...   \n",
       "4  Harry Potter and the Prisoner of Azkaban (Harr...   \n",
       "\n",
       "                      authors  average_rating language_code  pages  \\\n",
       "0  J.K. Rowling-Mary GrandPré            4.56           eng    652   \n",
       "1  J.K. Rowling-Mary GrandPré            4.49           eng    870   \n",
       "2  J.K. Rowling-Mary GrandPré            4.47           eng    320   \n",
       "3                J.K. Rowling            4.41           eng    352   \n",
       "4  J.K. Rowling-Mary GrandPré            4.55           eng    435   \n",
       "\n",
       "   ratings_count  text_reviews_count  \n",
       "0        1944099               26249  \n",
       "1        1996446               27613  \n",
       "2        5629932               70390  \n",
       "3           6267                 272  \n",
       "4        2149872               33964  "
      ]
     },
     "execution_count": 62,
     "metadata": {},
     "output_type": "execute_result"
    }
   ],
   "source": [
    "df = df.drop('isbn', axis=1) \n",
    "df = df.drop('isbn13', axis = 1)\n",
    "df.head()"
   ]
  },
  {
   "cell_type": "code",
   "execution_count": 63,
   "metadata": {},
   "outputs": [
    {
     "data": {
      "text/plain": [
       "10060"
      ]
     },
     "execution_count": 63,
     "metadata": {},
     "output_type": "execute_result"
    }
   ],
   "source": [
    "df['title'].nunique()"
   ]
  },
  {
   "cell_type": "code",
   "execution_count": 64,
   "metadata": {},
   "outputs": [
    {
     "data": {
      "text/plain": [
       "6015"
      ]
     },
     "execution_count": 64,
     "metadata": {},
     "output_type": "execute_result"
    }
   ],
   "source": [
    "df['authors'].nunique()"
   ]
  },
  {
   "cell_type": "markdown",
   "metadata": {},
   "source": [
    "####  B. Consolidate Titles\n",
    "There are currently 11068 entries (rows) in my df, but only 10060 unique titles and 6015 unique authors.  It's is expected that some authors have multiple books and these should all be kept in the df.  On the other hand, a separate ISBN is assigned to each edition and variation (except reprintings) of a publication. For example, an ebook, audiobook, paperback, and hardcover edition of the same book will each have a different ISBN. My goal here will be to consolidate ratings and counts of all versions of a single book. "
   ]
  },
  {
   "cell_type": "code",
   "execution_count": 65,
   "metadata": {},
   "outputs": [
    {
     "name": "stdout",
     "output_type": "stream",
     "text": [
      "One Hundred Years of Solitude                                                                                                              9\n",
      "'Salem's Lot                                                                                                                               9\n",
      "The Lord of the Rings (The Lord of the Rings  #1-3)                                                                                        9\n",
      "The Brothers Karamazov                                                                                                                     8\n",
      "A Midsummer Night's Dream                                                                                                                  8\n",
      "Robinson Crusoe                                                                                                                            8\n",
      "Collected Stories                                                                                                                          8\n",
      "A Tale of Two Cities                                                                                                                       7\n",
      "Anna Karenina                                                                                                                              7\n",
      "The Odyssey                                                                                                                                7\n",
      "The Picture of Dorian Gray                                                                                                                 7\n",
      "Fahrenheit 451                                                                                                                             7\n",
      "Lord of the Flies                                                                                                                          7\n",
      "Heart of Darkness                                                                                                                          7\n",
      "Romeo and Juliet                                                                                                                           7\n",
      "Macbeth                                                                                                                                    6\n",
      "Paradise Lost                                                                                                                              6\n",
      "The Great Gatsby                                                                                                                           6\n",
      "Pride and Prejudice                                                                                                                        6\n",
      "Sense and Sensibility                                                                                                                      6\n",
      "Lolita                                                                                                                                     6\n",
      "Jane Eyre                                                                                                                                  6\n",
      "The Communist Manifesto                                                                                                                    6\n",
      "The Iliad                                                                                                                                  6\n",
      "The Scarlet Letter                                                                                                                         6\n",
      "The Handmaid's Tale                                                                                                                        6\n",
      "The Secret Garden                                                                                                                          6\n",
      "Treasure Island                                                                                                                            6\n",
      "King Lear                                                                                                                                  6\n",
      "The Idiot                                                                                                                                  6\n",
      "                                                                                                                                          ..\n",
      "Sun  Moon  Star                                                                                                                            1\n",
      "Flashman on the March (The Flashman Papers  #12)                                                                                           1\n",
      "Orlando Furioso: Part Two                                                                                                                  1\n",
      "The Sound of Thunder                                                                                                                       1\n",
      "Midnight Predator                                                                                                                          1\n",
      "Vergeef me                                                                                                                                 1\n",
      "Awakenings                                                                                                                                 1\n",
      "Tess of the D'Urbervilles                                                                                                                  1\n",
      "The Drawing of the Three (The Dark Tower  #2)                                                                                              1\n",
      "On Writing: A Memoir                                                                                                                       1\n",
      "Aphrodite's Secret (Superhero Central #3)                                                                                                  1\n",
      "Glengarry Glen Ross                                                                                                                        1\n",
      "Love Mode  Vol. 1                                                                                                                          1\n",
      "Are You There God? It's Me  Margaret                                                                                                       1\n",
      "Queen of Scots: The True Life of Mary Stuart                                                                                               1\n",
      "Greek Tragedies  Vol. 2: Aeschylus: The Libation Bearers; Sophocles: Electra; Euripides: Iphigenia in Tauris  Electra  The Trojan Women    1\n",
      "How to Think Theologically                                                                                                                 1\n",
      "Seventeen and In-Between                                                                                                                   1\n",
      "Monkeewrench (Monkeewrench  #1)                                                                                                            1\n",
      "Stormie: A Story of Forgiveness and Healing                                                                                                1\n",
      "Гарри Поттер и философский камень (Harry Potter  #1)                                                                                       1\n",
      "El príncipe Caspian (Las crónicas de Narnia  #4)                                                                                           1\n",
      "Voice of Our Shadow                                                                                                                        1\n",
      "Sidetracked (Kurt Wallander  #5)                                                                                                           1\n",
      "Doomsday Book (Oxford Time Travel  #1)                                                                                                     1\n",
      "The Shadow of the Wind                                                                                                                     1\n",
      "Crossroads of Twilight (Wheel of Time  #10)                                                                                                1\n",
      "The Man in the High Castle                                                                                                                 1\n",
      "The Husband                                                                                                                                1\n",
      "Writings 1878–1899: Psychology: Briefer Course / The Will to Believe / Talks to Teachers and to Students / Essays                          1\n",
      "Name: title, Length: 10060, dtype: int64\n"
     ]
    }
   ],
   "source": [
    "titlecount = df['title'].value_counts() \n",
    "print(titlecount)"
   ]
  },
  {
   "cell_type": "code",
   "execution_count": 66,
   "metadata": {},
   "outputs": [
    {
     "data": {
      "text/html": [
       "<div>\n",
       "<style scoped>\n",
       "    .dataframe tbody tr th:only-of-type {\n",
       "        vertical-align: middle;\n",
       "    }\n",
       "\n",
       "    .dataframe tbody tr th {\n",
       "        vertical-align: top;\n",
       "    }\n",
       "\n",
       "    .dataframe thead th {\n",
       "        text-align: right;\n",
       "    }\n",
       "</style>\n",
       "<table border=\"1\" class=\"dataframe\">\n",
       "  <thead>\n",
       "    <tr style=\"text-align: right;\">\n",
       "      <th></th>\n",
       "      <th>title</th>\n",
       "      <th>tcount</th>\n",
       "    </tr>\n",
       "  </thead>\n",
       "  <tbody>\n",
       "    <tr>\n",
       "      <th>0</th>\n",
       "      <td>One Hundred Years of Solitude</td>\n",
       "      <td>9</td>\n",
       "    </tr>\n",
       "    <tr>\n",
       "      <th>1</th>\n",
       "      <td>'Salem's Lot</td>\n",
       "      <td>9</td>\n",
       "    </tr>\n",
       "    <tr>\n",
       "      <th>2</th>\n",
       "      <td>The Lord of the Rings (The Lord of the Rings  ...</td>\n",
       "      <td>9</td>\n",
       "    </tr>\n",
       "    <tr>\n",
       "      <th>3</th>\n",
       "      <td>The Brothers Karamazov</td>\n",
       "      <td>8</td>\n",
       "    </tr>\n",
       "    <tr>\n",
       "      <th>4</th>\n",
       "      <td>A Midsummer Night's Dream</td>\n",
       "      <td>8</td>\n",
       "    </tr>\n",
       "  </tbody>\n",
       "</table>\n",
       "</div>"
      ],
      "text/plain": [
       "                                               title tcount\n",
       "0                      One Hundred Years of Solitude      9\n",
       "1                                       'Salem's Lot      9\n",
       "2  The Lord of the Rings (The Lord of the Rings  ...      9\n",
       "3                             The Brothers Karamazov      8\n",
       "4                          A Midsummer Night's Dream      8"
      ]
     },
     "execution_count": 66,
     "metadata": {},
     "output_type": "execute_result"
    }
   ],
   "source": [
    "#making a dataframe of with single listing of each title\n",
    "mtitles = pd.DataFrame(df['title'].value_counts().reset_index().values, columns =[\"title\", \"tcount\"])\n",
    "mtlist = mtitles.sort_index(axis = 0, ascending=True)\n",
    "mtlist.head()"
   ]
  },
  {
   "cell_type": "code",
   "execution_count": 67,
   "metadata": {},
   "outputs": [
    {
     "data": {
      "text/html": [
       "<div>\n",
       "<style scoped>\n",
       "    .dataframe tbody tr th:only-of-type {\n",
       "        vertical-align: middle;\n",
       "    }\n",
       "\n",
       "    .dataframe tbody tr th {\n",
       "        vertical-align: top;\n",
       "    }\n",
       "\n",
       "    .dataframe thead th {\n",
       "        text-align: right;\n",
       "    }\n",
       "</style>\n",
       "<table border=\"1\" class=\"dataframe\">\n",
       "  <thead>\n",
       "    <tr style=\"text-align: right;\">\n",
       "      <th></th>\n",
       "      <th>title</th>\n",
       "      <th>tcount</th>\n",
       "    </tr>\n",
       "  </thead>\n",
       "  <tbody>\n",
       "    <tr>\n",
       "      <th>0</th>\n",
       "      <td>One Hundred Years of Solitude</td>\n",
       "      <td>9</td>\n",
       "    </tr>\n",
       "    <tr>\n",
       "      <th>1</th>\n",
       "      <td>'Salem's Lot</td>\n",
       "      <td>9</td>\n",
       "    </tr>\n",
       "    <tr>\n",
       "      <th>2</th>\n",
       "      <td>The Lord of the Rings (The Lord of the Rings  ...</td>\n",
       "      <td>9</td>\n",
       "    </tr>\n",
       "    <tr>\n",
       "      <th>3</th>\n",
       "      <td>The Brothers Karamazov</td>\n",
       "      <td>8</td>\n",
       "    </tr>\n",
       "    <tr>\n",
       "      <th>4</th>\n",
       "      <td>A Midsummer Night's Dream</td>\n",
       "      <td>8</td>\n",
       "    </tr>\n",
       "  </tbody>\n",
       "</table>\n",
       "</div>"
      ],
      "text/plain": [
       "                                               title tcount\n",
       "0                      One Hundred Years of Solitude      9\n",
       "1                                       'Salem's Lot      9\n",
       "2  The Lord of the Rings (The Lord of the Rings  ...      9\n",
       "3                             The Brothers Karamazov      8\n",
       "4                          A Midsummer Night's Dream      8"
      ]
     },
     "execution_count": 67,
     "metadata": {},
     "output_type": "execute_result"
    }
   ],
   "source": [
    "#making a dataframe of only titles that are listed more than once\n",
    "mtlist.drop(mtlist.index[mtlist.tcount == 1], inplace = True)\n",
    "mtlist.head()"
   ]
  },
  {
   "cell_type": "code",
   "execution_count": 68,
   "metadata": {},
   "outputs": [
    {
     "data": {
      "text/plain": [
       "(607, 2)"
      ]
     },
     "execution_count": 68,
     "metadata": {},
     "output_type": "execute_result"
    }
   ],
   "source": [
    "mtlist.shape"
   ]
  },
  {
   "cell_type": "markdown",
   "metadata": {},
   "source": [
    "There are 607 titles in the df with multiple entries."
   ]
  },
  {
   "cell_type": "code",
   "execution_count": 69,
   "metadata": {},
   "outputs": [],
   "source": [
    "#making a list of only titles that are listed more than once to use for consolidating data on those titles\n",
    "titles_to_consolidate = list(mtlist.title)"
   ]
  },
  {
   "cell_type": "code",
   "execution_count": 70,
   "metadata": {},
   "outputs": [
    {
     "name": "stdout",
     "output_type": "stream",
     "text": [
      "['One Hundred Years of Solitude', \"'Salem's Lot\", 'The Lord of the Rings (The Lord of the Rings  #1-3)', 'The Brothers Karamazov', \"A Midsummer Night's Dream\", 'Robinson Crusoe', 'Collected Stories', 'A Tale of Two Cities', 'Anna Karenina', 'The Odyssey', 'The Picture of Dorian Gray', 'Fahrenheit 451', 'Lord of the Flies', 'Heart of Darkness', 'Romeo and Juliet', 'Macbeth', 'Paradise Lost', 'The Great Gatsby', 'Pride and Prejudice', 'Sense and Sensibility', 'Lolita', 'Jane Eyre', 'The Communist Manifesto', 'The Iliad', 'The Scarlet Letter', \"The Handmaid's Tale\", 'The Secret Garden', 'Treasure Island', 'King Lear', 'The Idiot', 'The Complete Stories', 'Dracula', 'The Histories', 'Deception Point', 'The Return of the King (The Lord of the Rings  #3)', 'Atlas Shrugged', 'Les Misérables', 'War and Peace', 'Don Quixote', 'Great Expectations', 'Memoirs of a Geisha', 'Little Women', \"Ender's Game (Ender's Saga  #1)\", 'Crime and Punishment', \"Gulliver's Travels\", 'Siddhartha', 'Mansfield Park', 'Cien años de soledad', 'The Aeneid', 'The Glass Castle', 'About a Boy', 'The Sun Also Rises', 'The Da Vinci Code (Robert Langdon  #2)', 'Cyrano de Bergerac', 'Madame Bovary', 'On the Road', 'Pedro Páramo', 'The Time Machine', 'Sula', \"Charlotte's Web\", \"Man's Search for Meaning\", 'Emma', 'The Tale of Genji', 'The Taming of the Shrew', 'The House of the Spirits', 'Julius Caesar', 'Mere Christianity', 'The Complete Plays', 'The House of Mirth', 'The Woman in White', 'Middlemarch', 'White Teeth', 'The Corrections', 'Persuasion', 'Never Let Me Go', 'Romeo & Juliet', 'The Invisible Man', 'Fear and Loathing in Las Vegas', 'The Fellowship of the Ring (The Lord of the Rings  #1)', 'The BFG', 'James and the Giant Peach', 'Atonement', 'Mrs. Dalloway', 'The Metamorphosis', 'Of Mice and Men', 'Frankenstein', 'Moll Flanders', 'Twelfth Night', 'The Old Man and the Sea', 'Hamlet', 'Critique of Pure Reason', \"Alice's Adventures in Wonderland & Through the Looking-Glass\", 'The Call of the Wild', 'The Known World', 'Love', 'John Adams', 'La casa de los espíritus', 'To Kill a Mockingbird', 'Far from the Madding Crowd', \"Gravity's Rainbow\", 'Haunted', 'Moby-Dick', 'A Clockwork Orange', 'The Moonstone', 'The Crying of Lot 49', 'Bridge to Terabithia', 'Bookends', 'The Bluest Eye', 'Matilda', '1984', 'Welcome to the Monkey House', 'Ficciones', 'Like Water for Chocolate', 'The Metamorphosis and Other Stories', 'The Hotel New Hampshire', 'The Silmarillion', 'East of Eden', 'Timequake', 'Pygmalion', 'The Grapes of Wrath', 'The Heart Is a Lonely Hunter', 'American Gods', 'The Screwtape Letters', 'The Wind-Up Bird Chronicle', 'Sodom and Gomorrah (In Search of Lost Time  #4)', 'The Bell Jar', 'Five Quarters of the Orange', 'Candide', 'Magician: Apprentice (The Riftwar Saga  #1)', 'Open House', 'Narcissus and Goldmund', 'The Merchant of Venice', 'Dubliners', 'Last Man Standing', 'Kim', 'Rape: A Love Story', 'Different Seasons', 'The Complete Novels', 'The Eternity Code (Artemis Fowl  #3)', 'The Lovely Bones', 'A Farewell to Arms', \"Alice's Adventures in Wonderland\", 'Choke', \"One Flew Over the Cuckoo's Nest\", 'Artemis Fowl (Artemis Fowl  #1)', 'Taxi Driver', 'Invisible Cities', 'Microserfs', 'Starship Troopers', 'Cry  the Beloved Country', 'Naked', 'Eugene Onegin', 'Selected Poems', 'In Cold Blood', 'All Quiet on the Western Front', 'Oliver Twist', \"Moonraker's Bride\", 'The Gunslinger (The Dark Tower  #1)', 'Adventures of Huckleberry Finn', 'The Arctic Incident (Artemis Fowl  #2)', 'The Mill on the Floss', 'Moby Dick', 'The Little Friend', 'The Two Towers (The Lord of the Rings  #2)', 'Flowers for Algernon', 'Howards End', \"In the Company of Cheerful Ladies (No. 1 Ladies' Detective Agency  #6)\", 'Billy Budd  Sailor', 'Doctor Faustus', 'The Book of Five Rings', \"Uncle Tom's Cabin\", 'Selected Stories', 'Night Shift', \"The Time Traveler's Wife\", 'Memoria de mis putas tristes', 'The Phantom Tollbooth', 'Blink: The Power of Thinking Without Thinking', 'Cujo', 'The Red and the Black', 'A Walk in the Woods: Rediscovering America on the Appalachian Trail', 'Sonnets', 'Lirael (Abhorsen  #2)', 'Naked Lunch', 'Democracy in America', 'The Wonderful Story of Henry Sugar and Six More', 'Wuthering Heights', 'A Brief History of Time', 'The Poisonwood Bible', \"The Hitchhiker's Guide to the Galaxy (Hitchhiker's Guide to the Galaxy  #1)\", 'The Art of War', 'American Psycho', 'The Divine Comedy', 'Chocolat (Chocolat  #1)', \"L'Étranger\", 'The Count of Monte Cristo', 'Scar Tissue', 'Coraline', 'The Three Musketeers', 'Vanity Fair', 'The Canterbury Tales', 'The Waste Lands (The Dark Tower  #3)', 'The Stranger', 'A Little Princess', 'Medea', 'The Illustrated Man', 'The Adventures of Huckleberry Finn', 'The Book of Disquiet', 'Are We There Yet?', 'Naked Empire (Sword of Truth  #8)', 'The Origin of Species', \"The Family That Couldn't Sleep: A Medical Mystery\", 'Bag of Bones', 'Living to Tell the Tale', 'Harry Potter and the Chamber of Secrets (Harry Potter  #2)', 'Pippi Longstocking', 'The Other Woman', 'The Catcher in the Rye', 'The Secret Life of Bees', 'Beauty', 'The Godfather', 'The Namesake', 'The Richest Man in Babylon', 'Hard Eight (Stephanie Plum  #8)', 'Chainfire (Sword of Truth  #9)', 'The Other Boleyn Girl', 'The Oresteia', 'Antigone', 'Darkness at Noon', 'The Sound and the Fury', \"My Sister's Keeper\", 'Dead Souls', 'Le Petit Prince', 'In the Shadow of Young Girls in Flower (In Search of Lost Time  #2)', \"The Botany of Desire: A Plant's-Eye View of the World\", 'Beneath the Wheel', 'Othello', 'The Turn of the Screw', 'The Autograph Man', 'One Door Away from Heaven', 'Glamorama', 'The Outsiders', 'The Hunchback of Notre-Dame', 'Possession', 'Swan Song', 'Jackdaws', 'Misery', 'The Possessed', 'The Adventures of Tom Sawyer', 'The Big Sleep (Philip Marlowe  #1)', 'The Sea', 'Dark Star Safari: Overland from Cairo to Cape Town', 'Use of Weapons', \"Foucault's Pendulum\", 'The Years of Rice and Salt', 'Black Beauty', 'Perfume: The Story of a Murderer', 'Tuck Everlasting', 'Beloved', 'The Celestine Prophecy', \"A Supposedly Fun Thing I'll Never Do Again: Essays and Arguments\", 'Kitchen Confidential: Adventures in the Culinary Underbelly', 'The Very Hungry Caterpillar', \"The Dirt: Confessions of the World's Most Notorious Rock Band\", \"Speaker for the Dead (Ender's Saga  #2)\", 'Ivanhoe', 'To Sail Beyond the Sunset', 'The Curious Incident of the Dog in the Night-Time', 'Shards of a Broken Crown (The Serpentwar Saga  #4)', 'Even Cowgirls Get the Blues', 'The Wall', 'Flush', 'Two for the Dough (Stephanie Plum  #2)', \"I Don't Know How She Does It (Kate Reddy  #1)\", \"3rd Degree (Women's Murder Club  #3)\", 'Cosmopolis', 'The Eyes of the Dragon', 'Blind Willow  Sleeping Woman', 'Ready or Not (All-American Girl  #2)', 'The Kite Runner', 'Quicksand', 'Desert Flower', 'Ragtime', \"Girls' Night In\", 'The Fountainhead', 'The Damned (Vampire Huntress  #6)', 'Civilization and Its Discontents', 'The Five People You Meet in Heaven', 'Tuesdays with Morrie', 'Jazz', 'A Streetcar Named Desire', 'Mystic River', 'The Year of Magical Thinking', 'Democracy Matters: Winning the Fight Against Imperialism', 'The Shining', 'Snow Crash', 'Go Ask Alice', 'The Echo Maker', 'Until I Find You', 'The Hound of the Baskervilles (Sherlock Holmes  #5)', 'Light in August', 'Hot Six (Stephanie Plum  #6)', 'The Eyre Affair (Thursday Next  #1)', 'The 9/11 Commission Report: Final Report of the National Commission on Terrorist Attacks Upon the United States', 'Daniel Deronda', 'Watership Down', 'Stiff: The Curious Lives of Human Cadavers', 'Marvels', 'Shield of Thunder (Troy  #2)', 'The Tolkien Reader', 'Lincoln at Gettysburg: The Words That Remade America', 'The Cave', 'The Complete Works', 'Twilight (Twilight  #1)', 'Mrs. Frisby and the Rats of NIMH', \"Hegel's Phenomenology of Spirit\", 'Marie Antoinette: The Journey', 'A Moveable Feast', 'Tehanu (Earthsea Cycle  #4)', 'A Painted House', 'The Subtle Knife (His Dark Materials  #2)', 'The Fifth Mountain', 'The Sea of Monsters (Percy Jackson and the Olympians  #2)', 'Mysteries', \"Midnight's Children\", 'Cerulean Sins (Anita Blake  Vampire Hunter  #11)', 'Filth', 'Tropic of Cancer', 'Four to Score (Stephanie Plum  #4)', 'English Passengers', 'Zorro', 'Foxmask (Saga of the Light Isles  #2)', 'The Shadow of the Wind (The Cemetery of Forgotten Books  #1)', 'The Illustrated A Brief History of Time', 'The Trial', 'The Westing Game', 'The Stephen King Collection: Stories from Night Shift', 'To the Lighthouse', 'Little Dorrit', 'Casino Royale', 'Zen and the Art of Motorcycle Maintenance: An Inquiry Into Values', 'Five Patients', 'The Outsider', 'Crónica de una muerte anunciada', 'Team of Rivals: The Political Genius of Abraham Lincoln', 'In Praise of Shadows', 'Elven Star (The Death Gate Cycle  #2)', 'River of Blue Fire (Otherland  #2)', 'The Historian', 'The Consolation of Philosophy', 'Into the Wild', 'Identity', 'The Locked Room (The New York Trilogy  #3)', 'A Year in Provence', 'Love Overboard', 'Sputnik Sweetheart', 'Carrie', 'The Runaway Jury', 'As You Like It', 'Shopgirl', 'The Closers (Harry Bosch  #11; Harry Bosch Universe  #14)', 'The Player of Games (Culture  #2)', 'The Hobbit', 'White Oleander', 'Trainspotting', 'The Scarlet Letter and Other Writings', 'Holidays on Ice', 'The Presocratic Philosophers', 'Lysistrata', 'The Stone Raft', 'A Christmas Carol', 'The Amber Spyglass (His Dark Materials  #3)', 'Casino Royale (James Bond  #1)', 'The Red Tent', 'A Short History of Nearly Everything', 'Wide Sargasso Sea', 'How to Travel with a Salmon and Other Essays', 'Running with Scissors', 'Reefer Madness: Sex  Drugs  and Cheap Labor in the American Black Market', 'Roverandom', 'Harry Potter and the Half-Blood Prince (Harry Potter  #6)', 'Nights in Rodanthe', 'While I Was Gone', 'Love Smart: Find the One You Want--Fix the One You Got', 'The Consolations of Philosophy', 'Middlesex', 'Candy', 'The Dharma Bums', 'Prey', 'Baltasar and Blimunda', 'Well of Darkness (Sovereign Stone  #1)', 'The Gangs of New York', 'V.', 'Murder on the Orient Express (Hercule Poirot  #10)', 'Slow Learner: Early Stories', 'The Silver Pigs (Marcus Didius Falco  #1)', 'The Short Stories', 'Cold Mountain', 'Gilead', 'Skeleton Crew', 'The Virgin Suicides', 'The Voyage of the Jerle Shannara Trilogy (Voyage of the Jerle Shannara  #1-3)', 'Stargirl (Stargirl  #1)', 'The White Album', 'Blindsighted (Grant County  #1)', 'Under the Banner of Heaven: A Story of Violent Faith', 'Ilse Witch (Voyage of the Jerle Shannara #1)', 'Malinche', 'The Portrait of a Lady', 'Around the World in Eighty Days', 'The House of the Scorpion (Matteo Alacran  #1)', 'Fantastic Mr. Fox', 'The Valkyries', \"Swann's Way (In Search of Lost Time  #1)\", 'The Wealth of Nations', 'Their Eyes Were Watching God', 'Angel Fire East (Word & Void  #3)', 'Harry Potter and the Prisoner of Azkaban (Harry Potter  #3)', 'A Prayer for Owen Meany', 'A Portrait of the Artist as a Young Man', 'Sahara (Dirk Pitt  #11)', 'The Da Vinci Code', 'The Beautiful and Damned', 'Beauty: A Retelling of the Story of Beauty and the Beast', 'Harvesting the Heart', 'Narrative of the Life of Frederick Douglass', 'The Curious Sofa', 'The History of the Siege of Lisbon', 'The Worm Ouroboros', 'A Fine Balance', 'The Bone Collector (Lincoln Rhyme  #1)', 'The Awakening', 'Act of Treason (Mitch Rapp  #9)', 'And Then There Were None', 'One Hundred Years Of Solitude', 'The God of Small Things', 'How to Stop Worrying and Start Living', 'Dragonfly in Amber (Outlander  #2)', 'Philosophical Investigations', 'Quicksilver (The Baroque Cycle  #1)', 'The Hours', 'Roses Are Red (Alex Cross  #6)', 'Americana', 'How to Win Friends and Influence People', 'Underworld', 'Fierce Invalids Home from Hot Climates', 'Zodiac', \"The Pilot's Wife\", \"The Prime of Miss Jean Brodie / The Girls of Slender Means / The Driver's Seat / The Only Problem\", 'Alas  Babylon', 'Blackberry Wine', 'Nineteen Eighty-Four', 'The Beach House', \"Armageddon's Children (Genesis of Shannara  #1)\", 'The Day I Swapped My Dad for Two Goldfish', \"The Titan's Curse (Percy Jackson and the Olympians  #3)\", 'South of the Border  West of the Sun', 'The Thorn Birds', 'Anne of Avonlea', 'Neuromancer', 'Oryx and Crake (MaddAddam  #1)', 'Much Ado About Nothing', \"Bill Bryson's African Diary\", 'The Jane Austen Book Club', 'Introduction to Phenomenology', 'Quo Vadis', 'Ella Enchanted', 'El umbral de la noche', \"A Hard Day's Write: The Stories Behind Every Beatles Song\", 'Paula', 'Ulysses', 'Song of Solomon', 'A Confederacy of Dunces', 'Black House (The Talisman  #2)', 'An Instance of the Fingerpost', 'La tabla de Flandes', \"Alice's Adventures in Wonderland and Through the Looking Glass\", \"Surely You're Joking  Mr. Feynman!: Adventures of a Curious Character\", 'The One Tree (The Second Chronicles of Thomas Covenant  #2)', 'Much Ado about Nothing', 'Far From the Madding Crowd', \"Sabbath's Theater\", 'QED: The Strange Theory of Light and Matter', 'Message in a Bottle', 'The Moon is a Harsh Mistress', 'White Fang', 'The Heritage of Shannara (Heritage of Shannara  #1-4)', \"The Bonesetter's Daughter\", 'The Talisman', 'Neverwhere', 'The Satanic Verses', 'Where the Wild Things Are', 'The Changeling', 'Mine', 'The Jungle', 'Runaway', 'The Canterville Ghost', 'The Twenty-Seventh City', 'A Murder Is Announced (Miss Marple  #5)', 'Republic', 'Hunger', 'Bleak House', 'Dry', 'Kafka on the Shore', \"A Room of One's Own\", 'Everything Is Illuminated', 'In the Hand of the Goddess (Song of the Lioness  #2)', 'The Charterhouse of Parma', 'Agnes Grey', 'Norwegian Wood', 'The Castle of Otranto', 'Heat', 'The Gospel According to Jesus Christ', 'The Dark Half', 'The Adventures of Sherlock Holmes', 'Them: Adventures with Extremists', 'The Quiet American', 'Life Is a Dream', 'The Complete Sherlock Holmes  Volume I', 'Daughter of Fortune', \"Usher's Passing\", '1776', 'Faust  Part Two', 'Leviathan', 'The Black Echo (Harry Bosch  #1; Harry Bosch Universe  #1)', 'First Things First', 'Snow', 'Utopia', \"Trickster's Choice (Daughter of the Lioness  #1)\", 'Brave New World', 'V for Vendetta', 'A Passage to India', 'A History of God: The 4 000-Year Quest of Judaism  Christianity  and Islam', 'The Portable Dorothy Parker', 'Fever Pitch', 'Do Androids Dream of Electric Sheep?', 'Europe Central', \"The Clan of the Cave Bear (Earth's Children  #1)\", 'Magician (The Riftwar Saga  #1-2)', 'The Birth of Tragedy', 'Jonathan Strange & Mr Norrell', 'Narrative of the Life of Frederick Douglass: An American Slave  Written by Himself', 'The Rule of Four', 'Gargantua and Pantagruel', 'Death of a Salesman', 'Something Borrowed (Darcy & Rachel  #1)', 'The Good Guy', 'Magic Kingdom for Sale—Sold! (Magic Kingdom of Landover #1)', 'Freakonomics: A Rogue Economist Explores the Hidden Side of Everything', 'The Art of Loving', 'Girl with a Pearl Earring', \"Sophie's World\", 'Tales of the City (Tales of the City  #1)', \"Prodigal Son (Dean Koontz's Frankenstein  #1)\", \"Dead Man's Folly (Hercule Poirot  #33)\", 'Miss Wyoming', 'The Mating Season (Jeeves  #9)', \"The Magicians' Guild (Black Magician Trilogy  #1)\", 'Wild Swans: Three Daughters of China', 'Orlando', 'Babyville', 'Nicomachean Ethics', 'The Farthest Shore (Earthsea Cycle  #3)', 'Gödel  Escher  Bach: An Eternal Golden Braid', 'The Dark Mirror (The Bridei Chronicles  #1)', 'Excession (Culture  #5)', 'The Gap Into Madness: Chaos and Order (Gap  #4)', 'The Tempest', 'City of God', 'The Epic of Gilgamesh', 'Lipstick Jungle', 'Paddy Clarke Ha Ha Ha', 'The Alchemist', 'Main Street', 'The Good Earth', 'Candide: or  Optimism', 'Falling Up', 'The Tipping Point: How Little Things Can Make a Big Difference', 'This Side of Paradise', 'Metro Girl (Alex Barnaby  #1)', 'Cathedral', 'The Complete Poems', 'The Far Pavilions', 'The Book Thief', 'At Risk (Winston Garano  #1)', 'Fire: From A Journal of Love - The Unexpurgated Diary of Anaïs Nin (1934-1937)', 'Anthem', 'The Music of Chance', 'The Elements of Style', 'The Lightning Thief (Percy Jackson and the Olympians  #1)', 'The Unconsoled', 'Angels & Demons (Robert Langdon  #1)', 'The Hound of the Baskervilles', 'The Guardian', 'The Pact', 'Three Men in a Boat: To Say Nothing of the Dog', 'The Drama of the Gifted Child: The Search for the True Self', 'Harry Potter y la Orden del Fénix (Harry Potter  #5)', 'How to Be a Domestic Goddess: Baking and the Art of Comfort Cooking', \"Harry Potter and the Sorcerer's Stone (Harry Potter  #1)\", 'Wizard and Glass (The Dark Tower  #4)', \"Aesop's Fables\", 'The Plot Against America', 'Plain Truth', 'Jitterbug Perfume', 'The Last Herald-Mage (Valdemar: The Last Herald-Mage  #1-3)', 'Good Omens: The Nice and Accurate Prophecies of Agnes Nutter  Witch', 'The Shell Seekers']\n"
     ]
    }
   ],
   "source": [
    "print(titles_to_consolidate)"
   ]
  },
  {
   "cell_type": "code",
   "execution_count": 71,
   "metadata": {},
   "outputs": [
    {
     "name": "stdout",
     "output_type": "stream",
     "text": [
      "607\n"
     ]
    }
   ],
   "source": [
    "print(len(titles_to_consolidate))"
   ]
  },
  {
   "cell_type": "code",
   "execution_count": 72,
   "metadata": {},
   "outputs": [
    {
     "data": {
      "text/plain": [
       "(11068, 7)"
      ]
     },
     "execution_count": 72,
     "metadata": {},
     "output_type": "execute_result"
    }
   ],
   "source": [
    "df.shape"
   ]
  },
  {
   "cell_type": "code",
   "execution_count": 73,
   "metadata": {},
   "outputs": [
    {
     "data": {
      "text/html": [
       "<div>\n",
       "<style scoped>\n",
       "    .dataframe tbody tr th:only-of-type {\n",
       "        vertical-align: middle;\n",
       "    }\n",
       "\n",
       "    .dataframe tbody tr th {\n",
       "        vertical-align: top;\n",
       "    }\n",
       "\n",
       "    .dataframe thead th {\n",
       "        text-align: right;\n",
       "    }\n",
       "</style>\n",
       "<table border=\"1\" class=\"dataframe\">\n",
       "  <thead>\n",
       "    <tr style=\"text-align: right;\">\n",
       "      <th></th>\n",
       "      <th>title</th>\n",
       "      <th>authors</th>\n",
       "      <th>average_rating</th>\n",
       "      <th>language_code</th>\n",
       "      <th>pages</th>\n",
       "      <th>ratings_count</th>\n",
       "      <th>text_reviews_count</th>\n",
       "    </tr>\n",
       "  </thead>\n",
       "  <tbody>\n",
       "    <tr>\n",
       "      <th>153</th>\n",
       "      <td>One Hundred Years of Solitude</td>\n",
       "      <td>Gabriel García Márquez-Gregory Rabassa</td>\n",
       "      <td>4.06</td>\n",
       "      <td>eng</td>\n",
       "      <td>417</td>\n",
       "      <td>547207</td>\n",
       "      <td>15763</td>\n",
       "    </tr>\n",
       "    <tr>\n",
       "      <th>1772</th>\n",
       "      <td>One Hundred Years of Solitude</td>\n",
       "      <td>Gabriel García Márquez-Gregory Rabassa</td>\n",
       "      <td>4.06</td>\n",
       "      <td>eng</td>\n",
       "      <td>458</td>\n",
       "      <td>3371</td>\n",
       "      <td>315</td>\n",
       "    </tr>\n",
       "    <tr>\n",
       "      <th>1774</th>\n",
       "      <td>One Hundred Years of Solitude</td>\n",
       "      <td>Gabriel García Márquez-Gregory Rabassa</td>\n",
       "      <td>4.06</td>\n",
       "      <td>eng</td>\n",
       "      <td>417</td>\n",
       "      <td>84</td>\n",
       "      <td>5</td>\n",
       "    </tr>\n",
       "    <tr>\n",
       "      <th>2493</th>\n",
       "      <td>One Hundred Years of Solitude</td>\n",
       "      <td>Gabriel García Márquez-Gregory Rabassa</td>\n",
       "      <td>4.06</td>\n",
       "      <td>eng</td>\n",
       "      <td>448</td>\n",
       "      <td>1510</td>\n",
       "      <td>201</td>\n",
       "    </tr>\n",
       "    <tr>\n",
       "      <th>2495</th>\n",
       "      <td>One Hundred Years of Solitude</td>\n",
       "      <td>Gabriel García Márquez-Gregory Rabassa</td>\n",
       "      <td>4.06</td>\n",
       "      <td>eng</td>\n",
       "      <td>422</td>\n",
       "      <td>954</td>\n",
       "      <td>112</td>\n",
       "    </tr>\n",
       "  </tbody>\n",
       "</table>\n",
       "</div>"
      ],
      "text/plain": [
       "                              title                                 authors  \\\n",
       "153   One Hundred Years of Solitude  Gabriel García Márquez-Gregory Rabassa   \n",
       "1772  One Hundred Years of Solitude  Gabriel García Márquez-Gregory Rabassa   \n",
       "1774  One Hundred Years of Solitude  Gabriel García Márquez-Gregory Rabassa   \n",
       "2493  One Hundred Years of Solitude  Gabriel García Márquez-Gregory Rabassa   \n",
       "2495  One Hundred Years of Solitude  Gabriel García Márquez-Gregory Rabassa   \n",
       "\n",
       "      average_rating language_code  pages  ratings_count  text_reviews_count  \n",
       "153             4.06           eng    417         547207               15763  \n",
       "1772            4.06           eng    458           3371                 315  \n",
       "1774            4.06           eng    417             84                   5  \n",
       "2493            4.06           eng    448           1510                 201  \n",
       "2495            4.06           eng    422            954                 112  "
      ]
     },
     "execution_count": 73,
     "metadata": {},
     "output_type": "execute_result"
    }
   ],
   "source": [
    "#collecting the data on the titles listed more than once\n",
    "titledf = pd.DataFrame()\n",
    "for i in titles_to_consolidate:\n",
    "    addtitle = pd.DataFrame(df.loc[df.title == i])\n",
    "    titledf = titledf.append(addtitle)\n",
    "    addtitle = pd.DataFrame()\n",
    "titledf.head()   "
   ]
  },
  {
   "cell_type": "code",
   "execution_count": 74,
   "metadata": {},
   "outputs": [
    {
     "data": {
      "text/plain": [
       "(1615, 7)"
      ]
     },
     "execution_count": 74,
     "metadata": {},
     "output_type": "execute_result"
    }
   ],
   "source": [
    "titledf.shape"
   ]
  },
  {
   "cell_type": "code",
   "execution_count": 75,
   "metadata": {},
   "outputs": [
    {
     "data": {
      "text/html": [
       "<div>\n",
       "<style scoped>\n",
       "    .dataframe tbody tr th:only-of-type {\n",
       "        vertical-align: middle;\n",
       "    }\n",
       "\n",
       "    .dataframe tbody tr th {\n",
       "        vertical-align: top;\n",
       "    }\n",
       "\n",
       "    .dataframe thead th {\n",
       "        text-align: right;\n",
       "    }\n",
       "</style>\n",
       "<table border=\"1\" class=\"dataframe\">\n",
       "  <thead>\n",
       "    <tr style=\"text-align: right;\">\n",
       "      <th></th>\n",
       "      <th>title</th>\n",
       "      <th>authors</th>\n",
       "      <th>average_rating</th>\n",
       "      <th>language_code</th>\n",
       "      <th>pages</th>\n",
       "      <th>ratings_count</th>\n",
       "      <th>text_reviews_count</th>\n",
       "    </tr>\n",
       "  </thead>\n",
       "  <tbody>\n",
       "    <tr>\n",
       "      <th>1846</th>\n",
       "      <td>'Salem's Lot</td>\n",
       "      <td>Stephen King-Ron McLarty</td>\n",
       "      <td>4.01</td>\n",
       "      <td>eng</td>\n",
       "      <td>17</td>\n",
       "      <td>227</td>\n",
       "      <td>55</td>\n",
       "    </tr>\n",
       "    <tr>\n",
       "      <th>10992</th>\n",
       "      <td>'Salem's Lot</td>\n",
       "      <td>Stephen King</td>\n",
       "      <td>4.01</td>\n",
       "      <td>eng</td>\n",
       "      <td>427</td>\n",
       "      <td>176</td>\n",
       "      <td>20</td>\n",
       "    </tr>\n",
       "    <tr>\n",
       "      <th>1845</th>\n",
       "      <td>'Salem's Lot</td>\n",
       "      <td>Stephen King-Jerry N. Uelsmann</td>\n",
       "      <td>4.25</td>\n",
       "      <td>eng</td>\n",
       "      <td>594</td>\n",
       "      <td>81170</td>\n",
       "      <td>504</td>\n",
       "    </tr>\n",
       "    <tr>\n",
       "      <th>6400</th>\n",
       "      <td>'Salem's Lot</td>\n",
       "      <td>Stephen King-Ron McLarty</td>\n",
       "      <td>4.01</td>\n",
       "      <td>en-US</td>\n",
       "      <td>0</td>\n",
       "      <td>55</td>\n",
       "      <td>5</td>\n",
       "    </tr>\n",
       "    <tr>\n",
       "      <th>1847</th>\n",
       "      <td>'Salem's Lot</td>\n",
       "      <td>Stephen King</td>\n",
       "      <td>4.01</td>\n",
       "      <td>eng</td>\n",
       "      <td>405</td>\n",
       "      <td>959</td>\n",
       "      <td>121</td>\n",
       "    </tr>\n",
       "    <tr>\n",
       "      <th>1850</th>\n",
       "      <td>'Salem's Lot</td>\n",
       "      <td>Stephen King</td>\n",
       "      <td>4.01</td>\n",
       "      <td>eng</td>\n",
       "      <td>446</td>\n",
       "      <td>399</td>\n",
       "      <td>45</td>\n",
       "    </tr>\n",
       "    <tr>\n",
       "      <th>1851</th>\n",
       "      <td>'Salem's Lot</td>\n",
       "      <td>Stephen King</td>\n",
       "      <td>4.01</td>\n",
       "      <td>en-US</td>\n",
       "      <td>427</td>\n",
       "      <td>169</td>\n",
       "      <td>33</td>\n",
       "    </tr>\n",
       "    <tr>\n",
       "      <th>3781</th>\n",
       "      <td>'Salem's Lot</td>\n",
       "      <td>Stephen King</td>\n",
       "      <td>4.01</td>\n",
       "      <td>eng</td>\n",
       "      <td>483</td>\n",
       "      <td>266312</td>\n",
       "      <td>5513</td>\n",
       "    </tr>\n",
       "    <tr>\n",
       "      <th>6062</th>\n",
       "      <td>'Salem's Lot</td>\n",
       "      <td>Stephen King</td>\n",
       "      <td>4.01</td>\n",
       "      <td>eng</td>\n",
       "      <td>631</td>\n",
       "      <td>3386</td>\n",
       "      <td>357</td>\n",
       "    </tr>\n",
       "    <tr>\n",
       "      <th>364</th>\n",
       "      <td>1776</td>\n",
       "      <td>Peter  Stone-Sherman Edwards</td>\n",
       "      <td>4.21</td>\n",
       "      <td>eng</td>\n",
       "      <td>192</td>\n",
       "      <td>1269</td>\n",
       "      <td>30</td>\n",
       "    </tr>\n",
       "    <tr>\n",
       "      <th>363</th>\n",
       "      <td>1776</td>\n",
       "      <td>David McCullough</td>\n",
       "      <td>4.07</td>\n",
       "      <td>eng</td>\n",
       "      <td>386</td>\n",
       "      <td>158126</td>\n",
       "      <td>6034</td>\n",
       "    </tr>\n",
       "    <tr>\n",
       "      <th>1867</th>\n",
       "      <td>1984</td>\n",
       "      <td>George Orwell-Walter Cronkite-Erich Fromm</td>\n",
       "      <td>4.17</td>\n",
       "      <td>eng</td>\n",
       "      <td>268</td>\n",
       "      <td>1915</td>\n",
       "      <td>233</td>\n",
       "    </tr>\n",
       "    <tr>\n",
       "      <th>6387</th>\n",
       "      <td>1984</td>\n",
       "      <td>George Orwell-Mauricio Molina-Miguel Martínez ...</td>\n",
       "      <td>4.17</td>\n",
       "      <td>spa</td>\n",
       "      <td>301</td>\n",
       "      <td>437</td>\n",
       "      <td>40</td>\n",
       "    </tr>\n",
       "    <tr>\n",
       "      <th>1868</th>\n",
       "      <td>1984</td>\n",
       "      <td>George Orwell-Erich Fromm</td>\n",
       "      <td>4.17</td>\n",
       "      <td>eng</td>\n",
       "      <td>268</td>\n",
       "      <td>1283</td>\n",
       "      <td>124</td>\n",
       "    </tr>\n",
       "    <tr>\n",
       "      <th>4359</th>\n",
       "      <td>3rd Degree (Women's Murder Club  #3)</td>\n",
       "      <td>James Patterson-Andrew Gross</td>\n",
       "      <td>4.01</td>\n",
       "      <td>eng</td>\n",
       "      <td>352</td>\n",
       "      <td>249</td>\n",
       "      <td>12</td>\n",
       "    </tr>\n",
       "    <tr>\n",
       "      <th>4339</th>\n",
       "      <td>3rd Degree (Women's Murder Club  #3)</td>\n",
       "      <td>James Patterson-Andrew Gross</td>\n",
       "      <td>4.01</td>\n",
       "      <td>eng</td>\n",
       "      <td>339</td>\n",
       "      <td>60777</td>\n",
       "      <td>1684</td>\n",
       "    </tr>\n",
       "    <tr>\n",
       "      <th>5840</th>\n",
       "      <td>A Brief History of Time</td>\n",
       "      <td>Stephen Hawking</td>\n",
       "      <td>4.16</td>\n",
       "      <td>en-GB</td>\n",
       "      <td>241</td>\n",
       "      <td>222</td>\n",
       "      <td>12</td>\n",
       "    </tr>\n",
       "    <tr>\n",
       "      <th>5838</th>\n",
       "      <td>A Brief History of Time</td>\n",
       "      <td>Stephen Hawking-Carl Sagan</td>\n",
       "      <td>4.16</td>\n",
       "      <td>eng</td>\n",
       "      <td>198</td>\n",
       "      <td>1524</td>\n",
       "      <td>145</td>\n",
       "    </tr>\n",
       "    <tr>\n",
       "      <th>1324</th>\n",
       "      <td>A Brief History of Time</td>\n",
       "      <td>Stephen Hawking</td>\n",
       "      <td>4.16</td>\n",
       "      <td>eng</td>\n",
       "      <td>212</td>\n",
       "      <td>214520</td>\n",
       "      <td>5300</td>\n",
       "    </tr>\n",
       "    <tr>\n",
       "      <th>1805</th>\n",
       "      <td>A Christmas Carol</td>\n",
       "      <td>Charles Dickens</td>\n",
       "      <td>4.04</td>\n",
       "      <td>eng</td>\n",
       "      <td>112</td>\n",
       "      <td>6415</td>\n",
       "      <td>444</td>\n",
       "    </tr>\n",
       "    <tr>\n",
       "      <th>1804</th>\n",
       "      <td>A Christmas Carol</td>\n",
       "      <td>Charles Dickens-P.J. Lynch</td>\n",
       "      <td>4.04</td>\n",
       "      <td>en-CA</td>\n",
       "      <td>160</td>\n",
       "      <td>4201</td>\n",
       "      <td>325</td>\n",
       "    </tr>\n",
       "    <tr>\n",
       "      <th>2853</th>\n",
       "      <td>A Clockwork Orange</td>\n",
       "      <td>Anthony Burgess-Blake Morrison</td>\n",
       "      <td>3.99</td>\n",
       "      <td>eng</td>\n",
       "      <td>159</td>\n",
       "      <td>4911</td>\n",
       "      <td>497</td>\n",
       "    </tr>\n",
       "    <tr>\n",
       "      <th>2854</th>\n",
       "      <td>A Clockwork Orange</td>\n",
       "      <td>Anthony Burgess</td>\n",
       "      <td>3.99</td>\n",
       "      <td>en-GB</td>\n",
       "      <td>160</td>\n",
       "      <td>1367</td>\n",
       "      <td>115</td>\n",
       "    </tr>\n",
       "    <tr>\n",
       "      <th>2855</th>\n",
       "      <td>A Clockwork Orange</td>\n",
       "      <td>Anthony Burgess</td>\n",
       "      <td>3.99</td>\n",
       "      <td>eng</td>\n",
       "      <td>191</td>\n",
       "      <td>614</td>\n",
       "      <td>69</td>\n",
       "    </tr>\n",
       "    <tr>\n",
       "      <th>7986</th>\n",
       "      <td>A Confederacy of Dunces</td>\n",
       "      <td>John Kennedy Toole-Walker Percy</td>\n",
       "      <td>3.89</td>\n",
       "      <td>eng</td>\n",
       "      <td>338</td>\n",
       "      <td>1409</td>\n",
       "      <td>160</td>\n",
       "    </tr>\n",
       "    <tr>\n",
       "      <th>7985</th>\n",
       "      <td>A Confederacy of Dunces</td>\n",
       "      <td>John Kennedy Toole</td>\n",
       "      <td>3.89</td>\n",
       "      <td>eng</td>\n",
       "      <td>397</td>\n",
       "      <td>531</td>\n",
       "      <td>48</td>\n",
       "    </tr>\n",
       "    <tr>\n",
       "      <th>3481</th>\n",
       "      <td>A Farewell to Arms</td>\n",
       "      <td>Ernest Hemingway-John Slattery</td>\n",
       "      <td>3.80</td>\n",
       "      <td>eng</td>\n",
       "      <td>8</td>\n",
       "      <td>274</td>\n",
       "      <td>60</td>\n",
       "    </tr>\n",
       "    <tr>\n",
       "      <th>3482</th>\n",
       "      <td>A Farewell to Arms</td>\n",
       "      <td>Ernest Hemingway</td>\n",
       "      <td>3.80</td>\n",
       "      <td>eng</td>\n",
       "      <td>336</td>\n",
       "      <td>164</td>\n",
       "      <td>26</td>\n",
       "    </tr>\n",
       "    <tr>\n",
       "      <th>3483</th>\n",
       "      <td>A Farewell to Arms</td>\n",
       "      <td>Ernest Hemingway</td>\n",
       "      <td>3.80</td>\n",
       "      <td>eng</td>\n",
       "      <td>293</td>\n",
       "      <td>210197</td>\n",
       "      <td>6087</td>\n",
       "    </tr>\n",
       "    <tr>\n",
       "      <th>1768</th>\n",
       "      <td>A Fine Balance</td>\n",
       "      <td>Rohinton Mistry</td>\n",
       "      <td>4.36</td>\n",
       "      <td>eng</td>\n",
       "      <td>603</td>\n",
       "      <td>108208</td>\n",
       "      <td>7248</td>\n",
       "    </tr>\n",
       "    <tr>\n",
       "      <th>...</th>\n",
       "      <td>...</td>\n",
       "      <td>...</td>\n",
       "      <td>...</td>\n",
       "      <td>...</td>\n",
       "      <td>...</td>\n",
       "      <td>...</td>\n",
       "      <td>...</td>\n",
       "    </tr>\n",
       "    <tr>\n",
       "      <th>2276</th>\n",
       "      <td>Welcome to the Monkey House</td>\n",
       "      <td>Kurt Vonnegut-David Strathairn-Maria Tucci-Bil...</td>\n",
       "      <td>4.14</td>\n",
       "      <td>en-US</td>\n",
       "      <td>9</td>\n",
       "      <td>60</td>\n",
       "      <td>11</td>\n",
       "    </tr>\n",
       "    <tr>\n",
       "      <th>8883</th>\n",
       "      <td>Well of Darkness (Sovereign Stone  #1)</td>\n",
       "      <td>Margaret Weis-Tracy Hickman</td>\n",
       "      <td>3.66</td>\n",
       "      <td>eng</td>\n",
       "      <td>562</td>\n",
       "      <td>2010</td>\n",
       "      <td>47</td>\n",
       "    </tr>\n",
       "    <tr>\n",
       "      <th>8855</th>\n",
       "      <td>Well of Darkness (Sovereign Stone  #1)</td>\n",
       "      <td>Margaret Weis-Tracy Hickman</td>\n",
       "      <td>3.66</td>\n",
       "      <td>en-GB</td>\n",
       "      <td>599</td>\n",
       "      <td>68</td>\n",
       "      <td>3</td>\n",
       "    </tr>\n",
       "    <tr>\n",
       "      <th>6537</th>\n",
       "      <td>Where the Wild Things Are</td>\n",
       "      <td>Maurice Sendak</td>\n",
       "      <td>4.22</td>\n",
       "      <td>eng</td>\n",
       "      <td>37</td>\n",
       "      <td>713336</td>\n",
       "      <td>9878</td>\n",
       "    </tr>\n",
       "    <tr>\n",
       "      <th>6536</th>\n",
       "      <td>Where the Wild Things Are</td>\n",
       "      <td>Maurice Sendak</td>\n",
       "      <td>4.22</td>\n",
       "      <td>eng</td>\n",
       "      <td>40</td>\n",
       "      <td>8504</td>\n",
       "      <td>477</td>\n",
       "    </tr>\n",
       "    <tr>\n",
       "      <th>5281</th>\n",
       "      <td>While I Was Gone</td>\n",
       "      <td>Sue Miller</td>\n",
       "      <td>3.68</td>\n",
       "      <td>eng</td>\n",
       "      <td>352</td>\n",
       "      <td>232</td>\n",
       "      <td>27</td>\n",
       "    </tr>\n",
       "    <tr>\n",
       "      <th>1748</th>\n",
       "      <td>While I Was Gone</td>\n",
       "      <td>Sue Miller</td>\n",
       "      <td>3.68</td>\n",
       "      <td>eng</td>\n",
       "      <td>304</td>\n",
       "      <td>55166</td>\n",
       "      <td>1151</td>\n",
       "    </tr>\n",
       "    <tr>\n",
       "      <th>12526</th>\n",
       "      <td>White Fang</td>\n",
       "      <td>Kathleen Olmstead-Jack London-Dan Andreasen-Ar...</td>\n",
       "      <td>4.22</td>\n",
       "      <td>en-US</td>\n",
       "      <td>160</td>\n",
       "      <td>646</td>\n",
       "      <td>29</td>\n",
       "    </tr>\n",
       "    <tr>\n",
       "      <th>12524</th>\n",
       "      <td>White Fang</td>\n",
       "      <td>Jack London</td>\n",
       "      <td>3.96</td>\n",
       "      <td>eng</td>\n",
       "      <td>252</td>\n",
       "      <td>113232</td>\n",
       "      <td>2945</td>\n",
       "    </tr>\n",
       "    <tr>\n",
       "      <th>9981</th>\n",
       "      <td>White Oleander</td>\n",
       "      <td>Janet Fitch</td>\n",
       "      <td>3.96</td>\n",
       "      <td>eng</td>\n",
       "      <td>446</td>\n",
       "      <td>277863</td>\n",
       "      <td>5894</td>\n",
       "    </tr>\n",
       "    <tr>\n",
       "      <th>1770</th>\n",
       "      <td>White Oleander</td>\n",
       "      <td>Janet Fitch</td>\n",
       "      <td>3.95</td>\n",
       "      <td>eng</td>\n",
       "      <td>480</td>\n",
       "      <td>3031</td>\n",
       "      <td>208</td>\n",
       "    </tr>\n",
       "    <tr>\n",
       "      <th>1245</th>\n",
       "      <td>White Teeth</td>\n",
       "      <td>Zadie Smith</td>\n",
       "      <td>3.76</td>\n",
       "      <td>eng</td>\n",
       "      <td>448</td>\n",
       "      <td>96220</td>\n",
       "      <td>5370</td>\n",
       "    </tr>\n",
       "    <tr>\n",
       "      <th>1410</th>\n",
       "      <td>White Teeth</td>\n",
       "      <td>Zadie Smith</td>\n",
       "      <td>3.76</td>\n",
       "      <td>eng</td>\n",
       "      <td>542</td>\n",
       "      <td>3859</td>\n",
       "      <td>382</td>\n",
       "    </tr>\n",
       "    <tr>\n",
       "      <th>1412</th>\n",
       "      <td>White Teeth</td>\n",
       "      <td>Zadie Smith</td>\n",
       "      <td>3.76</td>\n",
       "      <td>en-GB</td>\n",
       "      <td>542</td>\n",
       "      <td>1239</td>\n",
       "      <td>140</td>\n",
       "    </tr>\n",
       "    <tr>\n",
       "      <th>1411</th>\n",
       "      <td>White Teeth</td>\n",
       "      <td>Zadie Smith</td>\n",
       "      <td>3.76</td>\n",
       "      <td>eng</td>\n",
       "      <td>448</td>\n",
       "      <td>78</td>\n",
       "      <td>11</td>\n",
       "    </tr>\n",
       "    <tr>\n",
       "      <th>12940</th>\n",
       "      <td>Wide Sargasso Sea</td>\n",
       "      <td>Jean Rhys</td>\n",
       "      <td>3.58</td>\n",
       "      <td>en-US</td>\n",
       "      <td>168</td>\n",
       "      <td>825</td>\n",
       "      <td>75</td>\n",
       "    </tr>\n",
       "    <tr>\n",
       "      <th>12941</th>\n",
       "      <td>Wide Sargasso Sea</td>\n",
       "      <td>Jean Rhys</td>\n",
       "      <td>3.58</td>\n",
       "      <td>eng</td>\n",
       "      <td>160</td>\n",
       "      <td>21276</td>\n",
       "      <td>1391</td>\n",
       "    </tr>\n",
       "    <tr>\n",
       "      <th>637</th>\n",
       "      <td>Wild Swans: Three Daughters of China</td>\n",
       "      <td>Jung Chang</td>\n",
       "      <td>4.25</td>\n",
       "      <td>eng</td>\n",
       "      <td>562</td>\n",
       "      <td>69142</td>\n",
       "      <td>4103</td>\n",
       "    </tr>\n",
       "    <tr>\n",
       "      <th>3138</th>\n",
       "      <td>Wild Swans: Three Daughters of China</td>\n",
       "      <td>Jung Chang</td>\n",
       "      <td>4.25</td>\n",
       "      <td>eng</td>\n",
       "      <td>666</td>\n",
       "      <td>1758</td>\n",
       "      <td>208</td>\n",
       "    </tr>\n",
       "    <tr>\n",
       "      <th>1713</th>\n",
       "      <td>Wizard and Glass (The Dark Tower  #4)</td>\n",
       "      <td>Stephen King-Dave McKean</td>\n",
       "      <td>4.25</td>\n",
       "      <td>eng</td>\n",
       "      <td>845</td>\n",
       "      <td>122796</td>\n",
       "      <td>3396</td>\n",
       "    </tr>\n",
       "    <tr>\n",
       "      <th>6057</th>\n",
       "      <td>Wizard and Glass (The Dark Tower  #4)</td>\n",
       "      <td>Stephen King</td>\n",
       "      <td>4.25</td>\n",
       "      <td>eng</td>\n",
       "      <td>702</td>\n",
       "      <td>864</td>\n",
       "      <td>103</td>\n",
       "    </tr>\n",
       "    <tr>\n",
       "      <th>4181</th>\n",
       "      <td>Wuthering Heights</td>\n",
       "      <td>Emily Brontë-Alice Hoffman</td>\n",
       "      <td>3.84</td>\n",
       "      <td>eng</td>\n",
       "      <td>322</td>\n",
       "      <td>1894</td>\n",
       "      <td>204</td>\n",
       "    </tr>\n",
       "    <tr>\n",
       "      <th>2077</th>\n",
       "      <td>Wuthering Heights</td>\n",
       "      <td>Emily Brontë-Richard J. Dunn-David Timson-Char...</td>\n",
       "      <td>3.84</td>\n",
       "      <td>eng</td>\n",
       "      <td>464</td>\n",
       "      <td>1041597</td>\n",
       "      <td>20192</td>\n",
       "    </tr>\n",
       "    <tr>\n",
       "      <th>2076</th>\n",
       "      <td>Wuthering Heights</td>\n",
       "      <td>Emily Brontë</td>\n",
       "      <td>3.84</td>\n",
       "      <td>eng</td>\n",
       "      <td>279</td>\n",
       "      <td>2101</td>\n",
       "      <td>175</td>\n",
       "    </tr>\n",
       "    <tr>\n",
       "      <th>4331</th>\n",
       "      <td>Zen and the Art of Motorcycle Maintenance: An ...</td>\n",
       "      <td>Robert M. Pirsig</td>\n",
       "      <td>3.77</td>\n",
       "      <td>eng</td>\n",
       "      <td>412</td>\n",
       "      <td>414</td>\n",
       "      <td>43</td>\n",
       "    </tr>\n",
       "    <tr>\n",
       "      <th>249</th>\n",
       "      <td>Zen and the Art of Motorcycle Maintenance: An ...</td>\n",
       "      <td>Robert M. Pirsig</td>\n",
       "      <td>3.77</td>\n",
       "      <td>eng</td>\n",
       "      <td>540</td>\n",
       "      <td>157734</td>\n",
       "      <td>6101</td>\n",
       "    </tr>\n",
       "    <tr>\n",
       "      <th>299</th>\n",
       "      <td>Zodiac</td>\n",
       "      <td>Neal Stephenson</td>\n",
       "      <td>3.71</td>\n",
       "      <td>eng</td>\n",
       "      <td>308</td>\n",
       "      <td>14508</td>\n",
       "      <td>525</td>\n",
       "    </tr>\n",
       "    <tr>\n",
       "      <th>5789</th>\n",
       "      <td>Zodiac</td>\n",
       "      <td>Neal Stephenson-Jean-Pierre Pugi</td>\n",
       "      <td>3.71</td>\n",
       "      <td>fre</td>\n",
       "      <td>391</td>\n",
       "      <td>65</td>\n",
       "      <td>0</td>\n",
       "    </tr>\n",
       "    <tr>\n",
       "      <th>2971</th>\n",
       "      <td>Zorro</td>\n",
       "      <td>Isabel Allende</td>\n",
       "      <td>3.76</td>\n",
       "      <td>eng</td>\n",
       "      <td>390</td>\n",
       "      <td>271</td>\n",
       "      <td>52</td>\n",
       "    </tr>\n",
       "    <tr>\n",
       "      <th>7921</th>\n",
       "      <td>Zorro</td>\n",
       "      <td>Isabel Allende-Margaret Sayers Peden</td>\n",
       "      <td>3.76</td>\n",
       "      <td>eng</td>\n",
       "      <td>677</td>\n",
       "      <td>15788</td>\n",
       "      <td>1114</td>\n",
       "    </tr>\n",
       "  </tbody>\n",
       "</table>\n",
       "<p>1615 rows × 7 columns</p>\n",
       "</div>"
      ],
      "text/plain": [
       "                                                   title  \\\n",
       "1846                                        'Salem's Lot   \n",
       "10992                                       'Salem's Lot   \n",
       "1845                                        'Salem's Lot   \n",
       "6400                                        'Salem's Lot   \n",
       "1847                                        'Salem's Lot   \n",
       "1850                                        'Salem's Lot   \n",
       "1851                                        'Salem's Lot   \n",
       "3781                                        'Salem's Lot   \n",
       "6062                                        'Salem's Lot   \n",
       "364                                                 1776   \n",
       "363                                                 1776   \n",
       "1867                                                1984   \n",
       "6387                                                1984   \n",
       "1868                                                1984   \n",
       "4359                3rd Degree (Women's Murder Club  #3)   \n",
       "4339                3rd Degree (Women's Murder Club  #3)   \n",
       "5840                             A Brief History of Time   \n",
       "5838                             A Brief History of Time   \n",
       "1324                             A Brief History of Time   \n",
       "1805                                   A Christmas Carol   \n",
       "1804                                   A Christmas Carol   \n",
       "2853                                  A Clockwork Orange   \n",
       "2854                                  A Clockwork Orange   \n",
       "2855                                  A Clockwork Orange   \n",
       "7986                             A Confederacy of Dunces   \n",
       "7985                             A Confederacy of Dunces   \n",
       "3481                                  A Farewell to Arms   \n",
       "3482                                  A Farewell to Arms   \n",
       "3483                                  A Farewell to Arms   \n",
       "1768                                      A Fine Balance   \n",
       "...                                                  ...   \n",
       "2276                         Welcome to the Monkey House   \n",
       "8883              Well of Darkness (Sovereign Stone  #1)   \n",
       "8855              Well of Darkness (Sovereign Stone  #1)   \n",
       "6537                           Where the Wild Things Are   \n",
       "6536                           Where the Wild Things Are   \n",
       "5281                                    While I Was Gone   \n",
       "1748                                    While I Was Gone   \n",
       "12526                                         White Fang   \n",
       "12524                                         White Fang   \n",
       "9981                                      White Oleander   \n",
       "1770                                      White Oleander   \n",
       "1245                                         White Teeth   \n",
       "1410                                         White Teeth   \n",
       "1412                                         White Teeth   \n",
       "1411                                         White Teeth   \n",
       "12940                                  Wide Sargasso Sea   \n",
       "12941                                  Wide Sargasso Sea   \n",
       "637                 Wild Swans: Three Daughters of China   \n",
       "3138                Wild Swans: Three Daughters of China   \n",
       "1713               Wizard and Glass (The Dark Tower  #4)   \n",
       "6057               Wizard and Glass (The Dark Tower  #4)   \n",
       "4181                                   Wuthering Heights   \n",
       "2077                                   Wuthering Heights   \n",
       "2076                                   Wuthering Heights   \n",
       "4331   Zen and the Art of Motorcycle Maintenance: An ...   \n",
       "249    Zen and the Art of Motorcycle Maintenance: An ...   \n",
       "299                                               Zodiac   \n",
       "5789                                              Zodiac   \n",
       "2971                                               Zorro   \n",
       "7921                                               Zorro   \n",
       "\n",
       "                                                 authors  average_rating  \\\n",
       "1846                            Stephen King-Ron McLarty            4.01   \n",
       "10992                                       Stephen King            4.01   \n",
       "1845                      Stephen King-Jerry N. Uelsmann            4.25   \n",
       "6400                            Stephen King-Ron McLarty            4.01   \n",
       "1847                                        Stephen King            4.01   \n",
       "1850                                        Stephen King            4.01   \n",
       "1851                                        Stephen King            4.01   \n",
       "3781                                        Stephen King            4.01   \n",
       "6062                                        Stephen King            4.01   \n",
       "364                         Peter  Stone-Sherman Edwards            4.21   \n",
       "363                                     David McCullough            4.07   \n",
       "1867           George Orwell-Walter Cronkite-Erich Fromm            4.17   \n",
       "6387   George Orwell-Mauricio Molina-Miguel Martínez ...            4.17   \n",
       "1868                           George Orwell-Erich Fromm            4.17   \n",
       "4359                        James Patterson-Andrew Gross            4.01   \n",
       "4339                        James Patterson-Andrew Gross            4.01   \n",
       "5840                                     Stephen Hawking            4.16   \n",
       "5838                          Stephen Hawking-Carl Sagan            4.16   \n",
       "1324                                     Stephen Hawking            4.16   \n",
       "1805                                     Charles Dickens            4.04   \n",
       "1804                          Charles Dickens-P.J. Lynch            4.04   \n",
       "2853                      Anthony Burgess-Blake Morrison            3.99   \n",
       "2854                                     Anthony Burgess            3.99   \n",
       "2855                                     Anthony Burgess            3.99   \n",
       "7986                     John Kennedy Toole-Walker Percy            3.89   \n",
       "7985                                  John Kennedy Toole            3.89   \n",
       "3481                      Ernest Hemingway-John Slattery            3.80   \n",
       "3482                                    Ernest Hemingway            3.80   \n",
       "3483                                    Ernest Hemingway            3.80   \n",
       "1768                                     Rohinton Mistry            4.36   \n",
       "...                                                  ...             ...   \n",
       "2276   Kurt Vonnegut-David Strathairn-Maria Tucci-Bil...            4.14   \n",
       "8883                         Margaret Weis-Tracy Hickman            3.66   \n",
       "8855                         Margaret Weis-Tracy Hickman            3.66   \n",
       "6537                                      Maurice Sendak            4.22   \n",
       "6536                                      Maurice Sendak            4.22   \n",
       "5281                                          Sue Miller            3.68   \n",
       "1748                                          Sue Miller            3.68   \n",
       "12526  Kathleen Olmstead-Jack London-Dan Andreasen-Ar...            4.22   \n",
       "12524                                        Jack London            3.96   \n",
       "9981                                         Janet Fitch            3.96   \n",
       "1770                                         Janet Fitch            3.95   \n",
       "1245                                         Zadie Smith            3.76   \n",
       "1410                                         Zadie Smith            3.76   \n",
       "1412                                         Zadie Smith            3.76   \n",
       "1411                                         Zadie Smith            3.76   \n",
       "12940                                          Jean Rhys            3.58   \n",
       "12941                                          Jean Rhys            3.58   \n",
       "637                                           Jung Chang            4.25   \n",
       "3138                                          Jung Chang            4.25   \n",
       "1713                            Stephen King-Dave McKean            4.25   \n",
       "6057                                        Stephen King            4.25   \n",
       "4181                          Emily Brontë-Alice Hoffman            3.84   \n",
       "2077   Emily Brontë-Richard J. Dunn-David Timson-Char...            3.84   \n",
       "2076                                        Emily Brontë            3.84   \n",
       "4331                                    Robert M. Pirsig            3.77   \n",
       "249                                     Robert M. Pirsig            3.77   \n",
       "299                                      Neal Stephenson            3.71   \n",
       "5789                    Neal Stephenson-Jean-Pierre Pugi            3.71   \n",
       "2971                                      Isabel Allende            3.76   \n",
       "7921                Isabel Allende-Margaret Sayers Peden            3.76   \n",
       "\n",
       "      language_code  pages  ratings_count  text_reviews_count  \n",
       "1846            eng     17            227                  55  \n",
       "10992           eng    427            176                  20  \n",
       "1845            eng    594          81170                 504  \n",
       "6400          en-US      0             55                   5  \n",
       "1847            eng    405            959                 121  \n",
       "1850            eng    446            399                  45  \n",
       "1851          en-US    427            169                  33  \n",
       "3781            eng    483         266312                5513  \n",
       "6062            eng    631           3386                 357  \n",
       "364             eng    192           1269                  30  \n",
       "363             eng    386         158126                6034  \n",
       "1867            eng    268           1915                 233  \n",
       "6387            spa    301            437                  40  \n",
       "1868            eng    268           1283                 124  \n",
       "4359            eng    352            249                  12  \n",
       "4339            eng    339          60777                1684  \n",
       "5840          en-GB    241            222                  12  \n",
       "5838            eng    198           1524                 145  \n",
       "1324            eng    212         214520                5300  \n",
       "1805            eng    112           6415                 444  \n",
       "1804          en-CA    160           4201                 325  \n",
       "2853            eng    159           4911                 497  \n",
       "2854          en-GB    160           1367                 115  \n",
       "2855            eng    191            614                  69  \n",
       "7986            eng    338           1409                 160  \n",
       "7985            eng    397            531                  48  \n",
       "3481            eng      8            274                  60  \n",
       "3482            eng    336            164                  26  \n",
       "3483            eng    293         210197                6087  \n",
       "1768            eng    603         108208                7248  \n",
       "...             ...    ...            ...                 ...  \n",
       "2276          en-US      9             60                  11  \n",
       "8883            eng    562           2010                  47  \n",
       "8855          en-GB    599             68                   3  \n",
       "6537            eng     37         713336                9878  \n",
       "6536            eng     40           8504                 477  \n",
       "5281            eng    352            232                  27  \n",
       "1748            eng    304          55166                1151  \n",
       "12526         en-US    160            646                  29  \n",
       "12524           eng    252         113232                2945  \n",
       "9981            eng    446         277863                5894  \n",
       "1770            eng    480           3031                 208  \n",
       "1245            eng    448          96220                5370  \n",
       "1410            eng    542           3859                 382  \n",
       "1412          en-GB    542           1239                 140  \n",
       "1411            eng    448             78                  11  \n",
       "12940         en-US    168            825                  75  \n",
       "12941           eng    160          21276                1391  \n",
       "637             eng    562          69142                4103  \n",
       "3138            eng    666           1758                 208  \n",
       "1713            eng    845         122796                3396  \n",
       "6057            eng    702            864                 103  \n",
       "4181            eng    322           1894                 204  \n",
       "2077            eng    464        1041597               20192  \n",
       "2076            eng    279           2101                 175  \n",
       "4331            eng    412            414                  43  \n",
       "249             eng    540         157734                6101  \n",
       "299             eng    308          14508                 525  \n",
       "5789            fre    391             65                   0  \n",
       "2971            eng    390            271                  52  \n",
       "7921            eng    677          15788                1114  \n",
       "\n",
       "[1615 rows x 7 columns]"
      ]
     },
     "execution_count": 75,
     "metadata": {},
     "output_type": "execute_result"
    }
   ],
   "source": [
    "titledf.sort_values(by=['title']) "
   ]
  },
  {
   "cell_type": "code",
   "execution_count": 76,
   "metadata": {},
   "outputs": [
    {
     "data": {
      "text/plain": [
       "title\n",
       "'Salem's Lot                            631\n",
       "1776                                    386\n",
       "1984                                    301\n",
       "3rd Degree (Women's Murder Club  #3)    352\n",
       "A Brief History of Time                 241\n",
       "Name: pages, dtype: int64"
      ]
     },
     "execution_count": 76,
     "metadata": {},
     "output_type": "execute_result"
    }
   ],
   "source": [
    "#for number of pages I will use the one listed that is the greatest \n",
    "conpages = titledf.groupby('title')['pages'].max()\n",
    "conpages.head(5)"
   ]
  },
  {
   "cell_type": "code",
   "execution_count": 77,
   "metadata": {},
   "outputs": [
    {
     "data": {
      "text/html": [
       "<div>\n",
       "<style scoped>\n",
       "    .dataframe tbody tr th:only-of-type {\n",
       "        vertical-align: middle;\n",
       "    }\n",
       "\n",
       "    .dataframe tbody tr th {\n",
       "        vertical-align: top;\n",
       "    }\n",
       "\n",
       "    .dataframe thead th {\n",
       "        text-align: right;\n",
       "    }\n",
       "</style>\n",
       "<table border=\"1\" class=\"dataframe\">\n",
       "  <thead>\n",
       "    <tr style=\"text-align: right;\">\n",
       "      <th></th>\n",
       "      <th>pages</th>\n",
       "    </tr>\n",
       "    <tr>\n",
       "      <th>title</th>\n",
       "      <th></th>\n",
       "    </tr>\n",
       "  </thead>\n",
       "  <tbody>\n",
       "    <tr>\n",
       "      <th>'Salem's Lot</th>\n",
       "      <td>631</td>\n",
       "    </tr>\n",
       "    <tr>\n",
       "      <th>1776</th>\n",
       "      <td>386</td>\n",
       "    </tr>\n",
       "    <tr>\n",
       "      <th>1984</th>\n",
       "      <td>301</td>\n",
       "    </tr>\n",
       "    <tr>\n",
       "      <th>3rd Degree (Women's Murder Club  #3)</th>\n",
       "      <td>352</td>\n",
       "    </tr>\n",
       "    <tr>\n",
       "      <th>A Brief History of Time</th>\n",
       "      <td>241</td>\n",
       "    </tr>\n",
       "  </tbody>\n",
       "</table>\n",
       "</div>"
      ],
      "text/plain": [
       "                                      pages\n",
       "title                                      \n",
       "'Salem's Lot                            631\n",
       "1776                                    386\n",
       "1984                                    301\n",
       "3rd Degree (Women's Murder Club  #3)    352\n",
       "A Brief History of Time                 241"
      ]
     },
     "execution_count": 77,
     "metadata": {},
     "output_type": "execute_result"
    }
   ],
   "source": [
    "conpages = pd.DataFrame(conpages)\n",
    "conpages.head()"
   ]
  },
  {
   "cell_type": "raw",
   "metadata": {},
   "source": [
    "#setting up to get the average rating \n",
    "titledf['avgratexratecount'] = titledf.average_rating * titledf.ratings_count\n",
    "titledf.head()"
   ]
  },
  {
   "cell_type": "code",
   "execution_count": 79,
   "metadata": {},
   "outputs": [
    {
     "data": {
      "text/html": [
       "<div>\n",
       "<style scoped>\n",
       "    .dataframe tbody tr th:only-of-type {\n",
       "        vertical-align: middle;\n",
       "    }\n",
       "\n",
       "    .dataframe tbody tr th {\n",
       "        vertical-align: top;\n",
       "    }\n",
       "\n",
       "    .dataframe thead th {\n",
       "        text-align: right;\n",
       "    }\n",
       "</style>\n",
       "<table border=\"1\" class=\"dataframe\">\n",
       "  <thead>\n",
       "    <tr style=\"text-align: right;\">\n",
       "      <th></th>\n",
       "      <th>title</th>\n",
       "      <th>ratings_count</th>\n",
       "      <th>text_reviews_count</th>\n",
       "      <th>avgratexratecount</th>\n",
       "    </tr>\n",
       "  </thead>\n",
       "  <tbody>\n",
       "    <tr>\n",
       "      <th>169</th>\n",
       "      <td>Harry Potter and the Sorcerer's Stone (Harry P...</td>\n",
       "      <td>5630064</td>\n",
       "      <td>70402</td>\n",
       "      <td>25166386.08</td>\n",
       "    </tr>\n",
       "    <tr>\n",
       "      <th>578</th>\n",
       "      <td>Twilight (Twilight  #1)</td>\n",
       "      <td>4369733</td>\n",
       "      <td>94163</td>\n",
       "      <td>15687341.47</td>\n",
       "    </tr>\n",
       "    <tr>\n",
       "      <th>387</th>\n",
       "      <td>The Catcher in the Rye</td>\n",
       "      <td>2337327</td>\n",
       "      <td>44033</td>\n",
       "      <td>8881842.60</td>\n",
       "    </tr>\n",
       "    <tr>\n",
       "      <th>43</th>\n",
       "      <td>Angels &amp; Demons (Robert Langdon  #1)</td>\n",
       "      <td>2281009</td>\n",
       "      <td>20995</td>\n",
       "      <td>8850314.92</td>\n",
       "    </tr>\n",
       "    <tr>\n",
       "      <th>168</th>\n",
       "      <td>Harry Potter and the Prisoner of Azkaban (Harr...</td>\n",
       "      <td>2152988</td>\n",
       "      <td>34111</td>\n",
       "      <td>9796095.40</td>\n",
       "    </tr>\n",
       "  </tbody>\n",
       "</table>\n",
       "</div>"
      ],
      "text/plain": [
       "                                                 title  ratings_count  \\\n",
       "169  Harry Potter and the Sorcerer's Stone (Harry P...        5630064   \n",
       "578                            Twilight (Twilight  #1)        4369733   \n",
       "387                             The Catcher in the Rye        2337327   \n",
       "43                Angels & Demons (Robert Langdon  #1)        2281009   \n",
       "168  Harry Potter and the Prisoner of Azkaban (Harr...        2152988   \n",
       "\n",
       "     text_reviews_count  avgratexratecount  \n",
       "169               70402        25166386.08  \n",
       "578               94163        15687341.47  \n",
       "387               44033         8881842.60  \n",
       "43                20995         8850314.92  \n",
       "168               34111         9796095.40  "
      ]
     },
     "execution_count": 79,
     "metadata": {},
     "output_type": "execute_result"
    }
   ],
   "source": [
    "#totaling the ratings count and text_reviews_count for each book and more setup for average rating\n",
    "totals = titledf.groupby('title')['ratings_count', 'text_reviews_count', 'avgratexratecount'].sum().reset_index().sort_values('ratings_count', \n",
    "ascending=False)\n",
    "totals.head()"
   ]
  },
  {
   "cell_type": "code",
   "execution_count": 80,
   "metadata": {},
   "outputs": [
    {
     "data": {
      "text/html": [
       "<div>\n",
       "<style scoped>\n",
       "    .dataframe tbody tr th:only-of-type {\n",
       "        vertical-align: middle;\n",
       "    }\n",
       "\n",
       "    .dataframe tbody tr th {\n",
       "        vertical-align: top;\n",
       "    }\n",
       "\n",
       "    .dataframe thead th {\n",
       "        text-align: right;\n",
       "    }\n",
       "</style>\n",
       "<table border=\"1\" class=\"dataframe\">\n",
       "  <thead>\n",
       "    <tr style=\"text-align: right;\">\n",
       "      <th></th>\n",
       "      <th>title</th>\n",
       "      <th>ratings_count</th>\n",
       "      <th>text_reviews_count</th>\n",
       "      <th>avgratexratecount</th>\n",
       "      <th>weightedavgrate</th>\n",
       "    </tr>\n",
       "  </thead>\n",
       "  <tbody>\n",
       "    <tr>\n",
       "      <th>169</th>\n",
       "      <td>Harry Potter and the Sorcerer's Stone (Harry P...</td>\n",
       "      <td>5630064</td>\n",
       "      <td>70402</td>\n",
       "      <td>25166386.08</td>\n",
       "      <td>4.47</td>\n",
       "    </tr>\n",
       "    <tr>\n",
       "      <th>578</th>\n",
       "      <td>Twilight (Twilight  #1)</td>\n",
       "      <td>4369733</td>\n",
       "      <td>94163</td>\n",
       "      <td>15687341.47</td>\n",
       "      <td>3.59</td>\n",
       "    </tr>\n",
       "    <tr>\n",
       "      <th>387</th>\n",
       "      <td>The Catcher in the Rye</td>\n",
       "      <td>2337327</td>\n",
       "      <td>44033</td>\n",
       "      <td>8881842.60</td>\n",
       "      <td>3.80</td>\n",
       "    </tr>\n",
       "    <tr>\n",
       "      <th>43</th>\n",
       "      <td>Angels &amp; Demons (Robert Langdon  #1)</td>\n",
       "      <td>2281009</td>\n",
       "      <td>20995</td>\n",
       "      <td>8850314.92</td>\n",
       "      <td>3.88</td>\n",
       "    </tr>\n",
       "    <tr>\n",
       "      <th>168</th>\n",
       "      <td>Harry Potter and the Prisoner of Azkaban (Harr...</td>\n",
       "      <td>2152988</td>\n",
       "      <td>34111</td>\n",
       "      <td>9796095.40</td>\n",
       "      <td>4.55</td>\n",
       "    </tr>\n",
       "  </tbody>\n",
       "</table>\n",
       "</div>"
      ],
      "text/plain": [
       "                                                 title  ratings_count  \\\n",
       "169  Harry Potter and the Sorcerer's Stone (Harry P...        5630064   \n",
       "578                            Twilight (Twilight  #1)        4369733   \n",
       "387                             The Catcher in the Rye        2337327   \n",
       "43                Angels & Demons (Robert Langdon  #1)        2281009   \n",
       "168  Harry Potter and the Prisoner of Azkaban (Harr...        2152988   \n",
       "\n",
       "     text_reviews_count  avgratexratecount  weightedavgrate  \n",
       "169               70402        25166386.08             4.47  \n",
       "578               94163        15687341.47             3.59  \n",
       "387               44033         8881842.60             3.80  \n",
       "43                20995         8850314.92             3.88  \n",
       "168               34111         9796095.40             4.55  "
      ]
     },
     "execution_count": 80,
     "metadata": {},
     "output_type": "execute_result"
    }
   ],
   "source": [
    "#calculating and adding average rating\n",
    "totals['weightedavgrate'] = totals.avgratexratecount/totals.ratings_count\n",
    "totals.head()"
   ]
  },
  {
   "cell_type": "code",
   "execution_count": 81,
   "metadata": {},
   "outputs": [
    {
     "data": {
      "text/plain": [
       "(11068, 7)"
      ]
     },
     "execution_count": 81,
     "metadata": {},
     "output_type": "execute_result"
    }
   ],
   "source": [
    "df.shape"
   ]
  },
  {
   "cell_type": "code",
   "execution_count": 82,
   "metadata": {},
   "outputs": [
    {
     "data": {
      "text/plain": [
       "(10060, 7)"
      ]
     },
     "execution_count": 82,
     "metadata": {},
     "output_type": "execute_result"
    }
   ],
   "source": [
    "df = df.drop_duplicates(subset='title', keep=\"first\")\n",
    "df.shape"
   ]
  },
  {
   "cell_type": "code",
   "execution_count": 83,
   "metadata": {},
   "outputs": [
    {
     "data": {
      "text/html": [
       "<div>\n",
       "<style scoped>\n",
       "    .dataframe tbody tr th:only-of-type {\n",
       "        vertical-align: middle;\n",
       "    }\n",
       "\n",
       "    .dataframe tbody tr th {\n",
       "        vertical-align: top;\n",
       "    }\n",
       "\n",
       "    .dataframe thead th {\n",
       "        text-align: right;\n",
       "    }\n",
       "</style>\n",
       "<table border=\"1\" class=\"dataframe\">\n",
       "  <thead>\n",
       "    <tr style=\"text-align: right;\">\n",
       "      <th></th>\n",
       "      <th>title</th>\n",
       "      <th>authors</th>\n",
       "      <th>average_rating</th>\n",
       "      <th>language_code</th>\n",
       "      <th>pages</th>\n",
       "      <th>ratings_count</th>\n",
       "      <th>text_reviews_count</th>\n",
       "    </tr>\n",
       "    <tr>\n",
       "      <th>title</th>\n",
       "      <th></th>\n",
       "      <th></th>\n",
       "      <th></th>\n",
       "      <th></th>\n",
       "      <th></th>\n",
       "      <th></th>\n",
       "      <th></th>\n",
       "    </tr>\n",
       "  </thead>\n",
       "  <tbody>\n",
       "    <tr>\n",
       "      <th>Harry Potter and the Half-Blood Prince (Harry Potter  #6)</th>\n",
       "      <td>Harry Potter and the Half-Blood Prince (Harry ...</td>\n",
       "      <td>J.K. Rowling-Mary GrandPré</td>\n",
       "      <td>4.56</td>\n",
       "      <td>eng</td>\n",
       "      <td>652</td>\n",
       "      <td>1944099</td>\n",
       "      <td>26249</td>\n",
       "    </tr>\n",
       "    <tr>\n",
       "      <th>Harry Potter and the Order of the Phoenix (Harry Potter  #5)</th>\n",
       "      <td>Harry Potter and the Order of the Phoenix (Har...</td>\n",
       "      <td>J.K. Rowling-Mary GrandPré</td>\n",
       "      <td>4.49</td>\n",
       "      <td>eng</td>\n",
       "      <td>870</td>\n",
       "      <td>1996446</td>\n",
       "      <td>27613</td>\n",
       "    </tr>\n",
       "    <tr>\n",
       "      <th>Harry Potter and the Sorcerer's Stone (Harry Potter  #1)</th>\n",
       "      <td>Harry Potter and the Sorcerer's Stone (Harry P...</td>\n",
       "      <td>J.K. Rowling-Mary GrandPré</td>\n",
       "      <td>4.47</td>\n",
       "      <td>eng</td>\n",
       "      <td>320</td>\n",
       "      <td>5629932</td>\n",
       "      <td>70390</td>\n",
       "    </tr>\n",
       "    <tr>\n",
       "      <th>Harry Potter and the Chamber of Secrets (Harry Potter  #2)</th>\n",
       "      <td>Harry Potter and the Chamber of Secrets (Harry...</td>\n",
       "      <td>J.K. Rowling</td>\n",
       "      <td>4.41</td>\n",
       "      <td>eng</td>\n",
       "      <td>352</td>\n",
       "      <td>6267</td>\n",
       "      <td>272</td>\n",
       "    </tr>\n",
       "    <tr>\n",
       "      <th>Harry Potter and the Prisoner of Azkaban (Harry Potter  #3)</th>\n",
       "      <td>Harry Potter and the Prisoner of Azkaban (Harr...</td>\n",
       "      <td>J.K. Rowling-Mary GrandPré</td>\n",
       "      <td>4.55</td>\n",
       "      <td>eng</td>\n",
       "      <td>435</td>\n",
       "      <td>2149872</td>\n",
       "      <td>33964</td>\n",
       "    </tr>\n",
       "  </tbody>\n",
       "</table>\n",
       "</div>"
      ],
      "text/plain": [
       "                                                                                                title  \\\n",
       "title                                                                                                   \n",
       "Harry Potter and the Half-Blood Prince (Harry P...  Harry Potter and the Half-Blood Prince (Harry ...   \n",
       "Harry Potter and the Order of the Phoenix (Harr...  Harry Potter and the Order of the Phoenix (Har...   \n",
       "Harry Potter and the Sorcerer's Stone (Harry Po...  Harry Potter and the Sorcerer's Stone (Harry P...   \n",
       "Harry Potter and the Chamber of Secrets (Harry ...  Harry Potter and the Chamber of Secrets (Harry...   \n",
       "Harry Potter and the Prisoner of Azkaban (Harry...  Harry Potter and the Prisoner of Azkaban (Harr...   \n",
       "\n",
       "                                                                       authors  \\\n",
       "title                                                                            \n",
       "Harry Potter and the Half-Blood Prince (Harry P...  J.K. Rowling-Mary GrandPré   \n",
       "Harry Potter and the Order of the Phoenix (Harr...  J.K. Rowling-Mary GrandPré   \n",
       "Harry Potter and the Sorcerer's Stone (Harry Po...  J.K. Rowling-Mary GrandPré   \n",
       "Harry Potter and the Chamber of Secrets (Harry ...                J.K. Rowling   \n",
       "Harry Potter and the Prisoner of Azkaban (Harry...  J.K. Rowling-Mary GrandPré   \n",
       "\n",
       "                                                    average_rating  \\\n",
       "title                                                                \n",
       "Harry Potter and the Half-Blood Prince (Harry P...            4.56   \n",
       "Harry Potter and the Order of the Phoenix (Harr...            4.49   \n",
       "Harry Potter and the Sorcerer's Stone (Harry Po...            4.47   \n",
       "Harry Potter and the Chamber of Secrets (Harry ...            4.41   \n",
       "Harry Potter and the Prisoner of Azkaban (Harry...            4.55   \n",
       "\n",
       "                                                   language_code  pages  \\\n",
       "title                                                                     \n",
       "Harry Potter and the Half-Blood Prince (Harry P...           eng    652   \n",
       "Harry Potter and the Order of the Phoenix (Harr...           eng    870   \n",
       "Harry Potter and the Sorcerer's Stone (Harry Po...           eng    320   \n",
       "Harry Potter and the Chamber of Secrets (Harry ...           eng    352   \n",
       "Harry Potter and the Prisoner of Azkaban (Harry...           eng    435   \n",
       "\n",
       "                                                    ratings_count  \\\n",
       "title                                                               \n",
       "Harry Potter and the Half-Blood Prince (Harry P...        1944099   \n",
       "Harry Potter and the Order of the Phoenix (Harr...        1996446   \n",
       "Harry Potter and the Sorcerer's Stone (Harry Po...        5629932   \n",
       "Harry Potter and the Chamber of Secrets (Harry ...           6267   \n",
       "Harry Potter and the Prisoner of Azkaban (Harry...        2149872   \n",
       "\n",
       "                                                    text_reviews_count  \n",
       "title                                                                   \n",
       "Harry Potter and the Half-Blood Prince (Harry P...               26249  \n",
       "Harry Potter and the Order of the Phoenix (Harr...               27613  \n",
       "Harry Potter and the Sorcerer's Stone (Harry Po...               70390  \n",
       "Harry Potter and the Chamber of Secrets (Harry ...                 272  \n",
       "Harry Potter and the Prisoner of Azkaban (Harry...               33964  "
      ]
     },
     "execution_count": 83,
     "metadata": {},
     "output_type": "execute_result"
    }
   ],
   "source": [
    "df.set_index(df['title'], inplace = True)\n",
    "df.head()"
   ]
  },
  {
   "cell_type": "code",
   "execution_count": 84,
   "metadata": {},
   "outputs": [
    {
     "name": "stdout",
     "output_type": "stream",
     "text": [
      "title                          One Hundred Years of Solitude\n",
      "authors               Gabriel García Márquez-Gregory Rabassa\n",
      "average_rating                                          4.06\n",
      "language_code                                            eng\n",
      "pages                                                    417\n",
      "ratings_count                                         547207\n",
      "text_reviews_count                                     15763\n",
      "Name: One Hundred Years of Solitude, dtype: object\n"
     ]
    }
   ],
   "source": [
    "print(df.loc['One Hundred Years of Solitude',:])"
   ]
  },
  {
   "cell_type": "code",
   "execution_count": 85,
   "metadata": {},
   "outputs": [],
   "source": [
    "df.set_index(df['title'], inplace = True)"
   ]
  },
  {
   "cell_type": "code",
   "execution_count": 86,
   "metadata": {},
   "outputs": [
    {
     "data": {
      "text/html": [
       "<div>\n",
       "<style scoped>\n",
       "    .dataframe tbody tr th:only-of-type {\n",
       "        vertical-align: middle;\n",
       "    }\n",
       "\n",
       "    .dataframe tbody tr th {\n",
       "        vertical-align: top;\n",
       "    }\n",
       "\n",
       "    .dataframe thead th {\n",
       "        text-align: right;\n",
       "    }\n",
       "</style>\n",
       "<table border=\"1\" class=\"dataframe\">\n",
       "  <thead>\n",
       "    <tr style=\"text-align: right;\">\n",
       "      <th></th>\n",
       "      <th>title</th>\n",
       "      <th>authors</th>\n",
       "      <th>average_rating</th>\n",
       "      <th>language_code</th>\n",
       "      <th>pages</th>\n",
       "      <th>ratings_count</th>\n",
       "      <th>text_reviews_count</th>\n",
       "    </tr>\n",
       "    <tr>\n",
       "      <th>title</th>\n",
       "      <th></th>\n",
       "      <th></th>\n",
       "      <th></th>\n",
       "      <th></th>\n",
       "      <th></th>\n",
       "      <th></th>\n",
       "      <th></th>\n",
       "    </tr>\n",
       "  </thead>\n",
       "  <tbody>\n",
       "    <tr>\n",
       "      <th>Harry Potter and the Half-Blood Prince (Harry Potter  #6)</th>\n",
       "      <td>Harry Potter and the Half-Blood Prince (Harry ...</td>\n",
       "      <td>J.K. Rowling-Mary GrandPré</td>\n",
       "      <td>4.56</td>\n",
       "      <td>eng</td>\n",
       "      <td>652</td>\n",
       "      <td>1944099</td>\n",
       "      <td>26249</td>\n",
       "    </tr>\n",
       "    <tr>\n",
       "      <th>Harry Potter and the Order of the Phoenix (Harry Potter  #5)</th>\n",
       "      <td>Harry Potter and the Order of the Phoenix (Har...</td>\n",
       "      <td>J.K. Rowling-Mary GrandPré</td>\n",
       "      <td>4.49</td>\n",
       "      <td>eng</td>\n",
       "      <td>870</td>\n",
       "      <td>1996446</td>\n",
       "      <td>27613</td>\n",
       "    </tr>\n",
       "    <tr>\n",
       "      <th>Harry Potter and the Sorcerer's Stone (Harry Potter  #1)</th>\n",
       "      <td>Harry Potter and the Sorcerer's Stone (Harry P...</td>\n",
       "      <td>J.K. Rowling-Mary GrandPré</td>\n",
       "      <td>4.47</td>\n",
       "      <td>eng</td>\n",
       "      <td>320</td>\n",
       "      <td>5629932</td>\n",
       "      <td>70390</td>\n",
       "    </tr>\n",
       "    <tr>\n",
       "      <th>Harry Potter and the Chamber of Secrets (Harry Potter  #2)</th>\n",
       "      <td>Harry Potter and the Chamber of Secrets (Harry...</td>\n",
       "      <td>J.K. Rowling</td>\n",
       "      <td>4.41</td>\n",
       "      <td>eng</td>\n",
       "      <td>352</td>\n",
       "      <td>6267</td>\n",
       "      <td>272</td>\n",
       "    </tr>\n",
       "    <tr>\n",
       "      <th>Harry Potter and the Prisoner of Azkaban (Harry Potter  #3)</th>\n",
       "      <td>Harry Potter and the Prisoner of Azkaban (Harr...</td>\n",
       "      <td>J.K. Rowling-Mary GrandPré</td>\n",
       "      <td>4.55</td>\n",
       "      <td>eng</td>\n",
       "      <td>435</td>\n",
       "      <td>2149872</td>\n",
       "      <td>33964</td>\n",
       "    </tr>\n",
       "  </tbody>\n",
       "</table>\n",
       "</div>"
      ],
      "text/plain": [
       "                                                                                                title  \\\n",
       "title                                                                                                   \n",
       "Harry Potter and the Half-Blood Prince (Harry P...  Harry Potter and the Half-Blood Prince (Harry ...   \n",
       "Harry Potter and the Order of the Phoenix (Harr...  Harry Potter and the Order of the Phoenix (Har...   \n",
       "Harry Potter and the Sorcerer's Stone (Harry Po...  Harry Potter and the Sorcerer's Stone (Harry P...   \n",
       "Harry Potter and the Chamber of Secrets (Harry ...  Harry Potter and the Chamber of Secrets (Harry...   \n",
       "Harry Potter and the Prisoner of Azkaban (Harry...  Harry Potter and the Prisoner of Azkaban (Harr...   \n",
       "\n",
       "                                                                       authors  \\\n",
       "title                                                                            \n",
       "Harry Potter and the Half-Blood Prince (Harry P...  J.K. Rowling-Mary GrandPré   \n",
       "Harry Potter and the Order of the Phoenix (Harr...  J.K. Rowling-Mary GrandPré   \n",
       "Harry Potter and the Sorcerer's Stone (Harry Po...  J.K. Rowling-Mary GrandPré   \n",
       "Harry Potter and the Chamber of Secrets (Harry ...                J.K. Rowling   \n",
       "Harry Potter and the Prisoner of Azkaban (Harry...  J.K. Rowling-Mary GrandPré   \n",
       "\n",
       "                                                    average_rating  \\\n",
       "title                                                                \n",
       "Harry Potter and the Half-Blood Prince (Harry P...            4.56   \n",
       "Harry Potter and the Order of the Phoenix (Harr...            4.49   \n",
       "Harry Potter and the Sorcerer's Stone (Harry Po...            4.47   \n",
       "Harry Potter and the Chamber of Secrets (Harry ...            4.41   \n",
       "Harry Potter and the Prisoner of Azkaban (Harry...            4.55   \n",
       "\n",
       "                                                   language_code  pages  \\\n",
       "title                                                                     \n",
       "Harry Potter and the Half-Blood Prince (Harry P...           eng    652   \n",
       "Harry Potter and the Order of the Phoenix (Harr...           eng    870   \n",
       "Harry Potter and the Sorcerer's Stone (Harry Po...           eng    320   \n",
       "Harry Potter and the Chamber of Secrets (Harry ...           eng    352   \n",
       "Harry Potter and the Prisoner of Azkaban (Harry...           eng    435   \n",
       "\n",
       "                                                    ratings_count  \\\n",
       "title                                                               \n",
       "Harry Potter and the Half-Blood Prince (Harry P...        1944099   \n",
       "Harry Potter and the Order of the Phoenix (Harr...        1996446   \n",
       "Harry Potter and the Sorcerer's Stone (Harry Po...        5629932   \n",
       "Harry Potter and the Chamber of Secrets (Harry ...           6267   \n",
       "Harry Potter and the Prisoner of Azkaban (Harry...        2149872   \n",
       "\n",
       "                                                    text_reviews_count  \n",
       "title                                                                   \n",
       "Harry Potter and the Half-Blood Prince (Harry P...               26249  \n",
       "Harry Potter and the Order of the Phoenix (Harr...               27613  \n",
       "Harry Potter and the Sorcerer's Stone (Harry Po...               70390  \n",
       "Harry Potter and the Chamber of Secrets (Harry ...                 272  \n",
       "Harry Potter and the Prisoner of Azkaban (Harry...               33964  "
      ]
     },
     "execution_count": 86,
     "metadata": {},
     "output_type": "execute_result"
    }
   ],
   "source": [
    "df.head()"
   ]
  },
  {
   "cell_type": "code",
   "execution_count": 87,
   "metadata": {},
   "outputs": [],
   "source": [
    "totals.set_index(totals['title'], inplace = True)"
   ]
  },
  {
   "cell_type": "code",
   "execution_count": 88,
   "metadata": {},
   "outputs": [],
   "source": [
    "totals.rename(columns={'ratings_count':'tot_ratings', 'text_reviews_count':'tot_text_reviews'}, inplace=True)"
   ]
  },
  {
   "cell_type": "code",
   "execution_count": 89,
   "metadata": {},
   "outputs": [
    {
     "name": "stdout",
     "output_type": "stream",
     "text": [
      "title                          One Hundred Years of Solitude\n",
      "authors               Gabriel García Márquez-Gregory Rabassa\n",
      "average_rating                                          4.06\n",
      "language_code                                            eng\n",
      "pages                                                    417\n",
      "ratings_count                                         547207\n",
      "text_reviews_count                                     15763\n",
      "Name: One Hundred Years of Solitude, dtype: object\n"
     ]
    }
   ],
   "source": [
    "print(df.loc['One Hundred Years of Solitude',:])"
   ]
  },
  {
   "cell_type": "code",
   "execution_count": 90,
   "metadata": {},
   "outputs": [
    {
     "data": {
      "text/html": [
       "<div>\n",
       "<style scoped>\n",
       "    .dataframe tbody tr th:only-of-type {\n",
       "        vertical-align: middle;\n",
       "    }\n",
       "\n",
       "    .dataframe tbody tr th {\n",
       "        vertical-align: top;\n",
       "    }\n",
       "\n",
       "    .dataframe thead th {\n",
       "        text-align: right;\n",
       "    }\n",
       "</style>\n",
       "<table border=\"1\" class=\"dataframe\">\n",
       "  <thead>\n",
       "    <tr style=\"text-align: right;\">\n",
       "      <th></th>\n",
       "      <th>title</th>\n",
       "      <th>tot_ratings</th>\n",
       "      <th>tot_text_reviews</th>\n",
       "      <th>avgratexratecount</th>\n",
       "      <th>weightedavgrate</th>\n",
       "    </tr>\n",
       "    <tr>\n",
       "      <th>title</th>\n",
       "      <th></th>\n",
       "      <th></th>\n",
       "      <th></th>\n",
       "      <th></th>\n",
       "      <th></th>\n",
       "    </tr>\n",
       "  </thead>\n",
       "  <tbody>\n",
       "    <tr>\n",
       "      <th>Harry Potter and the Sorcerer's Stone (Harry Potter  #1)</th>\n",
       "      <td>Harry Potter and the Sorcerer's Stone (Harry P...</td>\n",
       "      <td>5630064</td>\n",
       "      <td>70402</td>\n",
       "      <td>25166386.08</td>\n",
       "      <td>4.47</td>\n",
       "    </tr>\n",
       "    <tr>\n",
       "      <th>Twilight (Twilight  #1)</th>\n",
       "      <td>Twilight (Twilight  #1)</td>\n",
       "      <td>4369733</td>\n",
       "      <td>94163</td>\n",
       "      <td>15687341.47</td>\n",
       "      <td>3.59</td>\n",
       "    </tr>\n",
       "    <tr>\n",
       "      <th>The Catcher in the Rye</th>\n",
       "      <td>The Catcher in the Rye</td>\n",
       "      <td>2337327</td>\n",
       "      <td>44033</td>\n",
       "      <td>8881842.60</td>\n",
       "      <td>3.80</td>\n",
       "    </tr>\n",
       "    <tr>\n",
       "      <th>Angels &amp; Demons (Robert Langdon  #1)</th>\n",
       "      <td>Angels &amp; Demons (Robert Langdon  #1)</td>\n",
       "      <td>2281009</td>\n",
       "      <td>20995</td>\n",
       "      <td>8850314.92</td>\n",
       "      <td>3.88</td>\n",
       "    </tr>\n",
       "    <tr>\n",
       "      <th>Harry Potter and the Prisoner of Azkaban (Harry Potter  #3)</th>\n",
       "      <td>Harry Potter and the Prisoner of Azkaban (Harr...</td>\n",
       "      <td>2152988</td>\n",
       "      <td>34111</td>\n",
       "      <td>9796095.40</td>\n",
       "      <td>4.55</td>\n",
       "    </tr>\n",
       "  </tbody>\n",
       "</table>\n",
       "</div>"
      ],
      "text/plain": [
       "                                                                                                title  \\\n",
       "title                                                                                                   \n",
       "Harry Potter and the Sorcerer's Stone (Harry Po...  Harry Potter and the Sorcerer's Stone (Harry P...   \n",
       "Twilight (Twilight  #1)                                                       Twilight (Twilight  #1)   \n",
       "The Catcher in the Rye                                                         The Catcher in the Rye   \n",
       "Angels & Demons (Robert Langdon  #1)                             Angels & Demons (Robert Langdon  #1)   \n",
       "Harry Potter and the Prisoner of Azkaban (Harry...  Harry Potter and the Prisoner of Azkaban (Harr...   \n",
       "\n",
       "                                                    tot_ratings  \\\n",
       "title                                                             \n",
       "Harry Potter and the Sorcerer's Stone (Harry Po...      5630064   \n",
       "Twilight (Twilight  #1)                                 4369733   \n",
       "The Catcher in the Rye                                  2337327   \n",
       "Angels & Demons (Robert Langdon  #1)                    2281009   \n",
       "Harry Potter and the Prisoner of Azkaban (Harry...      2152988   \n",
       "\n",
       "                                                    tot_text_reviews  \\\n",
       "title                                                                  \n",
       "Harry Potter and the Sorcerer's Stone (Harry Po...             70402   \n",
       "Twilight (Twilight  #1)                                        94163   \n",
       "The Catcher in the Rye                                         44033   \n",
       "Angels & Demons (Robert Langdon  #1)                           20995   \n",
       "Harry Potter and the Prisoner of Azkaban (Harry...             34111   \n",
       "\n",
       "                                                    avgratexratecount  \\\n",
       "title                                                                   \n",
       "Harry Potter and the Sorcerer's Stone (Harry Po...        25166386.08   \n",
       "Twilight (Twilight  #1)                                   15687341.47   \n",
       "The Catcher in the Rye                                     8881842.60   \n",
       "Angels & Demons (Robert Langdon  #1)                       8850314.92   \n",
       "Harry Potter and the Prisoner of Azkaban (Harry...         9796095.40   \n",
       "\n",
       "                                                    weightedavgrate  \n",
       "title                                                                \n",
       "Harry Potter and the Sorcerer's Stone (Harry Po...             4.47  \n",
       "Twilight (Twilight  #1)                                        3.59  \n",
       "The Catcher in the Rye                                         3.80  \n",
       "Angels & Demons (Robert Langdon  #1)                           3.88  \n",
       "Harry Potter and the Prisoner of Azkaban (Harry...             4.55  "
      ]
     },
     "execution_count": 90,
     "metadata": {},
     "output_type": "execute_result"
    }
   ],
   "source": [
    "totals.head()"
   ]
  },
  {
   "cell_type": "code",
   "execution_count": 91,
   "metadata": {},
   "outputs": [
    {
     "name": "stdout",
     "output_type": "stream",
     "text": [
      "title                          One Hundred Years of Solitude\n",
      "authors               Gabriel García Márquez-Gregory Rabassa\n",
      "average_rating                                          4.06\n",
      "language_code                                            eng\n",
      "pages                                                    417\n",
      "ratings_count                                         547207\n",
      "text_reviews_count                                     15763\n",
      "Name: One Hundred Years of Solitude, dtype: object\n"
     ]
    }
   ],
   "source": [
    "print(df.loc['One Hundred Years of Solitude',:])"
   ]
  },
  {
   "cell_type": "code",
   "execution_count": 92,
   "metadata": {},
   "outputs": [
    {
     "name": "stderr",
     "output_type": "stream",
     "text": [
      "C:\\Users\\kathy\\Anaconda3\\lib\\site-packages\\ipykernel_launcher.py:1: FutureWarning: 'title' is both an index level and a column label.\n",
      "Defaulting to column, but this will raise an ambiguity error in a future version\n",
      "  \"\"\"Entry point for launching an IPython kernel.\n"
     ]
    },
    {
     "data": {
      "text/plain": [
       "(10060, 11)"
      ]
     },
     "execution_count": 92,
     "metadata": {},
     "output_type": "execute_result"
    }
   ],
   "source": [
    "df2 = df.merge(totals ,how='left', left_on='title', right_on='title')\n",
    "df2.shape"
   ]
  },
  {
   "cell_type": "code",
   "execution_count": 93,
   "metadata": {},
   "outputs": [
    {
     "data": {
      "text/html": [
       "<div>\n",
       "<style scoped>\n",
       "    .dataframe tbody tr th:only-of-type {\n",
       "        vertical-align: middle;\n",
       "    }\n",
       "\n",
       "    .dataframe tbody tr th {\n",
       "        vertical-align: top;\n",
       "    }\n",
       "\n",
       "    .dataframe thead th {\n",
       "        text-align: right;\n",
       "    }\n",
       "</style>\n",
       "<table border=\"1\" class=\"dataframe\">\n",
       "  <thead>\n",
       "    <tr style=\"text-align: right;\">\n",
       "      <th></th>\n",
       "      <th>title</th>\n",
       "      <th>authors</th>\n",
       "      <th>average_rating</th>\n",
       "      <th>language_code</th>\n",
       "      <th>pages</th>\n",
       "      <th>ratings_count</th>\n",
       "      <th>text_reviews_count</th>\n",
       "      <th>tot_ratings</th>\n",
       "      <th>tot_text_reviews</th>\n",
       "      <th>avgratexratecount</th>\n",
       "      <th>weightedavgrate</th>\n",
       "    </tr>\n",
       "  </thead>\n",
       "  <tbody>\n",
       "    <tr>\n",
       "      <th>0</th>\n",
       "      <td>Harry Potter and the Half-Blood Prince (Harry ...</td>\n",
       "      <td>J.K. Rowling-Mary GrandPré</td>\n",
       "      <td>4.56</td>\n",
       "      <td>eng</td>\n",
       "      <td>652</td>\n",
       "      <td>1944099</td>\n",
       "      <td>26249</td>\n",
       "      <td>1945272.0</td>\n",
       "      <td>26321.0</td>\n",
       "      <td>8870440.32</td>\n",
       "      <td>4.56</td>\n",
       "    </tr>\n",
       "    <tr>\n",
       "      <th>1</th>\n",
       "      <td>Harry Potter and the Order of the Phoenix (Har...</td>\n",
       "      <td>J.K. Rowling-Mary GrandPré</td>\n",
       "      <td>4.49</td>\n",
       "      <td>eng</td>\n",
       "      <td>870</td>\n",
       "      <td>1996446</td>\n",
       "      <td>27613</td>\n",
       "      <td>NaN</td>\n",
       "      <td>NaN</td>\n",
       "      <td>NaN</td>\n",
       "      <td>NaN</td>\n",
       "    </tr>\n",
       "    <tr>\n",
       "      <th>2</th>\n",
       "      <td>Harry Potter and the Sorcerer's Stone (Harry P...</td>\n",
       "      <td>J.K. Rowling-Mary GrandPré</td>\n",
       "      <td>4.47</td>\n",
       "      <td>eng</td>\n",
       "      <td>320</td>\n",
       "      <td>5629932</td>\n",
       "      <td>70390</td>\n",
       "      <td>5630064.0</td>\n",
       "      <td>70402.0</td>\n",
       "      <td>25166386.08</td>\n",
       "      <td>4.47</td>\n",
       "    </tr>\n",
       "    <tr>\n",
       "      <th>3</th>\n",
       "      <td>Harry Potter and the Chamber of Secrets (Harry...</td>\n",
       "      <td>J.K. Rowling</td>\n",
       "      <td>4.41</td>\n",
       "      <td>eng</td>\n",
       "      <td>352</td>\n",
       "      <td>6267</td>\n",
       "      <td>272</td>\n",
       "      <td>2121829.0</td>\n",
       "      <td>32966.0</td>\n",
       "      <td>9357265.89</td>\n",
       "      <td>4.41</td>\n",
       "    </tr>\n",
       "    <tr>\n",
       "      <th>4</th>\n",
       "      <td>Harry Potter and the Prisoner of Azkaban (Harr...</td>\n",
       "      <td>J.K. Rowling-Mary GrandPré</td>\n",
       "      <td>4.55</td>\n",
       "      <td>eng</td>\n",
       "      <td>435</td>\n",
       "      <td>2149872</td>\n",
       "      <td>33964</td>\n",
       "      <td>2152988.0</td>\n",
       "      <td>34111.0</td>\n",
       "      <td>9796095.40</td>\n",
       "      <td>4.55</td>\n",
       "    </tr>\n",
       "  </tbody>\n",
       "</table>\n",
       "</div>"
      ],
      "text/plain": [
       "                                               title  \\\n",
       "0  Harry Potter and the Half-Blood Prince (Harry ...   \n",
       "1  Harry Potter and the Order of the Phoenix (Har...   \n",
       "2  Harry Potter and the Sorcerer's Stone (Harry P...   \n",
       "3  Harry Potter and the Chamber of Secrets (Harry...   \n",
       "4  Harry Potter and the Prisoner of Azkaban (Harr...   \n",
       "\n",
       "                      authors  average_rating language_code  pages  \\\n",
       "0  J.K. Rowling-Mary GrandPré            4.56           eng    652   \n",
       "1  J.K. Rowling-Mary GrandPré            4.49           eng    870   \n",
       "2  J.K. Rowling-Mary GrandPré            4.47           eng    320   \n",
       "3                J.K. Rowling            4.41           eng    352   \n",
       "4  J.K. Rowling-Mary GrandPré            4.55           eng    435   \n",
       "\n",
       "   ratings_count  text_reviews_count  tot_ratings  tot_text_reviews  \\\n",
       "0        1944099               26249    1945272.0           26321.0   \n",
       "1        1996446               27613          NaN               NaN   \n",
       "2        5629932               70390    5630064.0           70402.0   \n",
       "3           6267                 272    2121829.0           32966.0   \n",
       "4        2149872               33964    2152988.0           34111.0   \n",
       "\n",
       "   avgratexratecount  weightedavgrate  \n",
       "0         8870440.32             4.56  \n",
       "1                NaN              NaN  \n",
       "2        25166386.08             4.47  \n",
       "3         9357265.89             4.41  \n",
       "4         9796095.40             4.55  "
      ]
     },
     "execution_count": 93,
     "metadata": {},
     "output_type": "execute_result"
    }
   ],
   "source": [
    "df2.head()"
   ]
  },
  {
   "cell_type": "code",
   "execution_count": 95,
   "metadata": {},
   "outputs": [],
   "source": [
    "df2.set_index(df2['title'], inplace = True)"
   ]
  },
  {
   "cell_type": "code",
   "execution_count": 96,
   "metadata": {},
   "outputs": [
    {
     "name": "stdout",
     "output_type": "stream",
     "text": [
      "title                          One Hundred Years of Solitude\n",
      "authors               Gabriel García Márquez-Gregory Rabassa\n",
      "average_rating                                          4.06\n",
      "language_code                                            eng\n",
      "pages                                                    417\n",
      "ratings_count                                         547207\n",
      "text_reviews_count                                     15763\n",
      "tot_ratings                                           556920\n",
      "tot_text_reviews                                       16788\n",
      "avgratexratecount                                 2.2611e+06\n",
      "weightedavgrate                                         4.06\n",
      "Name: One Hundred Years of Solitude, dtype: object\n"
     ]
    }
   ],
   "source": [
    "print(df2.loc['One Hundred Years of Solitude',:])"
   ]
  },
  {
   "cell_type": "code",
   "execution_count": 97,
   "metadata": {},
   "outputs": [
    {
     "name": "stderr",
     "output_type": "stream",
     "text": [
      "C:\\Users\\kathy\\Anaconda3\\lib\\site-packages\\ipykernel_launcher.py:1: FutureWarning: 'title' is both an index level and a column label.\n",
      "Defaulting to column, but this will raise an ambiguity error in a future version\n",
      "  \"\"\"Entry point for launching an IPython kernel.\n"
     ]
    }
   ],
   "source": [
    "df3 = df2.merge(conpages ,how='left', left_on='title', right_on='title')"
   ]
  },
  {
   "cell_type": "code",
   "execution_count": 98,
   "metadata": {},
   "outputs": [
    {
     "data": {
      "text/plain": [
       "(10060, 12)"
      ]
     },
     "execution_count": 98,
     "metadata": {},
     "output_type": "execute_result"
    }
   ],
   "source": [
    "df3.shape"
   ]
  },
  {
   "cell_type": "code",
   "execution_count": 99,
   "metadata": {},
   "outputs": [
    {
     "data": {
      "text/html": [
       "<div>\n",
       "<style scoped>\n",
       "    .dataframe tbody tr th:only-of-type {\n",
       "        vertical-align: middle;\n",
       "    }\n",
       "\n",
       "    .dataframe tbody tr th {\n",
       "        vertical-align: top;\n",
       "    }\n",
       "\n",
       "    .dataframe thead th {\n",
       "        text-align: right;\n",
       "    }\n",
       "</style>\n",
       "<table border=\"1\" class=\"dataframe\">\n",
       "  <thead>\n",
       "    <tr style=\"text-align: right;\">\n",
       "      <th></th>\n",
       "      <th>title</th>\n",
       "      <th>authors</th>\n",
       "      <th>average_rating</th>\n",
       "      <th>language_code</th>\n",
       "      <th>pages_x</th>\n",
       "      <th>ratings_count</th>\n",
       "      <th>text_reviews_count</th>\n",
       "      <th>tot_ratings</th>\n",
       "      <th>tot_text_reviews</th>\n",
       "      <th>avgratexratecount</th>\n",
       "      <th>weightedavgrate</th>\n",
       "      <th>pages_y</th>\n",
       "    </tr>\n",
       "  </thead>\n",
       "  <tbody>\n",
       "    <tr>\n",
       "      <th>0</th>\n",
       "      <td>Harry Potter and the Half-Blood Prince (Harry ...</td>\n",
       "      <td>J.K. Rowling-Mary GrandPré</td>\n",
       "      <td>4.56</td>\n",
       "      <td>eng</td>\n",
       "      <td>652</td>\n",
       "      <td>1944099</td>\n",
       "      <td>26249</td>\n",
       "      <td>1945272.0</td>\n",
       "      <td>26321.0</td>\n",
       "      <td>8870440.32</td>\n",
       "      <td>4.56</td>\n",
       "      <td>768.0</td>\n",
       "    </tr>\n",
       "    <tr>\n",
       "      <th>1</th>\n",
       "      <td>Harry Potter and the Order of the Phoenix (Har...</td>\n",
       "      <td>J.K. Rowling-Mary GrandPré</td>\n",
       "      <td>4.49</td>\n",
       "      <td>eng</td>\n",
       "      <td>870</td>\n",
       "      <td>1996446</td>\n",
       "      <td>27613</td>\n",
       "      <td>NaN</td>\n",
       "      <td>NaN</td>\n",
       "      <td>NaN</td>\n",
       "      <td>NaN</td>\n",
       "      <td>NaN</td>\n",
       "    </tr>\n",
       "    <tr>\n",
       "      <th>2</th>\n",
       "      <td>Harry Potter and the Sorcerer's Stone (Harry P...</td>\n",
       "      <td>J.K. Rowling-Mary GrandPré</td>\n",
       "      <td>4.47</td>\n",
       "      <td>eng</td>\n",
       "      <td>320</td>\n",
       "      <td>5629932</td>\n",
       "      <td>70390</td>\n",
       "      <td>5630064.0</td>\n",
       "      <td>70402.0</td>\n",
       "      <td>25166386.08</td>\n",
       "      <td>4.47</td>\n",
       "      <td>424.0</td>\n",
       "    </tr>\n",
       "    <tr>\n",
       "      <th>3</th>\n",
       "      <td>Harry Potter and the Chamber of Secrets (Harry...</td>\n",
       "      <td>J.K. Rowling</td>\n",
       "      <td>4.41</td>\n",
       "      <td>eng</td>\n",
       "      <td>352</td>\n",
       "      <td>6267</td>\n",
       "      <td>272</td>\n",
       "      <td>2121829.0</td>\n",
       "      <td>32966.0</td>\n",
       "      <td>9357265.89</td>\n",
       "      <td>4.41</td>\n",
       "      <td>352.0</td>\n",
       "    </tr>\n",
       "    <tr>\n",
       "      <th>4</th>\n",
       "      <td>Harry Potter and the Prisoner of Azkaban (Harr...</td>\n",
       "      <td>J.K. Rowling-Mary GrandPré</td>\n",
       "      <td>4.55</td>\n",
       "      <td>eng</td>\n",
       "      <td>435</td>\n",
       "      <td>2149872</td>\n",
       "      <td>33964</td>\n",
       "      <td>2152988.0</td>\n",
       "      <td>34111.0</td>\n",
       "      <td>9796095.40</td>\n",
       "      <td>4.55</td>\n",
       "      <td>480.0</td>\n",
       "    </tr>\n",
       "  </tbody>\n",
       "</table>\n",
       "</div>"
      ],
      "text/plain": [
       "                                               title  \\\n",
       "0  Harry Potter and the Half-Blood Prince (Harry ...   \n",
       "1  Harry Potter and the Order of the Phoenix (Har...   \n",
       "2  Harry Potter and the Sorcerer's Stone (Harry P...   \n",
       "3  Harry Potter and the Chamber of Secrets (Harry...   \n",
       "4  Harry Potter and the Prisoner of Azkaban (Harr...   \n",
       "\n",
       "                      authors  average_rating language_code  pages_x  \\\n",
       "0  J.K. Rowling-Mary GrandPré            4.56           eng      652   \n",
       "1  J.K. Rowling-Mary GrandPré            4.49           eng      870   \n",
       "2  J.K. Rowling-Mary GrandPré            4.47           eng      320   \n",
       "3                J.K. Rowling            4.41           eng      352   \n",
       "4  J.K. Rowling-Mary GrandPré            4.55           eng      435   \n",
       "\n",
       "   ratings_count  text_reviews_count  tot_ratings  tot_text_reviews  \\\n",
       "0        1944099               26249    1945272.0           26321.0   \n",
       "1        1996446               27613          NaN               NaN   \n",
       "2        5629932               70390    5630064.0           70402.0   \n",
       "3           6267                 272    2121829.0           32966.0   \n",
       "4        2149872               33964    2152988.0           34111.0   \n",
       "\n",
       "   avgratexratecount  weightedavgrate  pages_y  \n",
       "0         8870440.32             4.56    768.0  \n",
       "1                NaN              NaN      NaN  \n",
       "2        25166386.08             4.47    424.0  \n",
       "3         9357265.89             4.41    352.0  \n",
       "4         9796095.40             4.55    480.0  "
      ]
     },
     "execution_count": 99,
     "metadata": {},
     "output_type": "execute_result"
    }
   ],
   "source": [
    "df3.head()"
   ]
  },
  {
   "cell_type": "code",
   "execution_count": 100,
   "metadata": {},
   "outputs": [
    {
     "data": {
      "text/html": [
       "<div>\n",
       "<style scoped>\n",
       "    .dataframe tbody tr th:only-of-type {\n",
       "        vertical-align: middle;\n",
       "    }\n",
       "\n",
       "    .dataframe tbody tr th {\n",
       "        vertical-align: top;\n",
       "    }\n",
       "\n",
       "    .dataframe thead th {\n",
       "        text-align: right;\n",
       "    }\n",
       "</style>\n",
       "<table border=\"1\" class=\"dataframe\">\n",
       "  <thead>\n",
       "    <tr style=\"text-align: right;\">\n",
       "      <th></th>\n",
       "      <th>average_rating</th>\n",
       "      <th>pages_x</th>\n",
       "      <th>ratings_count</th>\n",
       "      <th>text_reviews_count</th>\n",
       "      <th>tot_ratings</th>\n",
       "      <th>tot_text_reviews</th>\n",
       "      <th>avgratexratecount</th>\n",
       "      <th>weightedavgrate</th>\n",
       "      <th>pages_y</th>\n",
       "    </tr>\n",
       "  </thead>\n",
       "  <tbody>\n",
       "    <tr>\n",
       "      <th>count</th>\n",
       "      <td>10060.000000</td>\n",
       "      <td>10060.000000</td>\n",
       "      <td>1.006000e+04</td>\n",
       "      <td>10060.000000</td>\n",
       "      <td>6.070000e+02</td>\n",
       "      <td>607.000000</td>\n",
       "      <td>6.070000e+02</td>\n",
       "      <td>607.000000</td>\n",
       "      <td>607.000000</td>\n",
       "    </tr>\n",
       "    <tr>\n",
       "      <th>mean</th>\n",
       "      <td>3.949480</td>\n",
       "      <td>349.971869</td>\n",
       "      <td>2.052363e+04</td>\n",
       "      <td>627.731113</td>\n",
       "      <td>1.770542e+05</td>\n",
       "      <td>4448.729819</td>\n",
       "      <td>7.126503e+05</td>\n",
       "      <td>3.955022</td>\n",
       "      <td>433.023064</td>\n",
       "    </tr>\n",
       "    <tr>\n",
       "      <th>std</th>\n",
       "      <td>0.270811</td>\n",
       "      <td>251.778966</td>\n",
       "      <td>1.140261e+05</td>\n",
       "      <td>2534.822535</td>\n",
       "      <td>4.358014e+05</td>\n",
       "      <td>8866.759819</td>\n",
       "      <td>1.793845e+06</td>\n",
       "      <td>0.244513</td>\n",
       "      <td>243.032613</td>\n",
       "    </tr>\n",
       "    <tr>\n",
       "      <th>min</th>\n",
       "      <td>2.400000</td>\n",
       "      <td>0.000000</td>\n",
       "      <td>5.000000e+01</td>\n",
       "      <td>0.000000</td>\n",
       "      <td>1.400000e+02</td>\n",
       "      <td>6.000000</td>\n",
       "      <td>5.908000e+02</td>\n",
       "      <td>3.080000</td>\n",
       "      <td>11.000000</td>\n",
       "    </tr>\n",
       "    <tr>\n",
       "      <th>25%</th>\n",
       "      <td>3.780000</td>\n",
       "      <td>208.000000</td>\n",
       "      <td>3.000000e+02</td>\n",
       "      <td>21.000000</td>\n",
       "      <td>7.222500e+03</td>\n",
       "      <td>364.500000</td>\n",
       "      <td>2.811037e+04</td>\n",
       "      <td>3.820000</td>\n",
       "      <td>263.500000</td>\n",
       "    </tr>\n",
       "    <tr>\n",
       "      <th>50%</th>\n",
       "      <td>3.960000</td>\n",
       "      <td>304.000000</td>\n",
       "      <td>1.497500e+03</td>\n",
       "      <td>80.000000</td>\n",
       "      <td>3.782200e+04</td>\n",
       "      <td>1352.000000</td>\n",
       "      <td>1.498077e+05</td>\n",
       "      <td>3.970000</td>\n",
       "      <td>371.000000</td>\n",
       "    </tr>\n",
       "    <tr>\n",
       "      <th>75%</th>\n",
       "      <td>4.140000</td>\n",
       "      <td>420.000000</td>\n",
       "      <td>8.081250e+03</td>\n",
       "      <td>338.250000</td>\n",
       "      <td>1.499660e+05</td>\n",
       "      <td>4812.500000</td>\n",
       "      <td>5.909982e+05</td>\n",
       "      <td>4.110000</td>\n",
       "      <td>530.500000</td>\n",
       "    </tr>\n",
       "    <tr>\n",
       "      <th>max</th>\n",
       "      <td>4.820000</td>\n",
       "      <td>6576.000000</td>\n",
       "      <td>5.629932e+06</td>\n",
       "      <td>84237.000000</td>\n",
       "      <td>5.630064e+06</td>\n",
       "      <td>94163.000000</td>\n",
       "      <td>2.516639e+07</td>\n",
       "      <td>4.560000</td>\n",
       "      <td>1546.000000</td>\n",
       "    </tr>\n",
       "  </tbody>\n",
       "</table>\n",
       "</div>"
      ],
      "text/plain": [
       "       average_rating       pages_x  ratings_count  text_reviews_count  \\\n",
       "count    10060.000000  10060.000000   1.006000e+04        10060.000000   \n",
       "mean         3.949480    349.971869   2.052363e+04          627.731113   \n",
       "std          0.270811    251.778966   1.140261e+05         2534.822535   \n",
       "min          2.400000      0.000000   5.000000e+01            0.000000   \n",
       "25%          3.780000    208.000000   3.000000e+02           21.000000   \n",
       "50%          3.960000    304.000000   1.497500e+03           80.000000   \n",
       "75%          4.140000    420.000000   8.081250e+03          338.250000   \n",
       "max          4.820000   6576.000000   5.629932e+06        84237.000000   \n",
       "\n",
       "        tot_ratings  tot_text_reviews  avgratexratecount  weightedavgrate  \\\n",
       "count  6.070000e+02        607.000000       6.070000e+02       607.000000   \n",
       "mean   1.770542e+05       4448.729819       7.126503e+05         3.955022   \n",
       "std    4.358014e+05       8866.759819       1.793845e+06         0.244513   \n",
       "min    1.400000e+02          6.000000       5.908000e+02         3.080000   \n",
       "25%    7.222500e+03        364.500000       2.811037e+04         3.820000   \n",
       "50%    3.782200e+04       1352.000000       1.498077e+05         3.970000   \n",
       "75%    1.499660e+05       4812.500000       5.909982e+05         4.110000   \n",
       "max    5.630064e+06      94163.000000       2.516639e+07         4.560000   \n",
       "\n",
       "           pages_y  \n",
       "count   607.000000  \n",
       "mean    433.023064  \n",
       "std     243.032613  \n",
       "min      11.000000  \n",
       "25%     263.500000  \n",
       "50%     371.000000  \n",
       "75%     530.500000  \n",
       "max    1546.000000  "
      ]
     },
     "execution_count": 100,
     "metadata": {},
     "output_type": "execute_result"
    }
   ],
   "source": [
    "df3.describe()"
   ]
  },
  {
   "cell_type": "code",
   "execution_count": 101,
   "metadata": {},
   "outputs": [
    {
     "data": {
      "text/html": [
       "<div>\n",
       "<style scoped>\n",
       "    .dataframe tbody tr th:only-of-type {\n",
       "        vertical-align: middle;\n",
       "    }\n",
       "\n",
       "    .dataframe tbody tr th {\n",
       "        vertical-align: top;\n",
       "    }\n",
       "\n",
       "    .dataframe thead th {\n",
       "        text-align: right;\n",
       "    }\n",
       "</style>\n",
       "<table border=\"1\" class=\"dataframe\">\n",
       "  <thead>\n",
       "    <tr style=\"text-align: right;\">\n",
       "      <th></th>\n",
       "      <th>title</th>\n",
       "      <th>authors</th>\n",
       "      <th>average_rating</th>\n",
       "      <th>language_code</th>\n",
       "      <th>pages_x</th>\n",
       "      <th>ratings_count</th>\n",
       "      <th>text_reviews_count</th>\n",
       "      <th>tot_ratings</th>\n",
       "      <th>tot_text_reviews</th>\n",
       "      <th>avgratexratecount</th>\n",
       "      <th>weightedavgrate</th>\n",
       "      <th>pages_y</th>\n",
       "    </tr>\n",
       "    <tr>\n",
       "      <th>title</th>\n",
       "      <th></th>\n",
       "      <th></th>\n",
       "      <th></th>\n",
       "      <th></th>\n",
       "      <th></th>\n",
       "      <th></th>\n",
       "      <th></th>\n",
       "      <th></th>\n",
       "      <th></th>\n",
       "      <th></th>\n",
       "      <th></th>\n",
       "      <th></th>\n",
       "    </tr>\n",
       "  </thead>\n",
       "  <tbody>\n",
       "    <tr>\n",
       "      <th>Harry Potter and the Half-Blood Prince (Harry Potter  #6)</th>\n",
       "      <td>Harry Potter and the Half-Blood Prince (Harry ...</td>\n",
       "      <td>J.K. Rowling-Mary GrandPré</td>\n",
       "      <td>4.56</td>\n",
       "      <td>eng</td>\n",
       "      <td>652</td>\n",
       "      <td>1944099</td>\n",
       "      <td>26249</td>\n",
       "      <td>1945272.0</td>\n",
       "      <td>26321.0</td>\n",
       "      <td>8870440.32</td>\n",
       "      <td>4.56</td>\n",
       "      <td>768.0</td>\n",
       "    </tr>\n",
       "    <tr>\n",
       "      <th>Harry Potter and the Order of the Phoenix (Harry Potter  #5)</th>\n",
       "      <td>Harry Potter and the Order of the Phoenix (Har...</td>\n",
       "      <td>J.K. Rowling-Mary GrandPré</td>\n",
       "      <td>4.49</td>\n",
       "      <td>eng</td>\n",
       "      <td>870</td>\n",
       "      <td>1996446</td>\n",
       "      <td>27613</td>\n",
       "      <td>NaN</td>\n",
       "      <td>NaN</td>\n",
       "      <td>NaN</td>\n",
       "      <td>NaN</td>\n",
       "      <td>NaN</td>\n",
       "    </tr>\n",
       "    <tr>\n",
       "      <th>Harry Potter and the Sorcerer's Stone (Harry Potter  #1)</th>\n",
       "      <td>Harry Potter and the Sorcerer's Stone (Harry P...</td>\n",
       "      <td>J.K. Rowling-Mary GrandPré</td>\n",
       "      <td>4.47</td>\n",
       "      <td>eng</td>\n",
       "      <td>320</td>\n",
       "      <td>5629932</td>\n",
       "      <td>70390</td>\n",
       "      <td>5630064.0</td>\n",
       "      <td>70402.0</td>\n",
       "      <td>25166386.08</td>\n",
       "      <td>4.47</td>\n",
       "      <td>424.0</td>\n",
       "    </tr>\n",
       "    <tr>\n",
       "      <th>Harry Potter and the Chamber of Secrets (Harry Potter  #2)</th>\n",
       "      <td>Harry Potter and the Chamber of Secrets (Harry...</td>\n",
       "      <td>J.K. Rowling</td>\n",
       "      <td>4.41</td>\n",
       "      <td>eng</td>\n",
       "      <td>352</td>\n",
       "      <td>6267</td>\n",
       "      <td>272</td>\n",
       "      <td>2121829.0</td>\n",
       "      <td>32966.0</td>\n",
       "      <td>9357265.89</td>\n",
       "      <td>4.41</td>\n",
       "      <td>352.0</td>\n",
       "    </tr>\n",
       "    <tr>\n",
       "      <th>Harry Potter and the Prisoner of Azkaban (Harry Potter  #3)</th>\n",
       "      <td>Harry Potter and the Prisoner of Azkaban (Harr...</td>\n",
       "      <td>J.K. Rowling-Mary GrandPré</td>\n",
       "      <td>4.55</td>\n",
       "      <td>eng</td>\n",
       "      <td>435</td>\n",
       "      <td>2149872</td>\n",
       "      <td>33964</td>\n",
       "      <td>2152988.0</td>\n",
       "      <td>34111.0</td>\n",
       "      <td>9796095.40</td>\n",
       "      <td>4.55</td>\n",
       "      <td>480.0</td>\n",
       "    </tr>\n",
       "  </tbody>\n",
       "</table>\n",
       "</div>"
      ],
      "text/plain": [
       "                                                                                                title  \\\n",
       "title                                                                                                   \n",
       "Harry Potter and the Half-Blood Prince (Harry P...  Harry Potter and the Half-Blood Prince (Harry ...   \n",
       "Harry Potter and the Order of the Phoenix (Harr...  Harry Potter and the Order of the Phoenix (Har...   \n",
       "Harry Potter and the Sorcerer's Stone (Harry Po...  Harry Potter and the Sorcerer's Stone (Harry P...   \n",
       "Harry Potter and the Chamber of Secrets (Harry ...  Harry Potter and the Chamber of Secrets (Harry...   \n",
       "Harry Potter and the Prisoner of Azkaban (Harry...  Harry Potter and the Prisoner of Azkaban (Harr...   \n",
       "\n",
       "                                                                       authors  \\\n",
       "title                                                                            \n",
       "Harry Potter and the Half-Blood Prince (Harry P...  J.K. Rowling-Mary GrandPré   \n",
       "Harry Potter and the Order of the Phoenix (Harr...  J.K. Rowling-Mary GrandPré   \n",
       "Harry Potter and the Sorcerer's Stone (Harry Po...  J.K. Rowling-Mary GrandPré   \n",
       "Harry Potter and the Chamber of Secrets (Harry ...                J.K. Rowling   \n",
       "Harry Potter and the Prisoner of Azkaban (Harry...  J.K. Rowling-Mary GrandPré   \n",
       "\n",
       "                                                    average_rating  \\\n",
       "title                                                                \n",
       "Harry Potter and the Half-Blood Prince (Harry P...            4.56   \n",
       "Harry Potter and the Order of the Phoenix (Harr...            4.49   \n",
       "Harry Potter and the Sorcerer's Stone (Harry Po...            4.47   \n",
       "Harry Potter and the Chamber of Secrets (Harry ...            4.41   \n",
       "Harry Potter and the Prisoner of Azkaban (Harry...            4.55   \n",
       "\n",
       "                                                   language_code  pages_x  \\\n",
       "title                                                                       \n",
       "Harry Potter and the Half-Blood Prince (Harry P...           eng      652   \n",
       "Harry Potter and the Order of the Phoenix (Harr...           eng      870   \n",
       "Harry Potter and the Sorcerer's Stone (Harry Po...           eng      320   \n",
       "Harry Potter and the Chamber of Secrets (Harry ...           eng      352   \n",
       "Harry Potter and the Prisoner of Azkaban (Harry...           eng      435   \n",
       "\n",
       "                                                    ratings_count  \\\n",
       "title                                                               \n",
       "Harry Potter and the Half-Blood Prince (Harry P...        1944099   \n",
       "Harry Potter and the Order of the Phoenix (Harr...        1996446   \n",
       "Harry Potter and the Sorcerer's Stone (Harry Po...        5629932   \n",
       "Harry Potter and the Chamber of Secrets (Harry ...           6267   \n",
       "Harry Potter and the Prisoner of Azkaban (Harry...        2149872   \n",
       "\n",
       "                                                    text_reviews_count  \\\n",
       "title                                                                    \n",
       "Harry Potter and the Half-Blood Prince (Harry P...               26249   \n",
       "Harry Potter and the Order of the Phoenix (Harr...               27613   \n",
       "Harry Potter and the Sorcerer's Stone (Harry Po...               70390   \n",
       "Harry Potter and the Chamber of Secrets (Harry ...                 272   \n",
       "Harry Potter and the Prisoner of Azkaban (Harry...               33964   \n",
       "\n",
       "                                                    tot_ratings  \\\n",
       "title                                                             \n",
       "Harry Potter and the Half-Blood Prince (Harry P...    1945272.0   \n",
       "Harry Potter and the Order of the Phoenix (Harr...          NaN   \n",
       "Harry Potter and the Sorcerer's Stone (Harry Po...    5630064.0   \n",
       "Harry Potter and the Chamber of Secrets (Harry ...    2121829.0   \n",
       "Harry Potter and the Prisoner of Azkaban (Harry...    2152988.0   \n",
       "\n",
       "                                                    tot_text_reviews  \\\n",
       "title                                                                  \n",
       "Harry Potter and the Half-Blood Prince (Harry P...           26321.0   \n",
       "Harry Potter and the Order of the Phoenix (Harr...               NaN   \n",
       "Harry Potter and the Sorcerer's Stone (Harry Po...           70402.0   \n",
       "Harry Potter and the Chamber of Secrets (Harry ...           32966.0   \n",
       "Harry Potter and the Prisoner of Azkaban (Harry...           34111.0   \n",
       "\n",
       "                                                    avgratexratecount  \\\n",
       "title                                                                   \n",
       "Harry Potter and the Half-Blood Prince (Harry P...         8870440.32   \n",
       "Harry Potter and the Order of the Phoenix (Harr...                NaN   \n",
       "Harry Potter and the Sorcerer's Stone (Harry Po...        25166386.08   \n",
       "Harry Potter and the Chamber of Secrets (Harry ...         9357265.89   \n",
       "Harry Potter and the Prisoner of Azkaban (Harry...         9796095.40   \n",
       "\n",
       "                                                    weightedavgrate  pages_y  \n",
       "title                                                                         \n",
       "Harry Potter and the Half-Blood Prince (Harry P...             4.56    768.0  \n",
       "Harry Potter and the Order of the Phoenix (Harr...              NaN      NaN  \n",
       "Harry Potter and the Sorcerer's Stone (Harry Po...             4.47    424.0  \n",
       "Harry Potter and the Chamber of Secrets (Harry ...             4.41    352.0  \n",
       "Harry Potter and the Prisoner of Azkaban (Harry...             4.55    480.0  "
      ]
     },
     "execution_count": 101,
     "metadata": {},
     "output_type": "execute_result"
    }
   ],
   "source": [
    "df3.set_index(df3['title'], inplace = True)\n",
    "df3.head()"
   ]
  },
  {
   "cell_type": "code",
   "execution_count": 102,
   "metadata": {},
   "outputs": [],
   "source": [
    "df3.set_index(df3['title'], inplace = True)"
   ]
  },
  {
   "cell_type": "code",
   "execution_count": 103,
   "metadata": {},
   "outputs": [
    {
     "name": "stdout",
     "output_type": "stream",
     "text": [
      "title                          One Hundred Years of Solitude\n",
      "authors               Gabriel García Márquez-Gregory Rabassa\n",
      "average_rating                                          4.06\n",
      "language_code                                            eng\n",
      "pages_x                                                  417\n",
      "ratings_count                                         547207\n",
      "text_reviews_count                                     15763\n",
      "tot_ratings                                           556920\n",
      "tot_text_reviews                                       16788\n",
      "avgratexratecount                                 2.2611e+06\n",
      "weightedavgrate                                         4.06\n",
      "pages_y                                                  560\n",
      "Name: One Hundred Years of Solitude, dtype: object\n"
     ]
    }
   ],
   "source": [
    "print(df3.loc['One Hundred Years of Solitude',:])"
   ]
  },
  {
   "cell_type": "code",
   "execution_count": 104,
   "metadata": {},
   "outputs": [],
   "source": [
    "df4 = df3\n",
    "for t in titles_to_consolidate:\n",
    "    df4.loc[t, 'average_rating'] = df3.loc[t, 'weightedavgrate']\n",
    "    df4.loc[t, 'ratings_count'] = df3.loc[t, 'tot_ratings']\n",
    "    df4.loc[t, 'text_reviews_count'] = df3.loc[t, 'tot_text_reviews']"
   ]
  },
  {
   "cell_type": "code",
   "execution_count": 105,
   "metadata": {},
   "outputs": [],
   "source": [
    "for t in titles_to_consolidate:\n",
    "    df4.at[t, 'pages_x'] = df3.at[t, 'pages_y']"
   ]
  },
  {
   "cell_type": "code",
   "execution_count": 106,
   "metadata": {},
   "outputs": [
    {
     "name": "stdout",
     "output_type": "stream",
     "text": [
      "title                          One Hundred Years of Solitude\n",
      "authors               Gabriel García Márquez-Gregory Rabassa\n",
      "average_rating                                          4.06\n",
      "language_code                                            eng\n",
      "pages_x                                                  560\n",
      "ratings_count                                         556920\n",
      "text_reviews_count                                     16788\n",
      "tot_ratings                                           556920\n",
      "tot_text_reviews                                       16788\n",
      "avgratexratecount                                 2.2611e+06\n",
      "weightedavgrate                                         4.06\n",
      "pages_y                                                  560\n",
      "Name: One Hundred Years of Solitude, dtype: object\n"
     ]
    }
   ],
   "source": [
    "#just checking numbers ie comparing rating_count to tot_ratings\n",
    "print(df4.loc['One Hundred Years of Solitude',:])"
   ]
  },
  {
   "cell_type": "code",
   "execution_count": 107,
   "metadata": {},
   "outputs": [
    {
     "data": {
      "text/html": [
       "<div>\n",
       "<style scoped>\n",
       "    .dataframe tbody tr th:only-of-type {\n",
       "        vertical-align: middle;\n",
       "    }\n",
       "\n",
       "    .dataframe tbody tr th {\n",
       "        vertical-align: top;\n",
       "    }\n",
       "\n",
       "    .dataframe thead th {\n",
       "        text-align: right;\n",
       "    }\n",
       "</style>\n",
       "<table border=\"1\" class=\"dataframe\">\n",
       "  <thead>\n",
       "    <tr style=\"text-align: right;\">\n",
       "      <th></th>\n",
       "      <th>authors</th>\n",
       "      <th>average_rating</th>\n",
       "      <th>language_code</th>\n",
       "      <th>pages_x</th>\n",
       "      <th>ratings_count</th>\n",
       "      <th>text_reviews_count</th>\n",
       "    </tr>\n",
       "    <tr>\n",
       "      <th>title</th>\n",
       "      <th></th>\n",
       "      <th></th>\n",
       "      <th></th>\n",
       "      <th></th>\n",
       "      <th></th>\n",
       "      <th></th>\n",
       "    </tr>\n",
       "  </thead>\n",
       "  <tbody>\n",
       "    <tr>\n",
       "      <th>Harry Potter and the Half-Blood Prince (Harry Potter  #6)</th>\n",
       "      <td>J.K. Rowling-Mary GrandPré</td>\n",
       "      <td>4.56</td>\n",
       "      <td>eng</td>\n",
       "      <td>768</td>\n",
       "      <td>1945272.0</td>\n",
       "      <td>26321.0</td>\n",
       "    </tr>\n",
       "    <tr>\n",
       "      <th>Harry Potter and the Order of the Phoenix (Harry Potter  #5)</th>\n",
       "      <td>J.K. Rowling-Mary GrandPré</td>\n",
       "      <td>4.49</td>\n",
       "      <td>eng</td>\n",
       "      <td>870</td>\n",
       "      <td>1996446.0</td>\n",
       "      <td>27613.0</td>\n",
       "    </tr>\n",
       "    <tr>\n",
       "      <th>Harry Potter and the Sorcerer's Stone (Harry Potter  #1)</th>\n",
       "      <td>J.K. Rowling-Mary GrandPré</td>\n",
       "      <td>4.47</td>\n",
       "      <td>eng</td>\n",
       "      <td>424</td>\n",
       "      <td>5630064.0</td>\n",
       "      <td>70402.0</td>\n",
       "    </tr>\n",
       "    <tr>\n",
       "      <th>Harry Potter and the Chamber of Secrets (Harry Potter  #2)</th>\n",
       "      <td>J.K. Rowling</td>\n",
       "      <td>4.41</td>\n",
       "      <td>eng</td>\n",
       "      <td>352</td>\n",
       "      <td>2121829.0</td>\n",
       "      <td>32966.0</td>\n",
       "    </tr>\n",
       "    <tr>\n",
       "      <th>Harry Potter and the Prisoner of Azkaban (Harry Potter  #3)</th>\n",
       "      <td>J.K. Rowling-Mary GrandPré</td>\n",
       "      <td>4.55</td>\n",
       "      <td>eng</td>\n",
       "      <td>480</td>\n",
       "      <td>2152988.0</td>\n",
       "      <td>34111.0</td>\n",
       "    </tr>\n",
       "  </tbody>\n",
       "</table>\n",
       "</div>"
      ],
      "text/plain": [
       "                                                                       authors  \\\n",
       "title                                                                            \n",
       "Harry Potter and the Half-Blood Prince (Harry P...  J.K. Rowling-Mary GrandPré   \n",
       "Harry Potter and the Order of the Phoenix (Harr...  J.K. Rowling-Mary GrandPré   \n",
       "Harry Potter and the Sorcerer's Stone (Harry Po...  J.K. Rowling-Mary GrandPré   \n",
       "Harry Potter and the Chamber of Secrets (Harry ...                J.K. Rowling   \n",
       "Harry Potter and the Prisoner of Azkaban (Harry...  J.K. Rowling-Mary GrandPré   \n",
       "\n",
       "                                                    average_rating  \\\n",
       "title                                                                \n",
       "Harry Potter and the Half-Blood Prince (Harry P...            4.56   \n",
       "Harry Potter and the Order of the Phoenix (Harr...            4.49   \n",
       "Harry Potter and the Sorcerer's Stone (Harry Po...            4.47   \n",
       "Harry Potter and the Chamber of Secrets (Harry ...            4.41   \n",
       "Harry Potter and the Prisoner of Azkaban (Harry...            4.55   \n",
       "\n",
       "                                                   language_code  pages_x  \\\n",
       "title                                                                       \n",
       "Harry Potter and the Half-Blood Prince (Harry P...           eng      768   \n",
       "Harry Potter and the Order of the Phoenix (Harr...           eng      870   \n",
       "Harry Potter and the Sorcerer's Stone (Harry Po...           eng      424   \n",
       "Harry Potter and the Chamber of Secrets (Harry ...           eng      352   \n",
       "Harry Potter and the Prisoner of Azkaban (Harry...           eng      480   \n",
       "\n",
       "                                                    ratings_count  \\\n",
       "title                                                               \n",
       "Harry Potter and the Half-Blood Prince (Harry P...      1945272.0   \n",
       "Harry Potter and the Order of the Phoenix (Harr...      1996446.0   \n",
       "Harry Potter and the Sorcerer's Stone (Harry Po...      5630064.0   \n",
       "Harry Potter and the Chamber of Secrets (Harry ...      2121829.0   \n",
       "Harry Potter and the Prisoner of Azkaban (Harry...      2152988.0   \n",
       "\n",
       "                                                    text_reviews_count  \n",
       "title                                                                   \n",
       "Harry Potter and the Half-Blood Prince (Harry P...             26321.0  \n",
       "Harry Potter and the Order of the Phoenix (Harr...             27613.0  \n",
       "Harry Potter and the Sorcerer's Stone (Harry Po...             70402.0  \n",
       "Harry Potter and the Chamber of Secrets (Harry ...             32966.0  \n",
       "Harry Potter and the Prisoner of Azkaban (Harry...             34111.0  "
      ]
     },
     "execution_count": 107,
     "metadata": {},
     "output_type": "execute_result"
    }
   ],
   "source": [
    "df4.drop('tot_ratings', axis = 1, inplace = True)\n",
    "df4.drop('tot_text_reviews', axis = 1, inplace = True)\n",
    "df4.drop('avgratexratecount', axis = 1, inplace = True)\n",
    "df4.drop('weightedavgrate', axis = 1, inplace = True)\n",
    "df4.drop('pages_y', axis = 1, inplace = True)\n",
    "df4.drop('title', axis = 1, inplace = True)\n",
    "df4.head()"
   ]
  },
  {
   "cell_type": "code",
   "execution_count": 108,
   "metadata": {},
   "outputs": [
    {
     "data": {
      "text/html": [
       "<div>\n",
       "<style scoped>\n",
       "    .dataframe tbody tr th:only-of-type {\n",
       "        vertical-align: middle;\n",
       "    }\n",
       "\n",
       "    .dataframe tbody tr th {\n",
       "        vertical-align: top;\n",
       "    }\n",
       "\n",
       "    .dataframe thead th {\n",
       "        text-align: right;\n",
       "    }\n",
       "</style>\n",
       "<table border=\"1\" class=\"dataframe\">\n",
       "  <thead>\n",
       "    <tr style=\"text-align: right;\">\n",
       "      <th></th>\n",
       "      <th>title</th>\n",
       "      <th>authors</th>\n",
       "      <th>average_rating</th>\n",
       "      <th>language_code</th>\n",
       "      <th>pages_x</th>\n",
       "      <th>ratings_count</th>\n",
       "      <th>text_reviews_count</th>\n",
       "    </tr>\n",
       "  </thead>\n",
       "  <tbody>\n",
       "    <tr>\n",
       "      <th>0</th>\n",
       "      <td>Harry Potter and the Half-Blood Prince (Harry ...</td>\n",
       "      <td>J.K. Rowling-Mary GrandPré</td>\n",
       "      <td>4.56</td>\n",
       "      <td>eng</td>\n",
       "      <td>768</td>\n",
       "      <td>1945272.0</td>\n",
       "      <td>26321.0</td>\n",
       "    </tr>\n",
       "    <tr>\n",
       "      <th>1</th>\n",
       "      <td>Harry Potter and the Order of the Phoenix (Har...</td>\n",
       "      <td>J.K. Rowling-Mary GrandPré</td>\n",
       "      <td>4.49</td>\n",
       "      <td>eng</td>\n",
       "      <td>870</td>\n",
       "      <td>1996446.0</td>\n",
       "      <td>27613.0</td>\n",
       "    </tr>\n",
       "    <tr>\n",
       "      <th>2</th>\n",
       "      <td>Harry Potter and the Sorcerer's Stone (Harry P...</td>\n",
       "      <td>J.K. Rowling-Mary GrandPré</td>\n",
       "      <td>4.47</td>\n",
       "      <td>eng</td>\n",
       "      <td>424</td>\n",
       "      <td>5630064.0</td>\n",
       "      <td>70402.0</td>\n",
       "    </tr>\n",
       "    <tr>\n",
       "      <th>3</th>\n",
       "      <td>Harry Potter and the Chamber of Secrets (Harry...</td>\n",
       "      <td>J.K. Rowling</td>\n",
       "      <td>4.41</td>\n",
       "      <td>eng</td>\n",
       "      <td>352</td>\n",
       "      <td>2121829.0</td>\n",
       "      <td>32966.0</td>\n",
       "    </tr>\n",
       "    <tr>\n",
       "      <th>4</th>\n",
       "      <td>Harry Potter and the Prisoner of Azkaban (Harr...</td>\n",
       "      <td>J.K. Rowling-Mary GrandPré</td>\n",
       "      <td>4.55</td>\n",
       "      <td>eng</td>\n",
       "      <td>480</td>\n",
       "      <td>2152988.0</td>\n",
       "      <td>34111.0</td>\n",
       "    </tr>\n",
       "  </tbody>\n",
       "</table>\n",
       "</div>"
      ],
      "text/plain": [
       "                                               title  \\\n",
       "0  Harry Potter and the Half-Blood Prince (Harry ...   \n",
       "1  Harry Potter and the Order of the Phoenix (Har...   \n",
       "2  Harry Potter and the Sorcerer's Stone (Harry P...   \n",
       "3  Harry Potter and the Chamber of Secrets (Harry...   \n",
       "4  Harry Potter and the Prisoner of Azkaban (Harr...   \n",
       "\n",
       "                      authors  average_rating language_code  pages_x  \\\n",
       "0  J.K. Rowling-Mary GrandPré            4.56           eng      768   \n",
       "1  J.K. Rowling-Mary GrandPré            4.49           eng      870   \n",
       "2  J.K. Rowling-Mary GrandPré            4.47           eng      424   \n",
       "3                J.K. Rowling            4.41           eng      352   \n",
       "4  J.K. Rowling-Mary GrandPré            4.55           eng      480   \n",
       "\n",
       "   ratings_count  text_reviews_count  \n",
       "0      1945272.0             26321.0  \n",
       "1      1996446.0             27613.0  \n",
       "2      5630064.0             70402.0  \n",
       "3      2121829.0             32966.0  \n",
       "4      2152988.0             34111.0  "
      ]
     },
     "execution_count": 108,
     "metadata": {},
     "output_type": "execute_result"
    }
   ],
   "source": [
    "df4.reset_index(level=0, inplace=True)\n",
    "df4.head()"
   ]
  },
  {
   "cell_type": "code",
   "execution_count": 109,
   "metadata": {},
   "outputs": [
    {
     "data": {
      "image/png": "[encoded data removed]",
      "text/plain": [
       "<Figure size 864x864 with 2 Axes>"
      ]
     },
     "metadata": {
      "needs_background": "light"
     },
     "output_type": "display_data"
    }
   ],
   "source": [
    "correlatedata = df4.corr()\n",
    "names = correlatedata.index\n",
    "plt.figure(figsize =(12,12))\n",
    "corrmap = sns.heatmap(df3[names].corr(), annot = True, cmap ='coolwarm')"
   ]
  },
  {
   "cell_type": "code",
   "execution_count": 110,
   "metadata": {},
   "outputs": [
    {
     "data": {
      "text/html": [
       "<div>\n",
       "<style scoped>\n",
       "    .dataframe tbody tr th:only-of-type {\n",
       "        vertical-align: middle;\n",
       "    }\n",
       "\n",
       "    .dataframe tbody tr th {\n",
       "        vertical-align: top;\n",
       "    }\n",
       "\n",
       "    .dataframe thead th {\n",
       "        text-align: right;\n",
       "    }\n",
       "</style>\n",
       "<table border=\"1\" class=\"dataframe\">\n",
       "  <thead>\n",
       "    <tr style=\"text-align: right;\">\n",
       "      <th></th>\n",
       "      <th>average_rating</th>\n",
       "      <th>pages_x</th>\n",
       "      <th>ratings_count</th>\n",
       "      <th>text_reviews_count</th>\n",
       "    </tr>\n",
       "  </thead>\n",
       "  <tbody>\n",
       "    <tr>\n",
       "      <th>count</th>\n",
       "      <td>10060.000000</td>\n",
       "      <td>10060.000000</td>\n",
       "      <td>1.006000e+04</td>\n",
       "      <td>10060.000000</td>\n",
       "    </tr>\n",
       "    <tr>\n",
       "      <th>mean</th>\n",
       "      <td>3.949525</td>\n",
       "      <td>353.205368</td>\n",
       "      <td>2.421361e+04</td>\n",
       "      <td>726.940656</td>\n",
       "    </tr>\n",
       "    <tr>\n",
       "      <th>std</th>\n",
       "      <td>0.270620</td>\n",
       "      <td>253.140163</td>\n",
       "      <td>1.318512e+05</td>\n",
       "      <td>2966.671084</td>\n",
       "    </tr>\n",
       "    <tr>\n",
       "      <th>min</th>\n",
       "      <td>2.400000</td>\n",
       "      <td>0.000000</td>\n",
       "      <td>5.000000e+01</td>\n",
       "      <td>0.000000</td>\n",
       "    </tr>\n",
       "    <tr>\n",
       "      <th>25%</th>\n",
       "      <td>3.780000</td>\n",
       "      <td>208.000000</td>\n",
       "      <td>3.170000e+02</td>\n",
       "      <td>22.000000</td>\n",
       "    </tr>\n",
       "    <tr>\n",
       "      <th>50%</th>\n",
       "      <td>3.960000</td>\n",
       "      <td>307.000000</td>\n",
       "      <td>1.655000e+03</td>\n",
       "      <td>85.000000</td>\n",
       "    </tr>\n",
       "    <tr>\n",
       "      <th>75%</th>\n",
       "      <td>4.130078</td>\n",
       "      <td>424.000000</td>\n",
       "      <td>8.954250e+03</td>\n",
       "      <td>381.000000</td>\n",
       "    </tr>\n",
       "    <tr>\n",
       "      <th>max</th>\n",
       "      <td>4.820000</td>\n",
       "      <td>6576.000000</td>\n",
       "      <td>5.630064e+06</td>\n",
       "      <td>94163.000000</td>\n",
       "    </tr>\n",
       "  </tbody>\n",
       "</table>\n",
       "</div>"
      ],
      "text/plain": [
       "       average_rating       pages_x  ratings_count  text_reviews_count\n",
       "count    10060.000000  10060.000000   1.006000e+04        10060.000000\n",
       "mean         3.949525    353.205368   2.421361e+04          726.940656\n",
       "std          0.270620    253.140163   1.318512e+05         2966.671084\n",
       "min          2.400000      0.000000   5.000000e+01            0.000000\n",
       "25%          3.780000    208.000000   3.170000e+02           22.000000\n",
       "50%          3.960000    307.000000   1.655000e+03           85.000000\n",
       "75%          4.130078    424.000000   8.954250e+03          381.000000\n",
       "max          4.820000   6576.000000   5.630064e+06        94163.000000"
      ]
     },
     "execution_count": 110,
     "metadata": {},
     "output_type": "execute_result"
    }
   ],
   "source": [
    "df4.describe()"
   ]
  },
  {
   "cell_type": "code",
   "execution_count": 111,
   "metadata": {},
   "outputs": [
    {
     "data": {
      "text/html": [
       "<div>\n",
       "<style scoped>\n",
       "    .dataframe tbody tr th:only-of-type {\n",
       "        vertical-align: middle;\n",
       "    }\n",
       "\n",
       "    .dataframe tbody tr th {\n",
       "        vertical-align: top;\n",
       "    }\n",
       "\n",
       "    .dataframe thead th {\n",
       "        text-align: right;\n",
       "    }\n",
       "</style>\n",
       "<table border=\"1\" class=\"dataframe\">\n",
       "  <thead>\n",
       "    <tr style=\"text-align: right;\">\n",
       "      <th></th>\n",
       "      <th>average_rating</th>\n",
       "      <th>pages_x</th>\n",
       "      <th>ratings_count</th>\n",
       "      <th>text_reviews_count</th>\n",
       "    </tr>\n",
       "  </thead>\n",
       "  <tbody>\n",
       "    <tr>\n",
       "      <th>count</th>\n",
       "      <td>10060.000000</td>\n",
       "      <td>10060.000000</td>\n",
       "      <td>1.006000e+04</td>\n",
       "      <td>10060.000000</td>\n",
       "    </tr>\n",
       "    <tr>\n",
       "      <th>mean</th>\n",
       "      <td>3.949525</td>\n",
       "      <td>353.205368</td>\n",
       "      <td>2.421361e+04</td>\n",
       "      <td>726.940656</td>\n",
       "    </tr>\n",
       "    <tr>\n",
       "      <th>std</th>\n",
       "      <td>0.270620</td>\n",
       "      <td>253.140163</td>\n",
       "      <td>1.318512e+05</td>\n",
       "      <td>2966.671084</td>\n",
       "    </tr>\n",
       "    <tr>\n",
       "      <th>min</th>\n",
       "      <td>2.400000</td>\n",
       "      <td>0.000000</td>\n",
       "      <td>5.000000e+01</td>\n",
       "      <td>0.000000</td>\n",
       "    </tr>\n",
       "    <tr>\n",
       "      <th>25%</th>\n",
       "      <td>3.780000</td>\n",
       "      <td>208.000000</td>\n",
       "      <td>3.170000e+02</td>\n",
       "      <td>22.000000</td>\n",
       "    </tr>\n",
       "    <tr>\n",
       "      <th>50%</th>\n",
       "      <td>3.960000</td>\n",
       "      <td>307.000000</td>\n",
       "      <td>1.655000e+03</td>\n",
       "      <td>85.000000</td>\n",
       "    </tr>\n",
       "    <tr>\n",
       "      <th>75%</th>\n",
       "      <td>4.130078</td>\n",
       "      <td>424.000000</td>\n",
       "      <td>8.954250e+03</td>\n",
       "      <td>381.000000</td>\n",
       "    </tr>\n",
       "    <tr>\n",
       "      <th>max</th>\n",
       "      <td>4.820000</td>\n",
       "      <td>6576.000000</td>\n",
       "      <td>5.630064e+06</td>\n",
       "      <td>94163.000000</td>\n",
       "    </tr>\n",
       "  </tbody>\n",
       "</table>\n",
       "</div>"
      ],
      "text/plain": [
       "       average_rating       pages_x  ratings_count  text_reviews_count\n",
       "count    10060.000000  10060.000000   1.006000e+04        10060.000000\n",
       "mean         3.949525    353.205368   2.421361e+04          726.940656\n",
       "std          0.270620    253.140163   1.318512e+05         2966.671084\n",
       "min          2.400000      0.000000   5.000000e+01            0.000000\n",
       "25%          3.780000    208.000000   3.170000e+02           22.000000\n",
       "50%          3.960000    307.000000   1.655000e+03           85.000000\n",
       "75%          4.130078    424.000000   8.954250e+03          381.000000\n",
       "max          4.820000   6576.000000   5.630064e+06        94163.000000"
      ]
     },
     "execution_count": 111,
     "metadata": {},
     "output_type": "execute_result"
    }
   ],
   "source": [
    "#makisure all in there and there are no Nans\n",
    "df3.describe()"
   ]
  },
  {
   "cell_type": "code",
   "execution_count": 113,
   "metadata": {},
   "outputs": [
    {
     "data": {
      "text/html": [
       "<div>\n",
       "<style scoped>\n",
       "    .dataframe tbody tr th:only-of-type {\n",
       "        vertical-align: middle;\n",
       "    }\n",
       "\n",
       "    .dataframe tbody tr th {\n",
       "        vertical-align: top;\n",
       "    }\n",
       "\n",
       "    .dataframe thead th {\n",
       "        text-align: right;\n",
       "    }\n",
       "</style>\n",
       "<table border=\"1\" class=\"dataframe\">\n",
       "  <thead>\n",
       "    <tr style=\"text-align: right;\">\n",
       "      <th></th>\n",
       "      <th>title</th>\n",
       "      <th>authors</th>\n",
       "      <th>average_rating</th>\n",
       "      <th>language_code</th>\n",
       "      <th>pages</th>\n",
       "      <th>ratings_count</th>\n",
       "      <th>text_reviews_count</th>\n",
       "      <th>tot_ratings</th>\n",
       "      <th>tot_text_reviews</th>\n",
       "      <th>avgratexratecount</th>\n",
       "      <th>weightedavgrate</th>\n",
       "    </tr>\n",
       "    <tr>\n",
       "      <th>title</th>\n",
       "      <th></th>\n",
       "      <th></th>\n",
       "      <th></th>\n",
       "      <th></th>\n",
       "      <th></th>\n",
       "      <th></th>\n",
       "      <th></th>\n",
       "      <th></th>\n",
       "      <th></th>\n",
       "      <th></th>\n",
       "      <th></th>\n",
       "    </tr>\n",
       "  </thead>\n",
       "  <tbody>\n",
       "    <tr>\n",
       "      <th>Harry Potter and the Half-Blood Prince (Harry Potter  #6)</th>\n",
       "      <td>Harry Potter and the Half-Blood Prince (Harry ...</td>\n",
       "      <td>J.K. Rowling-Mary GrandPré</td>\n",
       "      <td>4.56</td>\n",
       "      <td>eng</td>\n",
       "      <td>652</td>\n",
       "      <td>1944099</td>\n",
       "      <td>26249</td>\n",
       "      <td>1945272.0</td>\n",
       "      <td>26321.0</td>\n",
       "      <td>8870440.32</td>\n",
       "      <td>4.56</td>\n",
       "    </tr>\n",
       "    <tr>\n",
       "      <th>Harry Potter and the Order of the Phoenix (Harry Potter  #5)</th>\n",
       "      <td>Harry Potter and the Order of the Phoenix (Har...</td>\n",
       "      <td>J.K. Rowling-Mary GrandPré</td>\n",
       "      <td>4.49</td>\n",
       "      <td>eng</td>\n",
       "      <td>870</td>\n",
       "      <td>1996446</td>\n",
       "      <td>27613</td>\n",
       "      <td>NaN</td>\n",
       "      <td>NaN</td>\n",
       "      <td>NaN</td>\n",
       "      <td>NaN</td>\n",
       "    </tr>\n",
       "    <tr>\n",
       "      <th>Harry Potter and the Sorcerer's Stone (Harry Potter  #1)</th>\n",
       "      <td>Harry Potter and the Sorcerer's Stone (Harry P...</td>\n",
       "      <td>J.K. Rowling-Mary GrandPré</td>\n",
       "      <td>4.47</td>\n",
       "      <td>eng</td>\n",
       "      <td>320</td>\n",
       "      <td>5629932</td>\n",
       "      <td>70390</td>\n",
       "      <td>5630064.0</td>\n",
       "      <td>70402.0</td>\n",
       "      <td>25166386.08</td>\n",
       "      <td>4.47</td>\n",
       "    </tr>\n",
       "    <tr>\n",
       "      <th>Harry Potter and the Chamber of Secrets (Harry Potter  #2)</th>\n",
       "      <td>Harry Potter and the Chamber of Secrets (Harry...</td>\n",
       "      <td>J.K. Rowling</td>\n",
       "      <td>4.41</td>\n",
       "      <td>eng</td>\n",
       "      <td>352</td>\n",
       "      <td>6267</td>\n",
       "      <td>272</td>\n",
       "      <td>2121829.0</td>\n",
       "      <td>32966.0</td>\n",
       "      <td>9357265.89</td>\n",
       "      <td>4.41</td>\n",
       "    </tr>\n",
       "    <tr>\n",
       "      <th>Harry Potter and the Prisoner of Azkaban (Harry Potter  #3)</th>\n",
       "      <td>Harry Potter and the Prisoner of Azkaban (Harr...</td>\n",
       "      <td>J.K. Rowling-Mary GrandPré</td>\n",
       "      <td>4.55</td>\n",
       "      <td>eng</td>\n",
       "      <td>435</td>\n",
       "      <td>2149872</td>\n",
       "      <td>33964</td>\n",
       "      <td>2152988.0</td>\n",
       "      <td>34111.0</td>\n",
       "      <td>9796095.40</td>\n",
       "      <td>4.55</td>\n",
       "    </tr>\n",
       "  </tbody>\n",
       "</table>\n",
       "</div>"
      ],
      "text/plain": [
       "                                                                                                title  \\\n",
       "title                                                                                                   \n",
       "Harry Potter and the Half-Blood Prince (Harry P...  Harry Potter and the Half-Blood Prince (Harry ...   \n",
       "Harry Potter and the Order of the Phoenix (Harr...  Harry Potter and the Order of the Phoenix (Har...   \n",
       "Harry Potter and the Sorcerer's Stone (Harry Po...  Harry Potter and the Sorcerer's Stone (Harry P...   \n",
       "Harry Potter and the Chamber of Secrets (Harry ...  Harry Potter and the Chamber of Secrets (Harry...   \n",
       "Harry Potter and the Prisoner of Azkaban (Harry...  Harry Potter and the Prisoner of Azkaban (Harr...   \n",
       "\n",
       "                                                                       authors  \\\n",
       "title                                                                            \n",
       "Harry Potter and the Half-Blood Prince (Harry P...  J.K. Rowling-Mary GrandPré   \n",
       "Harry Potter and the Order of the Phoenix (Harr...  J.K. Rowling-Mary GrandPré   \n",
       "Harry Potter and the Sorcerer's Stone (Harry Po...  J.K. Rowling-Mary GrandPré   \n",
       "Harry Potter and the Chamber of Secrets (Harry ...                J.K. Rowling   \n",
       "Harry Potter and the Prisoner of Azkaban (Harry...  J.K. Rowling-Mary GrandPré   \n",
       "\n",
       "                                                    average_rating  \\\n",
       "title                                                                \n",
       "Harry Potter and the Half-Blood Prince (Harry P...            4.56   \n",
       "Harry Potter and the Order of the Phoenix (Harr...            4.49   \n",
       "Harry Potter and the Sorcerer's Stone (Harry Po...            4.47   \n",
       "Harry Potter and the Chamber of Secrets (Harry ...            4.41   \n",
       "Harry Potter and the Prisoner of Azkaban (Harry...            4.55   \n",
       "\n",
       "                                                   language_code  pages  \\\n",
       "title                                                                     \n",
       "Harry Potter and the Half-Blood Prince (Harry P...           eng    652   \n",
       "Harry Potter and the Order of the Phoenix (Harr...           eng    870   \n",
       "Harry Potter and the Sorcerer's Stone (Harry Po...           eng    320   \n",
       "Harry Potter and the Chamber of Secrets (Harry ...           eng    352   \n",
       "Harry Potter and the Prisoner of Azkaban (Harry...           eng    435   \n",
       "\n",
       "                                                    ratings_count  \\\n",
       "title                                                               \n",
       "Harry Potter and the Half-Blood Prince (Harry P...        1944099   \n",
       "Harry Potter and the Order of the Phoenix (Harr...        1996446   \n",
       "Harry Potter and the Sorcerer's Stone (Harry Po...        5629932   \n",
       "Harry Potter and the Chamber of Secrets (Harry ...           6267   \n",
       "Harry Potter and the Prisoner of Azkaban (Harry...        2149872   \n",
       "\n",
       "                                                    text_reviews_count  \\\n",
       "title                                                                    \n",
       "Harry Potter and the Half-Blood Prince (Harry P...               26249   \n",
       "Harry Potter and the Order of the Phoenix (Harr...               27613   \n",
       "Harry Potter and the Sorcerer's Stone (Harry Po...               70390   \n",
       "Harry Potter and the Chamber of Secrets (Harry ...                 272   \n",
       "Harry Potter and the Prisoner of Azkaban (Harry...               33964   \n",
       "\n",
       "                                                    tot_ratings  \\\n",
       "title                                                             \n",
       "Harry Potter and the Half-Blood Prince (Harry P...    1945272.0   \n",
       "Harry Potter and the Order of the Phoenix (Harr...          NaN   \n",
       "Harry Potter and the Sorcerer's Stone (Harry Po...    5630064.0   \n",
       "Harry Potter and the Chamber of Secrets (Harry ...    2121829.0   \n",
       "Harry Potter and the Prisoner of Azkaban (Harry...    2152988.0   \n",
       "\n",
       "                                                    tot_text_reviews  \\\n",
       "title                                                                  \n",
       "Harry Potter and the Half-Blood Prince (Harry P...           26321.0   \n",
       "Harry Potter and the Order of the Phoenix (Harr...               NaN   \n",
       "Harry Potter and the Sorcerer's Stone (Harry Po...           70402.0   \n",
       "Harry Potter and the Chamber of Secrets (Harry ...           32966.0   \n",
       "Harry Potter and the Prisoner of Azkaban (Harry...           34111.0   \n",
       "\n",
       "                                                    avgratexratecount  \\\n",
       "title                                                                   \n",
       "Harry Potter and the Half-Blood Prince (Harry P...         8870440.32   \n",
       "Harry Potter and the Order of the Phoenix (Harr...                NaN   \n",
       "Harry Potter and the Sorcerer's Stone (Harry Po...        25166386.08   \n",
       "Harry Potter and the Chamber of Secrets (Harry ...         9357265.89   \n",
       "Harry Potter and the Prisoner of Azkaban (Harry...         9796095.40   \n",
       "\n",
       "                                                    weightedavgrate  \n",
       "title                                                                \n",
       "Harry Potter and the Half-Blood Prince (Harry P...             4.56  \n",
       "Harry Potter and the Order of the Phoenix (Harr...              NaN  \n",
       "Harry Potter and the Sorcerer's Stone (Harry Po...             4.47  \n",
       "Harry Potter and the Chamber of Secrets (Harry ...             4.41  \n",
       "Harry Potter and the Prisoner of Azkaban (Harry...             4.55  "
      ]
     },
     "execution_count": 113,
     "metadata": {},
     "output_type": "execute_result"
    }
   ],
   "source": [
    "df2.head()"
   ]
  },
  {
   "cell_type": "markdown",
   "metadata": {},
   "source": [
    "### 6. Split the Current DF based on Language"
   ]
  },
  {
   "cell_type": "code",
   "execution_count": 114,
   "metadata": {},
   "outputs": [
    {
     "name": "stdout",
     "output_type": "stream",
     "text": [
      "['eng', 'en-US', 'fre', 'spa', 'en-GB', 'mul', 'por', 'grc', 'enm', 'en-CA', 'jpn', 'ger', 'ara', 'zho', 'nl', 'ita', 'lat', 'rus', 'swe', 'glg', 'cat', 'heb', 'nor', 'tur']\n"
     ]
    }
   ],
   "source": [
    "langlist = df4['language_code'].unique().tolist()\n",
    "print(langlist)"
   ]
  },
  {
   "cell_type": "code",
   "execution_count": 115,
   "metadata": {},
   "outputs": [],
   "source": [
    "#group books into 2 groups - 1. all in english 2. foreign - all the rest\n",
    "engdf1 = pd.DataFrame(df4.loc[df4.language_code == 'eng'])\n",
    "engdf2 = pd.DataFrame(df4.loc[df4.language_code == 'en-US'])\n",
    "engdf3 = pd.DataFrame(df4.loc[df4.language_code == 'en-GB'])\n",
    "engdf4 = pd.DataFrame(df4.loc[df4.language_code == 'en-CA'])\n",
    "allengdf = pd.concat([engdf1,engdf2, engdf3, engdf4])"
   ]
  },
  {
   "cell_type": "code",
   "execution_count": 116,
   "metadata": {},
   "outputs": [],
   "source": [
    "allengdf.to_csv('alleng.csv')"
   ]
  },
  {
   "cell_type": "code",
   "execution_count": 117,
   "metadata": {},
   "outputs": [
    {
     "data": {
      "text/plain": [
       "(9653, 7)"
      ]
     },
     "execution_count": 117,
     "metadata": {},
     "output_type": "execute_result"
    }
   ],
   "source": [
    "allengdf.shape"
   ]
  },
  {
   "cell_type": "code",
   "execution_count": 118,
   "metadata": {},
   "outputs": [],
   "source": [
    "foreigndf = pd.DataFrame(df4.loc[df4.language_code != 'eng'])\n",
    "foreigndf = pd.DataFrame(foreigndf.loc[foreigndf.language_code != 'en-US'])\n",
    "foreigndf  = pd.DataFrame(foreigndf.loc[foreigndf.language_code != 'en-GB'])\n",
    "foreigndf  = pd.DataFrame(foreigndf.loc[foreigndf.language_code != 'en-CA'])"
   ]
  },
  {
   "cell_type": "code",
   "execution_count": 119,
   "metadata": {},
   "outputs": [
    {
     "data": {
      "text/plain": [
       "(407, 7)"
      ]
     },
     "execution_count": 119,
     "metadata": {},
     "output_type": "execute_result"
    }
   ],
   "source": [
    "foreigndf.shape"
   ]
  },
  {
   "cell_type": "markdown",
   "metadata": {},
   "source": [
    "### Summary of Dataframes:\n",
    "1. allengdf:  This is the main dataframe I will work with in R Shiny.  It includes all books the are written in english (from any country) and that have a significant number of rates (50 or more).  Note: the number of pages listed in the dataframe is not necessarily accurate for these book (versions vary in length), the longest version is represented. \n",
    "2. foreigndf: Includes all books the are written in a language other than english and that have a significant number of rates (50 or more).  Note: the number of pages listed in the dataframe is not necessarily accurate for these book (versions vary in length).\n",
    "3. take_a_chance: these have only been rated by a limited number of readers, however some did get the highest rating, 5."
   ]
  },
  {
   "cell_type": "code",
   "execution_count": 121,
   "metadata": {},
   "outputs": [
    {
     "data": {
      "image/png": "[encoded data removed]",
      "text/plain": [
       "<Figure size 720x720 with 16 Axes>"
      ]
     },
     "metadata": {
      "needs_background": "light"
     },
     "output_type": "display_data"
    }
   ],
   "source": [
    "g = sns.PairGrid(allengdf, vars=['average_rating', 'pages_x', 'ratings_count', 'text_reviews_count' ])\n",
    "g = g.map(plt.scatter)"
   ]
  },
  {
   "cell_type": "code",
   "execution_count": 122,
   "metadata": {},
   "outputs": [],
   "source": [
    "#It is interesting that when i remove multiple \"versions\" of a title and only keep the longest version number of pages, \n",
    "#the correlation between rating and length is quite reduced (as evident by corr and by blot above)"
   ]
  },
  {
   "cell_type": "code",
   "execution_count": 123,
   "metadata": {},
   "outputs": [
    {
     "data": {
      "text/html": [
       "<div>\n",
       "<style scoped>\n",
       "    .dataframe tbody tr th:only-of-type {\n",
       "        vertical-align: middle;\n",
       "    }\n",
       "\n",
       "    .dataframe tbody tr th {\n",
       "        vertical-align: top;\n",
       "    }\n",
       "\n",
       "    .dataframe thead th {\n",
       "        text-align: right;\n",
       "    }\n",
       "</style>\n",
       "<table border=\"1\" class=\"dataframe\">\n",
       "  <thead>\n",
       "    <tr style=\"text-align: right;\">\n",
       "      <th></th>\n",
       "      <th>title</th>\n",
       "      <th>average_rating</th>\n",
       "      <th>language_code</th>\n",
       "      <th>pages_x</th>\n",
       "      <th>ratings_count</th>\n",
       "      <th>text_reviews_count</th>\n",
       "      <th>authors_A.B. Yehoshua-Hillel Halkin</th>\n",
       "      <th>authors_A.J. Jacobs</th>\n",
       "      <th>authors_A.M. Homes</th>\n",
       "      <th>authors_A.N. Roquelaure-Anne Rice</th>\n",
       "      <th>...</th>\n",
       "      <th>authors_Zora Neale Hurston-Cheryl A. Wall</th>\n",
       "      <th>authors_Zora Neale Hurston-Ruby Dee</th>\n",
       "      <th>authors_Zoë Heller</th>\n",
       "      <th>authors_bell hooks</th>\n",
       "      <th>authors_bell hooks-Shane W. Evans</th>\n",
       "      <th>authors_Åsne Seierstad-Ingrid Christopherson</th>\n",
       "      <th>authors_Émile Zola-Douglas Parmée</th>\n",
       "      <th>authors_Émile Zola-Robert Lethbridge-Elinor Dorday</th>\n",
       "      <th>authors_Émile Zola-Robin Buss-Brian  Nelson</th>\n",
       "      <th>authors_Émile Zola-Roger Pearson</th>\n",
       "    </tr>\n",
       "  </thead>\n",
       "  <tbody>\n",
       "    <tr>\n",
       "      <th>0</th>\n",
       "      <td>Harry Potter and the Half-Blood Prince (Harry ...</td>\n",
       "      <td>4.56</td>\n",
       "      <td>eng</td>\n",
       "      <td>768</td>\n",
       "      <td>1945272.0</td>\n",
       "      <td>26321.0</td>\n",
       "      <td>0</td>\n",
       "      <td>0</td>\n",
       "      <td>0</td>\n",
       "      <td>0</td>\n",
       "      <td>...</td>\n",
       "      <td>0</td>\n",
       "      <td>0</td>\n",
       "      <td>0</td>\n",
       "      <td>0</td>\n",
       "      <td>0</td>\n",
       "      <td>0</td>\n",
       "      <td>0</td>\n",
       "      <td>0</td>\n",
       "      <td>0</td>\n",
       "      <td>0</td>\n",
       "    </tr>\n",
       "    <tr>\n",
       "      <th>1</th>\n",
       "      <td>Harry Potter and the Order of the Phoenix (Har...</td>\n",
       "      <td>4.49</td>\n",
       "      <td>eng</td>\n",
       "      <td>870</td>\n",
       "      <td>1996446.0</td>\n",
       "      <td>27613.0</td>\n",
       "      <td>0</td>\n",
       "      <td>0</td>\n",
       "      <td>0</td>\n",
       "      <td>0</td>\n",
       "      <td>...</td>\n",
       "      <td>0</td>\n",
       "      <td>0</td>\n",
       "      <td>0</td>\n",
       "      <td>0</td>\n",
       "      <td>0</td>\n",
       "      <td>0</td>\n",
       "      <td>0</td>\n",
       "      <td>0</td>\n",
       "      <td>0</td>\n",
       "      <td>0</td>\n",
       "    </tr>\n",
       "    <tr>\n",
       "      <th>2</th>\n",
       "      <td>Harry Potter and the Sorcerer's Stone (Harry P...</td>\n",
       "      <td>4.47</td>\n",
       "      <td>eng</td>\n",
       "      <td>424</td>\n",
       "      <td>5630064.0</td>\n",
       "      <td>70402.0</td>\n",
       "      <td>0</td>\n",
       "      <td>0</td>\n",
       "      <td>0</td>\n",
       "      <td>0</td>\n",
       "      <td>...</td>\n",
       "      <td>0</td>\n",
       "      <td>0</td>\n",
       "      <td>0</td>\n",
       "      <td>0</td>\n",
       "      <td>0</td>\n",
       "      <td>0</td>\n",
       "      <td>0</td>\n",
       "      <td>0</td>\n",
       "      <td>0</td>\n",
       "      <td>0</td>\n",
       "    </tr>\n",
       "    <tr>\n",
       "      <th>3</th>\n",
       "      <td>Harry Potter and the Chamber of Secrets (Harry...</td>\n",
       "      <td>4.41</td>\n",
       "      <td>eng</td>\n",
       "      <td>352</td>\n",
       "      <td>2121829.0</td>\n",
       "      <td>32966.0</td>\n",
       "      <td>0</td>\n",
       "      <td>0</td>\n",
       "      <td>0</td>\n",
       "      <td>0</td>\n",
       "      <td>...</td>\n",
       "      <td>0</td>\n",
       "      <td>0</td>\n",
       "      <td>0</td>\n",
       "      <td>0</td>\n",
       "      <td>0</td>\n",
       "      <td>0</td>\n",
       "      <td>0</td>\n",
       "      <td>0</td>\n",
       "      <td>0</td>\n",
       "      <td>0</td>\n",
       "    </tr>\n",
       "    <tr>\n",
       "      <th>4</th>\n",
       "      <td>Harry Potter and the Prisoner of Azkaban (Harr...</td>\n",
       "      <td>4.55</td>\n",
       "      <td>eng</td>\n",
       "      <td>480</td>\n",
       "      <td>2152988.0</td>\n",
       "      <td>34111.0</td>\n",
       "      <td>0</td>\n",
       "      <td>0</td>\n",
       "      <td>0</td>\n",
       "      <td>0</td>\n",
       "      <td>...</td>\n",
       "      <td>0</td>\n",
       "      <td>0</td>\n",
       "      <td>0</td>\n",
       "      <td>0</td>\n",
       "      <td>0</td>\n",
       "      <td>0</td>\n",
       "      <td>0</td>\n",
       "      <td>0</td>\n",
       "      <td>0</td>\n",
       "      <td>0</td>\n",
       "    </tr>\n",
       "  </tbody>\n",
       "</table>\n",
       "<p>5 rows × 5405 columns</p>\n",
       "</div>"
      ],
      "text/plain": [
       "                                               title  average_rating  \\\n",
       "0  Harry Potter and the Half-Blood Prince (Harry ...            4.56   \n",
       "1  Harry Potter and the Order of the Phoenix (Har...            4.49   \n",
       "2  Harry Potter and the Sorcerer's Stone (Harry P...            4.47   \n",
       "3  Harry Potter and the Chamber of Secrets (Harry...            4.41   \n",
       "4  Harry Potter and the Prisoner of Azkaban (Harr...            4.55   \n",
       "\n",
       "  language_code  pages_x  ratings_count  text_reviews_count  \\\n",
       "0           eng      768      1945272.0             26321.0   \n",
       "1           eng      870      1996446.0             27613.0   \n",
       "2           eng      424      5630064.0             70402.0   \n",
       "3           eng      352      2121829.0             32966.0   \n",
       "4           eng      480      2152988.0             34111.0   \n",
       "\n",
       "   authors_A.B. Yehoshua-Hillel Halkin  authors_A.J. Jacobs  \\\n",
       "0                                    0                    0   \n",
       "1                                    0                    0   \n",
       "2                                    0                    0   \n",
       "3                                    0                    0   \n",
       "4                                    0                    0   \n",
       "\n",
       "   authors_A.M. Homes  authors_A.N. Roquelaure-Anne Rice  \\\n",
       "0                   0                                  0   \n",
       "1                   0                                  0   \n",
       "2                   0                                  0   \n",
       "3                   0                                  0   \n",
       "4                   0                                  0   \n",
       "\n",
       "                 ...                 \\\n",
       "0                ...                  \n",
       "1                ...                  \n",
       "2                ...                  \n",
       "3                ...                  \n",
       "4                ...                  \n",
       "\n",
       "   authors_Zora Neale Hurston-Cheryl A. Wall  \\\n",
       "0                                          0   \n",
       "1                                          0   \n",
       "2                                          0   \n",
       "3                                          0   \n",
       "4                                          0   \n",
       "\n",
       "   authors_Zora Neale Hurston-Ruby Dee  authors_Zoë Heller  \\\n",
       "0                                    0                   0   \n",
       "1                                    0                   0   \n",
       "2                                    0                   0   \n",
       "3                                    0                   0   \n",
       "4                                    0                   0   \n",
       "\n",
       "   authors_bell hooks  authors_bell hooks-Shane W. Evans  \\\n",
       "0                   0                                  0   \n",
       "1                   0                                  0   \n",
       "2                   0                                  0   \n",
       "3                   0                                  0   \n",
       "4                   0                                  0   \n",
       "\n",
       "   authors_Åsne Seierstad-Ingrid Christopherson  \\\n",
       "0                                             0   \n",
       "1                                             0   \n",
       "2                                             0   \n",
       "3                                             0   \n",
       "4                                             0   \n",
       "\n",
       "   authors_Émile Zola-Douglas Parmée  \\\n",
       "0                                  0   \n",
       "1                                  0   \n",
       "2                                  0   \n",
       "3                                  0   \n",
       "4                                  0   \n",
       "\n",
       "   authors_Émile Zola-Robert Lethbridge-Elinor Dorday  \\\n",
       "0                                                  0    \n",
       "1                                                  0    \n",
       "2                                                  0    \n",
       "3                                                  0    \n",
       "4                                                  0    \n",
       "\n",
       "   authors_Émile Zola-Robin Buss-Brian  Nelson  \\\n",
       "0                                            0   \n",
       "1                                            0   \n",
       "2                                            0   \n",
       "3                                            0   \n",
       "4                                            0   \n",
       "\n",
       "   authors_Émile Zola-Roger Pearson  \n",
       "0                                 0  \n",
       "1                                 0  \n",
       "2                                 0  \n",
       "3                                 0  \n",
       "4                                 0  \n",
       "\n",
       "[5 rows x 5405 columns]"
      ]
     },
     "execution_count": 123,
     "metadata": {},
     "output_type": "execute_result"
    }
   ],
   "source": [
    "#am trying klustering with auther as a feature, since most authors in df only have one book, this may not\n",
    "#be the best idea, but I see what happen and intend to try other means to examine the data as well\n",
    "from sklearn.cluster import KMeans\n",
    "\n",
    "allengdf2 = pd.get_dummies(allengdf, columns=['authors'])\n",
    "allengdf2.head()\n"
   ]
  },
  {
   "cell_type": "code",
   "execution_count": 124,
   "metadata": {},
   "outputs": [
    {
     "name": "stderr",
     "output_type": "stream",
     "text": [
      "C:\\Users\\kathy\\Anaconda3\\lib\\site-packages\\sklearn\\preprocessing\\data.py:625: DataConversionWarning: Data with input dtype int64, float64 were all converted to float64 by StandardScaler.\n",
      "  return self.partial_fit(X, y)\n",
      "C:\\Users\\kathy\\Anaconda3\\lib\\site-packages\\sklearn\\base.py:462: DataConversionWarning: Data with input dtype int64, float64 were all converted to float64 by StandardScaler.\n",
      "  return self.fit(X, **fit_params).transform(X)\n"
     ]
    },
    {
     "ename": "KeyError",
     "evalue": "\"['pages'] not in index\"",
     "output_type": "error",
     "traceback": [
      "\u001b[1;31m---------------------------------------------------------------------------\u001b[0m",
      "\u001b[1;31mKeyError\u001b[0m                                  Traceback (most recent call last)",
      "\u001b[1;32m<ipython-input-124-cd20abf20682>\u001b[0m in \u001b[0;36m<module>\u001b[1;34m\u001b[0m\n\u001b[0;32m      1\u001b[0m \u001b[1;31m#scale selected features (z-socre)\u001b[0m\u001b[1;33m\u001b[0m\u001b[1;33m\u001b[0m\u001b[1;33m\u001b[0m\u001b[0m\n\u001b[0;32m      2\u001b[0m \u001b[0mallengdfstd\u001b[0m \u001b[1;33m=\u001b[0m \u001b[0mallengdf2\u001b[0m\u001b[1;33m\u001b[0m\u001b[1;33m\u001b[0m\u001b[0m\n\u001b[1;32m----> 3\u001b[1;33m \u001b[0mallengdfstd\u001b[0m\u001b[1;33m[\u001b[0m\u001b[1;33m[\u001b[0m\u001b[1;34m'average_rating'\u001b[0m\u001b[1;33m,\u001b[0m \u001b[1;34m'pages'\u001b[0m\u001b[1;33m,\u001b[0m \u001b[1;34m'ratings_count'\u001b[0m\u001b[1;33m,\u001b[0m \u001b[1;34m'text_reviews_count'\u001b[0m\u001b[1;33m]\u001b[0m\u001b[1;33m]\u001b[0m \u001b[1;33m=\u001b[0m \u001b[0mStandardScaler\u001b[0m\u001b[1;33m(\u001b[0m\u001b[1;33m)\u001b[0m\u001b[1;33m.\u001b[0m\u001b[0mfit_transform\u001b[0m\u001b[1;33m(\u001b[0m\u001b[0mallengdfstd\u001b[0m\u001b[1;33m[\u001b[0m\u001b[1;33m[\u001b[0m\u001b[1;34m'average_rating'\u001b[0m\u001b[1;33m,\u001b[0m \u001b[1;34m'pages_x'\u001b[0m\u001b[1;33m,\u001b[0m \u001b[1;34m'ratings_count'\u001b[0m\u001b[1;33m,\u001b[0m \u001b[1;34m'text_reviews_count'\u001b[0m\u001b[1;33m]\u001b[0m\u001b[1;33m]\u001b[0m\u001b[1;33m)\u001b[0m\u001b[1;33m\u001b[0m\u001b[1;33m\u001b[0m\u001b[0m\n\u001b[0m\u001b[0;32m      4\u001b[0m \u001b[0mallengdfstd\u001b[0m\u001b[1;33m.\u001b[0m\u001b[0mdrop\u001b[0m\u001b[1;33m(\u001b[0m\u001b[1;34m'title'\u001b[0m\u001b[1;33m,\u001b[0m \u001b[0maxis\u001b[0m \u001b[1;33m=\u001b[0m \u001b[1;36m1\u001b[0m\u001b[1;33m,\u001b[0m \u001b[0minplace\u001b[0m \u001b[1;33m=\u001b[0m \u001b[1;32mTrue\u001b[0m\u001b[1;33m)\u001b[0m\u001b[1;33m\u001b[0m\u001b[1;33m\u001b[0m\u001b[0m\n\u001b[0;32m      5\u001b[0m \u001b[0mallengdfstd\u001b[0m\u001b[1;33m.\u001b[0m\u001b[0mdrop\u001b[0m\u001b[1;33m(\u001b[0m\u001b[1;34m'language_code'\u001b[0m\u001b[1;33m,\u001b[0m \u001b[0maxis\u001b[0m \u001b[1;33m=\u001b[0m \u001b[1;36m1\u001b[0m\u001b[1;33m,\u001b[0m \u001b[0minplace\u001b[0m \u001b[1;33m=\u001b[0m \u001b[1;32mTrue\u001b[0m\u001b[1;33m)\u001b[0m\u001b[1;33m\u001b[0m\u001b[1;33m\u001b[0m\u001b[0m\n",
      "\u001b[1;32m~\\Anaconda3\\lib\\site-packages\\pandas\\core\\frame.py\u001b[0m in \u001b[0;36m__setitem__\u001b[1;34m(self, key, value)\u001b[0m\n\u001b[0;32m   3114\u001b[0m             \u001b[0mself\u001b[0m\u001b[1;33m.\u001b[0m\u001b[0m_setitem_frame\u001b[0m\u001b[1;33m(\u001b[0m\u001b[0mkey\u001b[0m\u001b[1;33m,\u001b[0m \u001b[0mvalue\u001b[0m\u001b[1;33m)\u001b[0m\u001b[1;33m\u001b[0m\u001b[1;33m\u001b[0m\u001b[0m\n\u001b[0;32m   3115\u001b[0m         \u001b[1;32melif\u001b[0m \u001b[0misinstance\u001b[0m\u001b[1;33m(\u001b[0m\u001b[0mkey\u001b[0m\u001b[1;33m,\u001b[0m \u001b[1;33m(\u001b[0m\u001b[0mSeries\u001b[0m\u001b[1;33m,\u001b[0m \u001b[0mnp\u001b[0m\u001b[1;33m.\u001b[0m\u001b[0mndarray\u001b[0m\u001b[1;33m,\u001b[0m \u001b[0mlist\u001b[0m\u001b[1;33m,\u001b[0m \u001b[0mIndex\u001b[0m\u001b[1;33m)\u001b[0m\u001b[1;33m)\u001b[0m\u001b[1;33m:\u001b[0m\u001b[1;33m\u001b[0m\u001b[1;33m\u001b[0m\u001b[0m\n\u001b[1;32m-> 3116\u001b[1;33m             \u001b[0mself\u001b[0m\u001b[1;33m.\u001b[0m\u001b[0m_setitem_array\u001b[0m\u001b[1;33m(\u001b[0m\u001b[0mkey\u001b[0m\u001b[1;33m,\u001b[0m \u001b[0mvalue\u001b[0m\u001b[1;33m)\u001b[0m\u001b[1;33m\u001b[0m\u001b[1;33m\u001b[0m\u001b[0m\n\u001b[0m\u001b[0;32m   3117\u001b[0m         \u001b[1;32melse\u001b[0m\u001b[1;33m:\u001b[0m\u001b[1;33m\u001b[0m\u001b[1;33m\u001b[0m\u001b[0m\n\u001b[0;32m   3118\u001b[0m             \u001b[1;31m# set column\u001b[0m\u001b[1;33m\u001b[0m\u001b[1;33m\u001b[0m\u001b[1;33m\u001b[0m\u001b[0m\n",
      "\u001b[1;32m~\\Anaconda3\\lib\\site-packages\\pandas\\core\\frame.py\u001b[0m in \u001b[0;36m_setitem_array\u001b[1;34m(self, key, value)\u001b[0m\n\u001b[0;32m   3140\u001b[0m                     \u001b[0mself\u001b[0m\u001b[1;33m[\u001b[0m\u001b[0mk1\u001b[0m\u001b[1;33m]\u001b[0m \u001b[1;33m=\u001b[0m \u001b[0mvalue\u001b[0m\u001b[1;33m[\u001b[0m\u001b[0mk2\u001b[0m\u001b[1;33m]\u001b[0m\u001b[1;33m\u001b[0m\u001b[1;33m\u001b[0m\u001b[0m\n\u001b[0;32m   3141\u001b[0m             \u001b[1;32melse\u001b[0m\u001b[1;33m:\u001b[0m\u001b[1;33m\u001b[0m\u001b[1;33m\u001b[0m\u001b[0m\n\u001b[1;32m-> 3142\u001b[1;33m                 \u001b[0mindexer\u001b[0m \u001b[1;33m=\u001b[0m \u001b[0mself\u001b[0m\u001b[1;33m.\u001b[0m\u001b[0mloc\u001b[0m\u001b[1;33m.\u001b[0m\u001b[0m_convert_to_indexer\u001b[0m\u001b[1;33m(\u001b[0m\u001b[0mkey\u001b[0m\u001b[1;33m,\u001b[0m \u001b[0maxis\u001b[0m\u001b[1;33m=\u001b[0m\u001b[1;36m1\u001b[0m\u001b[1;33m)\u001b[0m\u001b[1;33m\u001b[0m\u001b[1;33m\u001b[0m\u001b[0m\n\u001b[0m\u001b[0;32m   3143\u001b[0m                 \u001b[0mself\u001b[0m\u001b[1;33m.\u001b[0m\u001b[0m_check_setitem_copy\u001b[0m\u001b[1;33m(\u001b[0m\u001b[1;33m)\u001b[0m\u001b[1;33m\u001b[0m\u001b[1;33m\u001b[0m\u001b[0m\n\u001b[0;32m   3144\u001b[0m                 \u001b[0mself\u001b[0m\u001b[1;33m.\u001b[0m\u001b[0mloc\u001b[0m\u001b[1;33m.\u001b[0m\u001b[0m_setitem_with_indexer\u001b[0m\u001b[1;33m(\u001b[0m\u001b[1;33m(\u001b[0m\u001b[0mslice\u001b[0m\u001b[1;33m(\u001b[0m\u001b[1;32mNone\u001b[0m\u001b[1;33m)\u001b[0m\u001b[1;33m,\u001b[0m \u001b[0mindexer\u001b[0m\u001b[1;33m)\u001b[0m\u001b[1;33m,\u001b[0m \u001b[0mvalue\u001b[0m\u001b[1;33m)\u001b[0m\u001b[1;33m\u001b[0m\u001b[1;33m\u001b[0m\u001b[0m\n",
      "\u001b[1;32m~\\Anaconda3\\lib\\site-packages\\pandas\\core\\indexing.py\u001b[0m in \u001b[0;36m_convert_to_indexer\u001b[1;34m(self, obj, axis, is_setter)\u001b[0m\n\u001b[0;32m   1325\u001b[0m                 \u001b[1;32mif\u001b[0m \u001b[0mmask\u001b[0m\u001b[1;33m.\u001b[0m\u001b[0many\u001b[0m\u001b[1;33m(\u001b[0m\u001b[1;33m)\u001b[0m\u001b[1;33m:\u001b[0m\u001b[1;33m\u001b[0m\u001b[1;33m\u001b[0m\u001b[0m\n\u001b[0;32m   1326\u001b[0m                     raise KeyError('{mask} not in index'\n\u001b[1;32m-> 1327\u001b[1;33m                                    .format(mask=objarr[mask]))\n\u001b[0m\u001b[0;32m   1328\u001b[0m \u001b[1;33m\u001b[0m\u001b[0m\n\u001b[0;32m   1329\u001b[0m                 \u001b[1;32mreturn\u001b[0m \u001b[0mcom\u001b[0m\u001b[1;33m.\u001b[0m\u001b[0m_values_from_object\u001b[0m\u001b[1;33m(\u001b[0m\u001b[0mindexer\u001b[0m\u001b[1;33m)\u001b[0m\u001b[1;33m\u001b[0m\u001b[1;33m\u001b[0m\u001b[0m\n",
      "\u001b[1;31mKeyError\u001b[0m: \"['pages'] not in index\""
     ]
    }
   ],
   "source": [
    "#scale selected features (z-socre)\n",
    "allengdfstd = allengdf2\n",
    "allengdfstd[['average_rating', 'pages', 'ratings_count', 'text_reviews_count']] = StandardScaler().fit_transform(allengdfstd[['average_rating', 'pages_x', 'ratings_count', 'text_reviews_count']])\n",
    "allengdfstd.drop('title', axis = 1, inplace = True)\n",
    "allengdfstd.drop('language_code', axis = 1, inplace = True)\n",
    "#may get dummies for language later based on the 4 eng types)\n",
    "allengdfstd.to_csv('allengdfstd.csv')\n",
    "allengdfstd.head(5)"
   ]
  },
  {
   "cell_type": "code",
   "execution_count": null,
   "metadata": {},
   "outputs": [],
   "source": [
    "# find the appropriate cluster number - take long to run so commented out for the moment - running shows elbow at 4-5 clusters\n",
    "#plt.figure(figsize=(10, 8))\n",
    "#from sklearn.cluster import KMeans\n",
    "#wcss = []\n",
    "#for i in range(2, 12):\n",
    "#    kmeans = KMeans(n_clusters = i, init = 'k-means++', random_state = 42)\n",
    "#    kmeans.fit(allengdfstd)\n",
    "#    wcss.append(kmeans.inertia_)\n",
    "#plt.plot(range(1, 11), wcss)\n",
    "#plt.title('The Elbow Method')\n",
    "#plt.xlabel('Number of clusters')\n",
    "#plt.ylabel('WCSS')\n",
    "#plt.show()"
   ]
  },
  {
   "cell_type": "code",
   "execution_count": null,
   "metadata": {},
   "outputs": [],
   "source": [
    "#Within Cluster Sum of Squares (for my info)"
   ]
  },
  {
   "cell_type": "code",
   "execution_count": null,
   "metadata": {},
   "outputs": [],
   "source": [
    "# Fitting data with K means\n",
    "kmeans = KMeans(n_clusters = 4, init = 'k-means++', random_state = 42)\n",
    "#But you're not going to like it....\n",
    "clust_labels = kmeans.fit_predict(allengdfstd)\n",
    "cent = kmeans.cluster_centers_\n",
    "catlabels = clust_labels + 1\n",
    "\n",
    "\n",
    "cluster = pd.DataFrame(catlabels)\n",
    "allengdf2['cluster'] = cluster\n",
    "#for export to csv.\n",
    "allengdfstd['cluster'] = cluster\n",
    "allengdfstd.to_csv('Kmeans4results.csv')\n",
    "kmeans_mean_cluster = pd.DataFrame(round(allengdf2.groupby('cluster').mean(),1))\n",
    "kmeans_mean_cluster"
   ]
  },
  {
   "cell_type": "code",
   "execution_count": 125,
   "metadata": {},
   "outputs": [
    {
     "ename": "NameError",
     "evalue": "name 'cluster' is not defined",
     "output_type": "error",
     "traceback": [
      "\u001b[1;31m---------------------------------------------------------------------------\u001b[0m",
      "\u001b[1;31mNameError\u001b[0m                                 Traceback (most recent call last)",
      "\u001b[1;32m<ipython-input-125-96dd9ea07cf0>\u001b[0m in \u001b[0;36m<module>\u001b[1;34m\u001b[0m\n\u001b[0;32m      1\u001b[0m \u001b[0mfig\u001b[0m \u001b[1;33m=\u001b[0m \u001b[0mplt\u001b[0m\u001b[1;33m.\u001b[0m\u001b[0mfigure\u001b[0m\u001b[1;33m(\u001b[0m\u001b[0mfigsize\u001b[0m\u001b[1;33m=\u001b[0m\u001b[1;33m(\u001b[0m\u001b[1;36m14\u001b[0m\u001b[1;33m,\u001b[0m \u001b[1;36m10\u001b[0m\u001b[1;33m)\u001b[0m\u001b[1;33m)\u001b[0m\u001b[1;33m\u001b[0m\u001b[1;33m\u001b[0m\u001b[0m\n\u001b[0;32m      2\u001b[0m \u001b[0max\u001b[0m \u001b[1;33m=\u001b[0m \u001b[0mfig\u001b[0m\u001b[1;33m.\u001b[0m\u001b[0madd_subplot\u001b[0m\u001b[1;33m(\u001b[0m\u001b[1;36m111\u001b[0m\u001b[1;33m)\u001b[0m\u001b[1;33m\u001b[0m\u001b[1;33m\u001b[0m\u001b[0m\n\u001b[1;32m----> 3\u001b[1;33m \u001b[0mscatter\u001b[0m \u001b[1;33m=\u001b[0m \u001b[0max\u001b[0m\u001b[1;33m.\u001b[0m\u001b[0mscatter\u001b[0m\u001b[1;33m(\u001b[0m\u001b[0mallengdf2\u001b[0m\u001b[1;33m[\u001b[0m\u001b[1;34m'authors_Agatha Christie'\u001b[0m\u001b[1;33m]\u001b[0m\u001b[1;33m,\u001b[0m \u001b[0mallengdf2\u001b[0m\u001b[1;33m[\u001b[0m\u001b[1;34m'average_rating'\u001b[0m\u001b[1;33m]\u001b[0m\u001b[1;33m,\u001b[0m \u001b[0mc\u001b[0m\u001b[1;33m=\u001b[0m \u001b[0mcluster\u001b[0m\u001b[1;33m[\u001b[0m\u001b[1;36m0\u001b[0m\u001b[1;33m]\u001b[0m\u001b[1;33m,\u001b[0m \u001b[0ms\u001b[0m\u001b[1;33m=\u001b[0m\u001b[1;36m50\u001b[0m\u001b[1;33m,\u001b[0m \u001b[0mcmap\u001b[0m\u001b[1;33m=\u001b[0m\u001b[1;34m'gist_rainbow'\u001b[0m\u001b[1;33m)\u001b[0m\u001b[1;33m\u001b[0m\u001b[1;33m\u001b[0m\u001b[0m\n\u001b[0m\u001b[0;32m      4\u001b[0m \u001b[0max\u001b[0m\u001b[1;33m.\u001b[0m\u001b[0mset_title\u001b[0m\u001b[1;33m(\u001b[0m\u001b[1;34m'K-Means Clustering'\u001b[0m\u001b[1;33m)\u001b[0m\u001b[1;33m\u001b[0m\u001b[1;33m\u001b[0m\u001b[0m\n\u001b[0;32m      5\u001b[0m \u001b[0max\u001b[0m\u001b[1;33m.\u001b[0m\u001b[0mset_xlabel\u001b[0m\u001b[1;33m(\u001b[0m\u001b[1;34m'authors_Agatha Christie'\u001b[0m\u001b[1;33m)\u001b[0m\u001b[1;33m\u001b[0m\u001b[1;33m\u001b[0m\u001b[0m\n",
      "\u001b[1;31mNameError\u001b[0m: name 'cluster' is not defined"
     ]
    },
    {
     "data": {
      "image/png": "[encoded data removed]",
      "text/plain": [
       "<Figure size 1008x720 with 1 Axes>"
      ]
     },
     "metadata": {
      "needs_background": "light"
     },
     "output_type": "display_data"
    }
   ],
   "source": [
    "fig = plt.figure(figsize=(14, 10))\n",
    "ax = fig.add_subplot(111)\n",
    "scatter = ax.scatter(allengdf2['authors_Agatha Christie'], allengdf2['average_rating'], c= cluster[0], s=50, cmap='gist_rainbow')\n",
    "ax.set_title('K-Means Clustering')\n",
    "ax.set_xlabel('authors_Agatha Christie')\n",
    "ax.set_ylabel('average_rating')\n"
   ]
  },
  {
   "cell_type": "code",
   "execution_count": null,
   "metadata": {},
   "outputs": [],
   "source": []
  },
  {
   "cell_type": "code",
   "execution_count": null,
   "metadata": {},
   "outputs": [],
   "source": []
  },
  {
   "cell_type": "code",
   "execution_count": null,
   "metadata": {},
   "outputs": [],
   "source": []
  },
  {
   "cell_type": "code",
   "execution_count": null,
   "metadata": {},
   "outputs": [],
   "source": [
    "df[\"authors\"].value_counts().head(10)"
   ]
  },
  {
   "cell_type": "code",
   "execution_count": null,
   "metadata": {},
   "outputs": [],
   "source": [
    "best=df.sort_values(by='average_rating', ascending=False).head(20)\n",
    "best.head(10)"
   ]
  },
  {
   "cell_type": "code",
   "execution_count": null,
   "metadata": {},
   "outputs": [],
   "source": [
    "fivestar = df['average_rating'] == 5.0\n",
    "allfivestar = df[fivestar]\n",
    "print(allfivestar.shape)\n",
    "\n",
    "print(allfivestar.head())"
   ]
  },
  {
   "cell_type": "code",
   "execution_count": null,
   "metadata": {},
   "outputs": [],
   "source": [
    "\n"
   ]
  },
  {
   "cell_type": "code",
   "execution_count": null,
   "metadata": {},
   "outputs": [],
   "source": []
  },
  {
   "cell_type": "code",
   "execution_count": null,
   "metadata": {},
   "outputs": [],
   "source": []
  },
  {
   "cell_type": "code",
   "execution_count": null,
   "metadata": {},
   "outputs": [],
   "source": [
    "plt.scatter(df.authors, df.average_rating, s = np.array(df.ratings_count) * 4.5)\n",
    "plt.xlabel('x')\n",
    "plt.ylabel('y')\n",
    "\n",
    "plt.show"
   ]
  },
  {
   "cell_type": "code",
   "execution_count": null,
   "metadata": {},
   "outputs": [],
   "source": [
    "sns.barplot(y=bigdf['title'], x=bigdf['ratings_count'], palette = 'Accent')"
   ]
  },
  {
   "cell_type": "code",
   "execution_count": null,
   "metadata": {},
   "outputs": [],
   "source": [
    "bestauthors = df.groupby('authors')['average_rating'].mean().reset_index().sort_values('average_rating', \n",
    "ascending=False).head(25)\n",
    "\n",
    "sns.barplot(y=bestauthors['authors'],x=bestauthors['average_rating'], palette = 'Accent')"
   ]
  },
  {
   "cell_type": "code",
   "execution_count": null,
   "metadata": {},
   "outputs": [],
   "source": [
    "#Random Forest before scaling no dumbies\n",
    "from sklearn.model_selection import train_test_split\n",
    "from sklearn.ensemble import RandomForestClassifier\n",
    "from sklearn import metrics\n",
    "meanten = []\n",
    "for i in range(1,11):\n",
    "    X_train, X_test, y_train, y_test = train_test_split(x, y, test_size=0.2) \n",
    "    RFmodel=RandomForestClassifier(n_estimators=10)\n",
    "    RFmodel.fit(X_train,y_train)\n",
    "    y_pred=RFmodel.predict(X_test)\n",
    "    acc = metrics.accuracy_score(y_test, y_pred)\n",
    "    print(acc)\n",
    "    meanten.append(acc)\n",
    "print('RF (no scaling, no dummies) Accuracy (mean of 10)', np.array(meanten).mean())"
   ]
  },
  {
   "cell_type": "code",
   "execution_count": null,
   "metadata": {},
   "outputs": [],
   "source": [
    "from sklearn.tree import DecisionTreeClassifier\n",
    "DTmodel = DecisionTreeClassifier()\n",
    "meanten = []\n",
    "for i in range(1,11):\n",
    "    X_train, X_test, y_train, y_test = train_test_split(x, y, test_size=0.2) \n",
    "    DTmodel.fit(X_train,y_train)\n",
    "    y_pred=DTmodel.predict(X_test)\n",
    "    acc = metrics.accuracy_score(y_test, y_pred)\n",
    "    print(acc)\n",
    "    meanten.append(acc)\n",
    "print('DT (no scaling, no dummies) Accuracy (mean of 10)', np.array(meanten).mean())"
   ]
  },
  {
   "cell_type": "code",
   "execution_count": null,
   "metadata": {},
   "outputs": [],
   "source": [
    "from keras.utils import to_categorical\n",
    "Y_train = to_categorical(y_train)\n",
    "Y_test = to_categorical(y_test)"
   ]
  },
  {
   "cell_type": "code",
   "execution_count": null,
   "metadata": {},
   "outputs": [],
   "source": [
    "from sklearn.tree import DecisionTreeClassifier\n",
    "DTmodel = DecisionTreeClassifier()\n",
    "meanten = []\n",
    "for i in range(1,11):\n",
    "    X_train, X_test, y_train, y_test = train_test_split(x_d, y, test_size=0.2) \n",
    "    DTmodel.fit(X_train,y_train)\n",
    "    y_pred=DTmodel.predict(X_test)\n",
    "    acc = metrics.accuracy_score(y_test, y_pred)\n",
    "    meanten.append(acc)\n",
    "print('DT (no scaling, w/ dummies) Accuracy (mean of 10)', np.array(meanten).mean())"
   ]
  },
  {
   "cell_type": "code",
   "execution_count": null,
   "metadata": {},
   "outputs": [],
   "source": [
    "#reduced dataset -remove selected features with low corr to target\n",
    "xdropch_fb = x.drop('chol', axis =1)\n",
    "xdropch_fb = xdropch_fb.drop('fbs', axis =1)\n",
    "xdropch_fb.head()"
   ]
  },
  {
   "cell_type": "code",
   "execution_count": null,
   "metadata": {},
   "outputs": [],
   "source": [
    "#RF with reduced dataset no dummies\n",
    "meanten = []\n",
    "for i in range(1,11):\n",
    "    X_train, X_test, y_train, y_test = train_test_split(xdropch_fb, y, test_size=0.3) \n",
    "    RFmodel=RandomForestClassifier(n_estimators=10)\n",
    "    RFmodel.fit(X_train,y_train)\n",
    "    y_pred=RFmodel.predict(X_test)\n",
    "    acc = metrics.accuracy_score(y_test, y_pred)\n",
    "    print(\"Accuracy:\", acc)\n",
    "    meanten.append(acc)\n",
    "print('RF (reduced data, no scaling, no dummies) Accuracy (mean of 10)', np.array(meanten).mean())"
   ]
  },
  {
   "cell_type": "code",
   "execution_count": null,
   "metadata": {},
   "outputs": [],
   "source": [
    "meanten = []\n",
    "for i in range(1,11):\n",
    "    X_train, X_test, y_train, y_test = train_test_split(xdropch_fb, y, test_size=0.2) \n",
    "    DTmodel.fit(X_train,y_train)\n",
    "    y_pred=DTmodel.predict(X_test)\n",
    "    acc = metrics.accuracy_score(y_test, y_pred)\n",
    "    meanten.append(acc)\n",
    "print('DT (reduced data, no scaling, no dummies) Accuracy (mean of 10)', np.array(meanten).mean())"
   ]
  },
  {
   "cell_type": "code",
   "execution_count": null,
   "metadata": {},
   "outputs": [],
   "source": [
    "#categorical data \"transformation\" of reduced dataset\n",
    "xdropch_fbd = pd.get_dummies(xdropch_fb, columns=['sex', 'exang', 'thal'])\n",
    "xdropch_fbd.head()"
   ]
  },
  {
   "cell_type": "code",
   "execution_count": null,
   "metadata": {},
   "outputs": [],
   "source": [
    "meanten = []\n",
    "for i in range(1,11):\n",
    "    X_train, X_test, y_train, y_test = train_test_split(xdropch_fbd, y, test_size=0.2) \n",
    "    RFmodel=RandomForestClassifier(n_estimators=10)\n",
    "    RFmodel.fit(X_train,y_train)\n",
    "    y_pred=RFmodel.predict(X_test)\n",
    "    acc = metrics.accuracy_score(y_test, y_pred)\n",
    "    print(\"Accuracy:\", acc)\n",
    "    meanten.append(acc)\n",
    "print(np.array(meanten).mean())"
   ]
  },
  {
   "cell_type": "code",
   "execution_count": null,
   "metadata": {},
   "outputs": [],
   "source": [
    "meanten = []\n",
    "for i in range(1,11):\n",
    "    X_train, X_test, y_train, y_test = train_test_split(xdropch_fbd, y, test_size=0.2) \n",
    "    DTmodel.fit(X_train,y_train)\n",
    "    y_pred=DTmodel.predict(X_test)\n",
    "    acc = metrics.accuracy_score(y_test, y_pred)\n",
    "    print(acc)\n",
    "    meanten.append(acc)\n",
    "print('Accuracy (mean of 10)', np.array(meanten).mean())"
   ]
  },
  {
   "cell_type": "code",
   "execution_count": null,
   "metadata": {},
   "outputs": [],
   "source": [
    "#scale selected features (z-socre), dataset with dummies\n",
    "x_ds = x_d\n",
    "x_ds[['age', 'trestbps', 'chol', 'thalach', 'oldpeak']] = StandardScaler().fit_transform(x_ds[['age', 'trestbps', 'chol', 'thalach', 'oldpeak']])\n",
    "x_ds.head()"
   ]
  },
  {
   "cell_type": "code",
   "execution_count": null,
   "metadata": {},
   "outputs": [],
   "source": []
  },
  {
   "cell_type": "code",
   "execution_count": null,
   "metadata": {},
   "outputs": [],
   "source": [
    "meanten = []\n",
    "for i in range(1,11):\n",
    "    X_train, X_test, y_train, y_test = train_test_split(x_ds, y, test_size=0.2) \n",
    "    DTmodel.fit(X_train,y_train)\n",
    "    y_pred=DTmodel.predict(X_test)\n",
    "    acc = metrics.accuracy_score(y_test, y_pred)\n",
    "    meanten.append(acc)\n",
    "print('Accuracy (mean of 100)', np.array(meanten).mean())"
   ]
  },
  {
   "cell_type": "code",
   "execution_count": null,
   "metadata": {},
   "outputs": [],
   "source": []
  },
  {
   "cell_type": "code",
   "execution_count": null,
   "metadata": {},
   "outputs": [],
   "source": [
    "plt.hist(oldpeaklog, bins=10)\n",
    "plt.ylabel('No of times')\n",
    "plt.show()"
   ]
  },
  {
   "cell_type": "code",
   "execution_count": null,
   "metadata": {},
   "outputs": [],
   "source": [
    "plt.hist(heartdata['oldpeak'])\n",
    "plt.ylabel('#')\n",
    "plt.show"
   ]
  },
  {
   "cell_type": "code",
   "execution_count": null,
   "metadata": {},
   "outputs": [],
   "source": [
    "plt.scatter(heartdata['oldpeak'], y)\n",
    "plt.show\n"
   ]
  },
  {
   "cell_type": "code",
   "execution_count": null,
   "metadata": {},
   "outputs": [],
   "source": [
    "# not sure how to transform so will leave simply as z-score for now, looks like ca same\n",
    "#these have a decent negative correlation with target so maybe be helpful if properly transformed \n",
    "#maybe binning, maybe not necessary"
   ]
  },
  {
   "cell_type": "code",
   "execution_count": null,
   "metadata": {},
   "outputs": [],
   "source": [
    "#scout classifiers with scaled data (RF and DT included even tho don't need scaling)\n",
    "#first - x_ds - all featured\n",
    "from sklearn.model_selection import train_test_split\n",
    "X_train, X_test, y_train, y_test = train_test_split(x_ds, y, test_size=0.2) \n",
    "\n",
    "from sklearn import metrics"
   ]
  },
  {
   "cell_type": "code",
   "execution_count": null,
   "metadata": {},
   "outputs": [],
   "source": [
    "#scout classifiers with transformed data\n",
    "from sklearn.ensemble import RandomForestClassifier\n",
    "from sklearn import svm\n",
    "from sklearn.tree import DecisionTreeClassifier\n",
    "from sklearn.neighbors import KNeighborsClassifier\n",
    "from sklearn.linear_model import LogisticRegression\n",
    "\n",
    "classifiers = []\n",
    "RFmodel = RandomForestClassifier()\n",
    "classifiers.append(RFmodel)\n",
    "SVMmodel = svm.SVC()\n",
    "classifiers.append(SVMmodel)\n",
    "DTmodel = DecisionTreeClassifier()\n",
    "classifiers.append(DTmodel)\n",
    "KNmodel = KNeighborsClassifier(n_neighbors=3)\n",
    "classifiers.append(KNmodel)\n",
    "LRmodel = LogisticRegression()\n",
    "classifiers.append(LRmodel)"
   ]
  },
  {
   "cell_type": "code",
   "execution_count": null,
   "metadata": {},
   "outputs": [],
   "source": [
    "for i in classifiers:\n",
    "    i.fit(X_train, y_train)\n",
    "    y_pred= i.predict(X_test)\n",
    "    print((i))\n",
    "    print('Model score: ', i.score(X_train, y_train))\n",
    "    print(\"Accuracy:  \", metrics.accuracy_score(y_test, y_pred))\n",
    "    cm = metrics.confusion_matrix(y_test, y_pred)\n",
    "    print(\"Confusion Matrix: \")\n",
    "    print(cm)\n",
    "    print()"
   ]
  },
  {
   "cell_type": "code",
   "execution_count": null,
   "metadata": {},
   "outputs": [],
   "source": [
    "#second - xdropch_fbds - all featured\n",
    "from sklearn.model_selection import train_test_split\n",
    "X_train, X_test, y_train, y_test = train_test_split(xdropch_fbds, y, test_size=0.2) "
   ]
  },
  {
   "cell_type": "code",
   "execution_count": null,
   "metadata": {},
   "outputs": [],
   "source": [
    "for i in classifiers:\n",
    "    i.fit(X_train, y_train)\n",
    "    y_pred= i.predict(X_test)\n",
    "    print((i))\n",
    "    print('Model score: ', i.score(X_train, y_train))\n",
    "    print(\"Accuracy:  \", metrics.accuracy_score(y_test, y_pred))\n",
    "    cm = metrics.confusion_matrix(y_test, y_pred)\n",
    "    print(\"Confusion Matrix: \")\n",
    "    print(cm)\n",
    "    print()\n",
    "    "
   ]
  },
  {
   "cell_type": "code",
   "execution_count": null,
   "metadata": {},
   "outputs": [],
   "source": [
    "\n"
   ]
  },
  {
   "cell_type": "code",
   "execution_count": null,
   "metadata": {},
   "outputs": [],
   "source": []
  },
  {
   "cell_type": "code",
   "execution_count": null,
   "metadata": {},
   "outputs": [],
   "source": []
  }
 ],
 "metadata": {
  "kernelspec": {
   "display_name": "Python 3",
   "language": "python",
   "name": "python3"
  },
  "language_info": {
   "codemirror_mode": {
    "name": "ipython",
    "version": 3
   },
   "file_extension": ".py",
   "mimetype": "text/x-python",
   "name": "python",
   "nbconvert_exporter": "python",
   "pygments_lexer": "ipython3",
   "version": "3.7.1"
  }
 },
 "nbformat": 4,
 "nbformat_minor": 2
}
